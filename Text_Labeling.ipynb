{
  "nbformat": 4,
  "nbformat_minor": 0,
  "metadata": {
    "colab": {
      "name": "Text_Labeling.ipynb",
      "provenance": [],
      "collapsed_sections": [],
      "toc_visible": true
    },
    "kernelspec": {
      "name": "python3",
      "display_name": "Python 3"
    },
    "language_info": {
      "name": "python"
    }
  },
  "cells": [
    {
      "cell_type": "markdown",
      "source": [
        "#Getting data from Label Studio"
      ],
      "metadata": {
        "id": "EGK6f4_vk5UR"
      }
    },
    {
      "cell_type": "markdown",
      "source": [
        "**First we install the necessary libraries**"
      ],
      "metadata": {
        "id": "DI4i6RNyWwtU"
      }
    },
    {
      "cell_type": "code",
      "execution_count": null,
      "metadata": {
        "colab": {
          "base_uri": "https://localhost:8080/",
          "height": 1000
        },
        "id": "l5O-EvD1z3ZS",
        "outputId": "38a0cc3f-0daa-473c-a5ff-9355ad98210d"
      },
      "outputs": [
        {
          "output_type": "stream",
          "name": "stdout",
          "text": [
            "Collecting label_studio\n",
            "  Downloading label_studio-1.4.1.post1-py3-none-any.whl (42.8 MB)\n",
            "\u001b[K     |████████████████████████████████| 42.8 MB 1.5 MB/s \n",
            "\u001b[?25hRequirement already satisfied: appdirs>=1.4.3 in /usr/local/lib/python3.7/dist-packages (from label_studio) (1.4.4)\n",
            "Collecting pytz==2019.3\n",
            "  Downloading pytz-2019.3-py2.py3-none-any.whl (509 kB)\n",
            "\u001b[K     |████████████████████████████████| 509 kB 50.6 MB/s \n",
            "\u001b[?25hCollecting boto3~=1.16.28\n",
            "  Downloading boto3-1.16.63-py2.py3-none-any.whl (130 kB)\n",
            "\u001b[K     |████████████████████████████████| 130 kB 59.3 MB/s \n",
            "\u001b[?25hCollecting google-cloud-storage~=1.29.0\n",
            "  Downloading google_cloud_storage-1.29.0-py2.py3-none-any.whl (85 kB)\n",
            "\u001b[K     |████████████████████████████████| 85 kB 3.4 MB/s \n",
            "\u001b[?25hCollecting attr==0.3.1\n",
            "  Downloading attr-0.3.1.tar.gz (1.7 kB)\n",
            "Collecting boto~=2.49.0\n",
            "  Downloading boto-2.49.0-py2.py3-none-any.whl (1.4 MB)\n",
            "\u001b[K     |████████████████████████████████| 1.4 MB 44.8 MB/s \n",
            "\u001b[?25hRequirement already satisfied: requests<3,>=2.22.0 in /usr/local/lib/python3.7/dist-packages (from label_studio) (2.23.0)\n",
            "Collecting drf-generators==0.3.0\n",
            "  Downloading drf-generators-0.3.0.tar.gz (9.4 kB)\n",
            "Collecting rules==2.2\n",
            "  Downloading rules-2.2.tar.gz (53 kB)\n",
            "\u001b[K     |████████████████████████████████| 53 kB 1.4 MB/s \n",
            "\u001b[?25hRequirement already satisfied: wheel in /usr/local/lib/python3.7/dist-packages (from label_studio) (0.37.1)\n",
            "Collecting azure-storage-blob>=12.6.0\n",
            "  Downloading azure_storage_blob-12.10.0-py3-none-any.whl (346 kB)\n",
            "\u001b[K     |████████████████████████████████| 346 kB 52.3 MB/s \n",
            "\u001b[?25hCollecting colorama>=0.4.4\n",
            "  Downloading colorama-0.4.4-py2.py3-none-any.whl (16 kB)\n",
            "Collecting django-annoying==0.10.6\n",
            "  Downloading django_annoying-0.10.6-py2.py3-none-any.whl (9.5 kB)\n",
            "Collecting rq==1.10.0\n",
            "  Downloading rq-1.10.0-py2.py3-none-any.whl (68 kB)\n",
            "\u001b[K     |████████████████████████████████| 68 kB 5.3 MB/s \n",
            "\u001b[?25hCollecting drf-flex-fields==0.9.5\n",
            "  Downloading drf-flex-fields-0.9.5.tar.gz (27 kB)\n",
            "Collecting Django==3.1.14\n",
            "  Downloading Django-3.1.14-py3-none-any.whl (7.8 MB)\n",
            "\u001b[K     |████████████████████████████████| 7.8 MB 27.9 MB/s \n",
            "\u001b[?25hCollecting htmlmin==0.1.12\n",
            "  Downloading htmlmin-0.1.12.tar.gz (19 kB)\n",
            "Requirement already satisfied: numpy>=1.19.1 in /usr/local/lib/python3.7/dist-packages (from label_studio) (1.21.5)\n",
            "Collecting django-extensions==3.1.0\n",
            "  Downloading django_extensions-3.1.0-py3-none-any.whl (222 kB)\n",
            "\u001b[K     |████████████████████████████████| 222 kB 61.5 MB/s \n",
            "\u001b[?25hCollecting grpc-google-iam-v1==0.12.3\n",
            "  Downloading grpc-google-iam-v1-0.12.3.tar.gz (13 kB)\n",
            "Collecting pyyaml>=5.3.1\n",
            "  Downloading PyYAML-6.0-cp37-cp37m-manylinux_2_5_x86_64.manylinux1_x86_64.manylinux_2_12_x86_64.manylinux2010_x86_64.whl (596 kB)\n",
            "\u001b[K     |████████████████████████████████| 596 kB 45.8 MB/s \n",
            "\u001b[?25hCollecting django-filter==2.4.0\n",
            "  Downloading django_filter-2.4.0-py3-none-any.whl (73 kB)\n",
            "\u001b[K     |████████████████████████████████| 73 kB 1.4 MB/s \n",
            "\u001b[?25hCollecting drf-yasg==1.20.0\n",
            "  Downloading drf_yasg-1.20.0-py2.py3-none-any.whl (1.6 MB)\n",
            "\u001b[K     |████████████████████████████████| 1.6 MB 40.9 MB/s \n",
            "\u001b[?25hCollecting xmljson==0.2.0\n",
            "  Downloading xmljson-0.2.0-py2.py3-none-any.whl (14 kB)\n",
            "Collecting label-studio-tools==0.0.0.dev11\n",
            "  Downloading label_studio_tools-0.0.0.dev11-py3-none-any.whl (9.8 kB)\n",
            "Collecting google-resumable-media==0.5.1\n",
            "  Downloading google_resumable_media-0.5.1-py2.py3-none-any.whl (38 kB)\n",
            "Collecting django-cors-headers==3.6.0\n",
            "  Downloading django_cors_headers-3.6.0-py3-none-any.whl (12 kB)\n",
            "Collecting django-user-agents==0.4.0\n",
            "  Downloading django_user_agents-0.4.0-py3-none-any.whl (8.6 kB)\n",
            "Collecting google-cloud-audit-log==0.2.0\n",
            "  Downloading google_cloud_audit_log-0.2.0-py2.py3-none-any.whl (14 kB)\n",
            "Collecting jsonschema==3.2.0\n",
            "  Downloading jsonschema-3.2.0-py2.py3-none-any.whl (56 kB)\n",
            "\u001b[K     |████████████████████████████████| 56 kB 4.4 MB/s \n",
            "\u001b[?25hCollecting psycopg2-binary==2.9.1\n",
            "  Downloading psycopg2_binary-2.9.1-cp37-cp37m-manylinux_2_17_x86_64.manylinux2014_x86_64.whl (3.4 MB)\n",
            "\u001b[K     |████████████████████████████████| 3.4 MB 46.4 MB/s \n",
            "\u001b[?25hCollecting sentry-sdk>=1.1.0\n",
            "  Downloading sentry_sdk-1.5.7-py2.py3-none-any.whl (144 kB)\n",
            "\u001b[K     |████████████████████████████████| 144 kB 69.7 MB/s \n",
            "\u001b[?25hCollecting google-api-core==1.31.5\n",
            "  Downloading google_api_core-1.31.5-py2.py3-none-any.whl (93 kB)\n",
            "\u001b[K     |████████████████████████████████| 93 kB 1.5 MB/s \n",
            "\u001b[?25hRequirement already satisfied: google-auth==1.35.0 in /usr/local/lib/python3.7/dist-packages (from label_studio) (1.35.0)\n",
            "Collecting python-dateutil==2.8.1\n",
            "  Downloading python_dateutil-2.8.1-py2.py3-none-any.whl (227 kB)\n",
            "\u001b[K     |████████████████████████████████| 227 kB 48.8 MB/s \n",
            "\u001b[?25hCollecting django-rest-swagger==2.2.0\n",
            "  Downloading django_rest_swagger-2.2.0-py2.py3-none-any.whl (495 kB)\n",
            "\u001b[K     |████████████████████████████████| 495 kB 51.1 MB/s \n",
            "\u001b[?25hCollecting pydantic<=1.8.2,>=1.7.3\n",
            "  Downloading pydantic-1.8.2-cp37-cp37m-manylinux2014_x86_64.whl (10.1 MB)\n",
            "\u001b[K     |████████████████████████████████| 10.1 MB 38.0 MB/s \n",
            "\u001b[?25hCollecting drf-dynamic-fields==0.3.0\n",
            "  Downloading drf_dynamic_fields-0.3.0-py2.py3-none-any.whl (6.6 kB)\n",
            "Requirement already satisfied: protobuf>=3.15.5 in /usr/local/lib/python3.7/dist-packages (from label_studio) (3.17.3)\n",
            "Collecting launchdarkly-server-sdk==7.3.0\n",
            "  Downloading launchdarkly-server-sdk-7.3.0.tar.gz (103 kB)\n",
            "\u001b[K     |████████████████████████████████| 103 kB 60.0 MB/s \n",
            "\u001b[?25hCollecting redis>=3.5.0\n",
            "  Downloading redis-4.1.4-py3-none-any.whl (175 kB)\n",
            "\u001b[K     |████████████████████████████████| 175 kB 44.1 MB/s \n",
            "\u001b[?25hCollecting django-debug-toolbar==3.2.1\n",
            "  Downloading django_debug_toolbar-3.2.1-py3-none-any.whl (199 kB)\n",
            "\u001b[K     |████████████████████████████████| 199 kB 57.3 MB/s \n",
            "\u001b[?25hCollecting ordered-set==4.0.2\n",
            "  Downloading ordered-set-4.0.2.tar.gz (10 kB)\n",
            "Requirement already satisfied: attrs>=19.2.0 in /usr/local/lib/python3.7/dist-packages (from label_studio) (21.4.0)\n",
            "Requirement already satisfied: pandas>=0.24.0 in /usr/local/lib/python3.7/dist-packages (from label_studio) (1.3.5)\n",
            "Collecting django-ranged-fileresponse>=0.1.2\n",
            "  Downloading django-ranged-fileresponse-0.1.2.tar.gz (2.7 kB)\n",
            "Collecting label-studio-converter==0.0.39\n",
            "  Downloading label_studio_converter-0.0.39-py3-none-any.whl (26 kB)\n",
            "Collecting google-cloud-core==1.5.0\n",
            "  Downloading google_cloud_core-1.5.0-py2.py3-none-any.whl (27 kB)\n",
            "Collecting botocore~=1.19.28\n",
            "  Downloading botocore-1.19.63-py2.py3-none-any.whl (7.2 MB)\n",
            "\u001b[K     |████████████████████████████████| 7.2 MB 39.0 MB/s \n",
            "\u001b[?25hCollecting googleapis-common-protos==1.52.0\n",
            "  Downloading googleapis_common_protos-1.52.0-py2.py3-none-any.whl (100 kB)\n",
            "\u001b[K     |████████████████████████████████| 100 kB 9.3 MB/s \n",
            "\u001b[?25hCollecting django-model-utils==4.1.1\n",
            "  Downloading django_model_utils-4.1.1-py3-none-any.whl (32 kB)\n",
            "Collecting lockfile>=0.12.0\n",
            "  Downloading lockfile-0.12.2-py2.py3-none-any.whl (13 kB)\n",
            "Collecting google-cloud-logging~=2.7.0\n",
            "  Downloading google_cloud_logging-2.7.0-py2.py3-none-any.whl (173 kB)\n",
            "\u001b[K     |████████████████████████████████| 173 kB 56.6 MB/s \n",
            "\u001b[?25hCollecting google-cloud-appengine-logging==1.1.0\n",
            "  Downloading google_cloud_appengine_logging-1.1.0-py2.py3-none-any.whl (14 kB)\n",
            "Collecting ujson>=3.0.0\n",
            "  Downloading ujson-5.1.0-cp37-cp37m-manylinux_2_17_x86_64.manylinux2014_x86_64.whl (43 kB)\n",
            "\u001b[K     |████████████████████████████████| 43 kB 2.2 MB/s \n",
            "\u001b[?25hRequirement already satisfied: lxml>=4.2.5 in /usr/local/lib/python3.7/dist-packages (from label_studio) (4.2.6)\n",
            "Collecting django-rq==2.4.1\n",
            "  Downloading django_rq-2.4.1-py2.py3-none-any.whl (45 kB)\n",
            "\u001b[K     |████████████████████████████████| 45 kB 3.6 MB/s \n",
            "\u001b[?25hCollecting boxing>=0.1.4\n",
            "  Downloading boxing-0.1.4-py3-none-any.whl (3.9 kB)\n",
            "Collecting asgiref<4,>=3.2.10\n",
            "  Downloading asgiref-3.5.0-py3-none-any.whl (22 kB)\n",
            "Requirement already satisfied: sqlparse>=0.2.2 in /usr/local/lib/python3.7/dist-packages (from Django==3.1.14->label_studio) (0.4.2)\n",
            "Requirement already satisfied: six in /usr/local/lib/python3.7/dist-packages (from django-annoying==0.10.6->label_studio) (1.15.0)\n",
            "Collecting djangorestframework>=3.5.4\n",
            "  Downloading djangorestframework-3.13.1-py3-none-any.whl (958 kB)\n",
            "\u001b[K     |████████████████████████████████| 958 kB 57.2 MB/s \n",
            "\u001b[?25hCollecting openapi-codec>=1.3.1\n",
            "  Downloading openapi-codec-1.3.2.tar.gz (6.3 kB)\n",
            "Collecting simplejson\n",
            "  Downloading simplejson-3.17.6-cp37-cp37m-manylinux_2_5_x86_64.manylinux1_x86_64.manylinux_2_12_x86_64.manylinux2010_x86_64.whl (130 kB)\n",
            "\u001b[K     |████████████████████████████████| 130 kB 52.5 MB/s \n",
            "\u001b[?25hCollecting coreapi>=2.3.0\n",
            "  Downloading coreapi-2.3.3-py2.py3-none-any.whl (25 kB)\n",
            "Collecting user-agents\n",
            "  Downloading user_agents-2.2.0-py3-none-any.whl (9.6 kB)\n",
            "Collecting coreschema>=0.0.4\n",
            "  Downloading coreschema-0.0.4.tar.gz (10 kB)\n",
            "Collecting inflection>=0.3.1\n",
            "  Downloading inflection-0.5.1-py2.py3-none-any.whl (9.5 kB)\n",
            "Collecting ruamel.yaml>=0.15.34\n",
            "  Downloading ruamel.yaml-0.17.21-py3-none-any.whl (109 kB)\n",
            "\u001b[K     |████████████████████████████████| 109 kB 55.5 MB/s \n",
            "\u001b[?25hRequirement already satisfied: packaging in /usr/local/lib/python3.7/dist-packages (from drf-yasg==1.20.0->label_studio) (21.3)\n",
            "Requirement already satisfied: uritemplate>=3.0.0 in /usr/local/lib/python3.7/dist-packages (from drf-yasg==1.20.0->label_studio) (3.0.1)\n",
            "Requirement already satisfied: setuptools>=40.3.0 in /usr/local/lib/python3.7/dist-packages (from google-api-core==1.31.5->label_studio) (57.4.0)\n",
            "Requirement already satisfied: pyasn1-modules>=0.2.1 in /usr/local/lib/python3.7/dist-packages (from google-auth==1.35.0->label_studio) (0.2.8)\n",
            "Requirement already satisfied: cachetools<5.0,>=2.0.0 in /usr/local/lib/python3.7/dist-packages (from google-auth==1.35.0->label_studio) (4.2.4)\n",
            "Requirement already satisfied: rsa<5,>=3.1.4 in /usr/local/lib/python3.7/dist-packages (from google-auth==1.35.0->label_studio) (4.8)\n",
            "Requirement already satisfied: google-api-core[grpc]<3.0.0dev,>=1.22.2 in /usr/local/lib/python3.7/dist-packages (from google-cloud-appengine-logging==1.1.0->label_studio) (1.26.3)\n",
            "Collecting proto-plus>=1.15.0\n",
            "  Downloading proto_plus-1.20.3-py3-none-any.whl (46 kB)\n",
            "\u001b[K     |████████████████████████████████| 46 kB 3.3 MB/s \n",
            "\u001b[?25hRequirement already satisfied: grpcio<2.0.0dev,>=1.0.0 in /usr/local/lib/python3.7/dist-packages (from grpc-google-iam-v1==0.12.3->label_studio) (1.44.0)\n",
            "Requirement already satisfied: googleapis-common-protos[grpc]<2.0.0dev,>=1.5.2 in /usr/local/lib/python3.7/dist-packages (from grpc-google-iam-v1==0.12.3->label_studio) (1.55.0)\n",
            "Requirement already satisfied: pyrsistent>=0.14.0 in /usr/local/lib/python3.7/dist-packages (from jsonschema==3.2.0->label_studio) (0.18.1)\n",
            "Requirement already satisfied: importlib-metadata in /usr/local/lib/python3.7/dist-packages (from jsonschema==3.2.0->label_studio) (4.11.2)\n",
            "Collecting nltk==3.6.7\n",
            "  Downloading nltk-3.6.7-py3-none-any.whl (1.5 MB)\n",
            "\u001b[K     |████████████████████████████████| 1.5 MB 58.8 MB/s \n",
            "\u001b[?25hCollecting Pillow==9.0.0\n",
            "  Downloading Pillow-9.0.0-cp37-cp37m-manylinux_2_17_x86_64.manylinux2014_x86_64.whl (4.3 MB)\n",
            "\u001b[K     |████████████████████████████████| 4.3 MB 36.8 MB/s \n",
            "\u001b[?25hRequirement already satisfied: certifi>=2018.4.16 in /usr/local/lib/python3.7/dist-packages (from launchdarkly-server-sdk==7.3.0->label_studio) (2021.10.8)\n",
            "Collecting expiringdict<1.2.0,>=1.1.4\n",
            "  Downloading expiringdict-1.1.4.tar.gz (6.9 kB)\n",
            "Collecting pyRFC3339>=1.0\n",
            "  Downloading pyRFC3339-1.1-py2.py3-none-any.whl (5.7 kB)\n",
            "Requirement already satisfied: semver<3.0.0,>=2.10.2 in /usr/local/lib/python3.7/dist-packages (from launchdarkly-server-sdk==7.3.0->label_studio) (2.13.0)\n",
            "Requirement already satisfied: urllib3>=1.22.0 in /usr/local/lib/python3.7/dist-packages (from launchdarkly-server-sdk==7.3.0->label_studio) (1.24.3)\n",
            "Requirement already satisfied: tqdm in /usr/local/lib/python3.7/dist-packages (from nltk==3.6.7->label-studio-converter==0.0.39->label_studio) (4.63.0)\n",
            "Requirement already satisfied: joblib in /usr/local/lib/python3.7/dist-packages (from nltk==3.6.7->label-studio-converter==0.0.39->label_studio) (1.1.0)\n",
            "Requirement already satisfied: click in /usr/local/lib/python3.7/dist-packages (from nltk==3.6.7->label-studio-converter==0.0.39->label_studio) (7.1.2)\n",
            "Collecting regex>=2021.8.3\n",
            "  Downloading regex-2022.3.2-cp37-cp37m-manylinux_2_17_x86_64.manylinux2014_x86_64.whl (749 kB)\n",
            "\u001b[K     |████████████████████████████████| 749 kB 53.0 MB/s \n",
            "\u001b[?25hRequirement already satisfied: typing-extensions in /usr/local/lib/python3.7/dist-packages (from asgiref<4,>=3.2.10->Django==3.1.14->label_studio) (3.10.0.2)\n",
            "Collecting msrest>=0.6.21\n",
            "  Downloading msrest-0.6.21-py2.py3-none-any.whl (85 kB)\n",
            "\u001b[K     |████████████████████████████████| 85 kB 3.9 MB/s \n",
            "\u001b[?25hCollecting cryptography>=2.1.4\n",
            "  Downloading cryptography-36.0.1-cp36-abi3-manylinux_2_24_x86_64.whl (3.6 MB)\n",
            "\u001b[K     |████████████████████████████████| 3.6 MB 38.5 MB/s \n",
            "\u001b[?25hCollecting azure-core<2.0.0,>=1.15.0\n",
            "  Downloading azure_core-1.23.0-py3-none-any.whl (179 kB)\n",
            "\u001b[K     |████████████████████████████████| 179 kB 59.5 MB/s \n",
            "\u001b[?25hCollecting typing-extensions\n",
            "  Downloading typing_extensions-4.1.1-py3-none-any.whl (26 kB)\n",
            "Collecting jmespath<1.0.0,>=0.7.1\n",
            "  Downloading jmespath-0.10.0-py2.py3-none-any.whl (24 kB)\n",
            "Collecting s3transfer<0.4.0,>=0.3.0\n",
            "  Downloading s3transfer-0.3.7-py2.py3-none-any.whl (73 kB)\n",
            "\u001b[K     |████████████████████████████████| 73 kB 1.9 MB/s \n",
            "\u001b[?25hCollecting urllib3>=1.22.0\n",
            "  Downloading urllib3-1.26.8-py2.py3-none-any.whl (138 kB)\n",
            "\u001b[K     |████████████████████████████████| 138 kB 67.7 MB/s \n",
            "\u001b[?25hCollecting itypes\n",
            "  Downloading itypes-1.2.0-py2.py3-none-any.whl (4.8 kB)\n",
            "Requirement already satisfied: jinja2 in /usr/local/lib/python3.7/dist-packages (from coreschema>=0.0.4->drf-yasg==1.20.0->label_studio) (2.11.3)\n",
            "Requirement already satisfied: cffi>=1.12 in /usr/local/lib/python3.7/dist-packages (from cryptography>=2.1.4->azure-storage-blob>=12.6.0->label_studio) (1.15.0)\n",
            "Requirement already satisfied: pycparser in /usr/local/lib/python3.7/dist-packages (from cffi>=1.12->cryptography>=2.1.4->azure-storage-blob>=12.6.0->label_studio) (2.21)\n",
            "Collecting google-api-core[grpc]<3.0.0dev,>=1.22.2\n",
            "  Downloading google_api_core-2.7.1-py3-none-any.whl (114 kB)\n",
            "\u001b[K     |████████████████████████████████| 114 kB 57.1 MB/s \n",
            "\u001b[?25h  Downloading google_api_core-2.7.0-py3-none-any.whl (114 kB)\n",
            "\u001b[K     |████████████████████████████████| 114 kB 55.6 MB/s \n",
            "\u001b[?25h  Downloading google_api_core-2.6.1-py3-none-any.whl (114 kB)\n",
            "\u001b[K     |████████████████████████████████| 114 kB 53.9 MB/s \n",
            "\u001b[?25h  Downloading google_api_core-2.6.0-py2.py3-none-any.whl (114 kB)\n",
            "\u001b[K     |████████████████████████████████| 114 kB 50.9 MB/s \n",
            "\u001b[?25h  Downloading google_api_core-2.5.0-py2.py3-none-any.whl (111 kB)\n",
            "\u001b[K     |████████████████████████████████| 111 kB 69.7 MB/s \n",
            "\u001b[?25h  Downloading google_api_core-2.4.0-py2.py3-none-any.whl (111 kB)\n",
            "\u001b[K     |████████████████████████████████| 111 kB 66.1 MB/s \n",
            "\u001b[?25h  Downloading google_api_core-2.3.2-py2.py3-none-any.whl (109 kB)\n",
            "\u001b[K     |████████████████████████████████| 109 kB 65.3 MB/s \n",
            "\u001b[?25h  Downloading google_api_core-2.3.0-py2.py3-none-any.whl (109 kB)\n",
            "\u001b[K     |████████████████████████████████| 109 kB 72.2 MB/s \n",
            "\u001b[?25h  Downloading google_api_core-2.2.2-py2.py3-none-any.whl (95 kB)\n",
            "\u001b[K     |████████████████████████████████| 95 kB 4.7 MB/s \n",
            "\u001b[?25h  Downloading google_api_core-2.2.1-py2.py3-none-any.whl (95 kB)\n",
            "\u001b[K     |████████████████████████████████| 95 kB 4.7 MB/s \n",
            "\u001b[?25h  Downloading google_api_core-2.2.0-py2.py3-none-any.whl (95 kB)\n",
            "\u001b[K     |████████████████████████████████| 95 kB 4.1 MB/s \n",
            "\u001b[?25h  Downloading google_api_core-2.1.1-py2.py3-none-any.whl (95 kB)\n",
            "\u001b[K     |████████████████████████████████| 95 kB 3.6 MB/s \n",
            "\u001b[?25h  Downloading google_api_core-2.1.0-py2.py3-none-any.whl (94 kB)\n",
            "\u001b[K     |████████████████████████████████| 94 kB 3.5 MB/s \n",
            "\u001b[?25h  Downloading google_api_core-2.0.1-py2.py3-none-any.whl (92 kB)\n",
            "\u001b[K     |████████████████████████████████| 92 kB 469 kB/s \n",
            "\u001b[?25h  Downloading google_api_core-2.0.0-py2.py3-none-any.whl (92 kB)\n",
            "\u001b[K     |████████████████████████████████| 92 kB 363 kB/s \n",
            "\u001b[?25hCollecting googleapis-common-protos[grpc]<2.0.0dev,>=1.5.2\n",
            "  Downloading googleapis_common_protos-1.54.0-py2.py3-none-any.whl (207 kB)\n",
            "\u001b[K     |████████████████████████████████| 207 kB 54.7 MB/s \n",
            "\u001b[?25h  Downloading googleapis_common_protos-1.53.0-py2.py3-none-any.whl (198 kB)\n",
            "\u001b[K     |████████████████████████████████| 198 kB 49.6 MB/s \n",
            "\u001b[?25hRequirement already satisfied: requests-oauthlib>=0.5.0 in /usr/local/lib/python3.7/dist-packages (from msrest>=0.6.21->azure-storage-blob>=12.6.0->label_studio) (1.3.1)\n",
            "Collecting isodate>=0.6.0\n",
            "  Downloading isodate-0.6.1-py2.py3-none-any.whl (41 kB)\n",
            "\u001b[K     |████████████████████████████████| 41 kB 542 kB/s \n",
            "\u001b[?25hRequirement already satisfied: pyparsing!=3.0.5,>=2.0.2 in /usr/local/lib/python3.7/dist-packages (from packaging->drf-yasg==1.20.0->label_studio) (3.0.7)\n",
            "Collecting protobuf>=3.15.5\n",
            "  Downloading protobuf-3.19.4-cp37-cp37m-manylinux_2_17_x86_64.manylinux2014_x86_64.whl (1.1 MB)\n",
            "\u001b[K     |████████████████████████████████| 1.1 MB 52.8 MB/s \n",
            "\u001b[?25hRequirement already satisfied: pyasn1<0.5.0,>=0.4.6 in /usr/local/lib/python3.7/dist-packages (from pyasn1-modules>=0.2.1->google-auth==1.35.0->label_studio) (0.4.8)\n",
            "Collecting deprecated>=1.2.3\n",
            "  Downloading Deprecated-1.2.13-py2.py3-none-any.whl (9.6 kB)\n",
            "Requirement already satisfied: wrapt<2,>=1.10 in /usr/local/lib/python3.7/dist-packages (from deprecated>=1.2.3->redis>=3.5.0->label_studio) (1.13.3)\n",
            "Requirement already satisfied: zipp>=0.5 in /usr/local/lib/python3.7/dist-packages (from importlib-metadata->jsonschema==3.2.0->label_studio) (3.7.0)\n",
            "Requirement already satisfied: idna<3,>=2.5 in /usr/local/lib/python3.7/dist-packages (from requests<3,>=2.22.0->label_studio) (2.10)\n",
            "Requirement already satisfied: chardet<4,>=3.0.2 in /usr/local/lib/python3.7/dist-packages (from requests<3,>=2.22.0->label_studio) (3.0.4)\n",
            "Collecting urllib3>=1.22.0\n",
            "  Downloading urllib3-1.25.11-py2.py3-none-any.whl (127 kB)\n",
            "\u001b[K     |████████████████████████████████| 127 kB 56.2 MB/s \n",
            "\u001b[?25hRequirement already satisfied: oauthlib>=3.0.0 in /usr/local/lib/python3.7/dist-packages (from requests-oauthlib>=0.5.0->msrest>=0.6.21->azure-storage-blob>=12.6.0->label_studio) (3.2.0)\n",
            "Collecting ruamel.yaml.clib>=0.2.6\n",
            "  Downloading ruamel.yaml.clib-0.2.6-cp37-cp37m-manylinux1_x86_64.whl (546 kB)\n",
            "\u001b[K     |████████████████████████████████| 546 kB 39.6 MB/s \n",
            "\u001b[?25hRequirement already satisfied: MarkupSafe>=0.23 in /usr/local/lib/python3.7/dist-packages (from jinja2->coreschema>=0.0.4->drf-yasg==1.20.0->label_studio) (2.0.1)\n",
            "Collecting ua-parser>=0.10.0\n",
            "  Downloading ua_parser-0.10.0-py2.py3-none-any.whl (35 kB)\n",
            "Building wheels for collected packages: attr, drf-flex-fields, drf-generators, grpc-google-iam-v1, htmlmin, launchdarkly-server-sdk, ordered-set, rules, coreschema, django-ranged-fileresponse, expiringdict, openapi-codec\n",
            "  Building wheel for attr (setup.py) ... \u001b[?25l\u001b[?25hdone\n",
            "  Created wheel for attr: filename=attr-0.3.1-py3-none-any.whl size=2458 sha256=ad028cd3844f57e5344bca85c408d0925e37d71c8cbd79a8595f2bc8b34a4014\n",
            "  Stored in directory: /root/.cache/pip/wheels/3b/5d/58/41fbe92f47031641008bd8559ee89e58bf0f123f9c18dea1cb\n",
            "  Building wheel for drf-flex-fields (setup.py) ... \u001b[?25l\u001b[?25hdone\n",
            "  Created wheel for drf-flex-fields: filename=drf_flex_fields-0.9.5-py3-none-any.whl size=14439 sha256=db6d6d15f8d4f2dc2bf0254cbf53a779598a25169947bb2a593ea699d0a3f614\n",
            "  Stored in directory: /root/.cache/pip/wheels/aa/a0/c9/a5c5793044203e4dd692cf7d516d944b6994409479c8ce1af5\n",
            "  Building wheel for drf-generators (setup.py) ... \u001b[?25l\u001b[?25hdone\n",
            "  Created wheel for drf-generators: filename=drf_generators-0.3.0-py2.py3-none-any.whl size=9792 sha256=f8a74ffd9eab94b22c7f761ec15fba87224ef1eada68ea32ed7195e3b3bcc2fc\n",
            "  Stored in directory: /root/.cache/pip/wheels/9e/43/d0/76f612197c47f502a2fd620f736a39476e3be45c4aaede7230\n",
            "  Building wheel for grpc-google-iam-v1 (setup.py) ... \u001b[?25l\u001b[?25hdone\n",
            "  Created wheel for grpc-google-iam-v1: filename=grpc_google_iam_v1-0.12.3-py3-none-any.whl size=18515 sha256=4886306618e5b873b08150444a724c75e2ec3e84742863617ff59d9317e6a060\n",
            "  Stored in directory: /root/.cache/pip/wheels/b9/ee/67/2e444183030cb8d31ce8b34cee34a7afdbd3ba5959ea846380\n",
            "  Building wheel for htmlmin (setup.py) ... \u001b[?25l\u001b[?25hdone\n",
            "  Created wheel for htmlmin: filename=htmlmin-0.1.12-py3-none-any.whl size=27098 sha256=f9b603a7be8cc3e5ff8a7d1c5662d047d4b927f6ff45fa80015a28894fb4ae1c\n",
            "  Stored in directory: /root/.cache/pip/wheels/70/e1/52/5b14d250ba868768823940c3229e9950d201a26d0bd3ee8655\n",
            "  Building wheel for launchdarkly-server-sdk (setup.py) ... \u001b[?25l\u001b[?25hdone\n",
            "  Created wheel for launchdarkly-server-sdk: filename=launchdarkly_server_sdk-7.3.0-py3-none-any.whl size=132246 sha256=9650e971b10b78c3d03d8edba9c6ff15dca1f9c237750abb656ac248105e05c7\n",
            "  Stored in directory: /root/.cache/pip/wheels/d8/de/5e/ec1c4b21b15046a7b6129729256e5cd79c9ca79de4ff0ce2c4\n",
            "  Building wheel for ordered-set (setup.py) ... \u001b[?25l\u001b[?25hdone\n",
            "  Created wheel for ordered-set: filename=ordered_set-4.0.2-py2.py3-none-any.whl size=8219 sha256=6d837300497f54494af81596d68270b8418bdcadf0ab54d0f284b42862803adb\n",
            "  Stored in directory: /root/.cache/pip/wheels/73/2b/f6/26e9f84153c25050fe7c09e88f8e32a6be3c7034a38c418319\n",
            "  Building wheel for rules (setup.py) ... \u001b[?25l\u001b[?25hdone\n",
            "  Created wheel for rules: filename=rules-2.2-py2.py3-none-any.whl size=25831 sha256=33b37e095b78511006efc074d871e73ff60c793dec51711f68c03498aeddcdf4\n",
            "  Stored in directory: /root/.cache/pip/wheels/81/d4/fe/582f42f48dcfbcb7cd0374b1b992d86b0cb81faaaa7cce4d54\n",
            "  Building wheel for coreschema (setup.py) ... \u001b[?25l\u001b[?25hdone\n",
            "  Created wheel for coreschema: filename=coreschema-0.0.4-py3-none-any.whl size=15029 sha256=0bafd600a9c5c3bc9c583ebef852b8ba9b1aa84c1451b474e4fe8ffca03dcbb7\n",
            "  Stored in directory: /root/.cache/pip/wheels/29/28/77/73539fe0ce161da7a571cd8278a9296adbda257406bb6f100d\n",
            "  Building wheel for django-ranged-fileresponse (setup.py) ... \u001b[?25l\u001b[?25hdone\n",
            "  Created wheel for django-ranged-fileresponse: filename=django_ranged_fileresponse-0.1.2-py3-none-any.whl size=3249 sha256=5741291f4980428f783d9db20ebe1766b4a7200680dd2da52e66e3c927a5f7ff\n",
            "  Stored in directory: /root/.cache/pip/wheels/48/5a/dc/89febcf0b8661d268d33d816ef0eba10edf54c2fccd3bafdf0\n",
            "  Building wheel for expiringdict (setup.py) ... \u001b[?25l\u001b[?25hdone\n",
            "  Created wheel for expiringdict: filename=expiringdict-1.1.4-py3-none-any.whl size=7519 sha256=25809d56ee3d13deaebe28b8cb486564fc55a4818ebb8e1ff1a26de78cd79365\n",
            "  Stored in directory: /root/.cache/pip/wheels/41/3e/3b/7994876ef273e676de22c688ab89d45f1b47f8d9b390a2b4ed\n",
            "  Building wheel for openapi-codec (setup.py) ... \u001b[?25l\u001b[?25hdone\n",
            "  Created wheel for openapi-codec: filename=openapi_codec-1.3.2-py3-none-any.whl size=7306 sha256=2f6c112f39c033e771249b8345d87537a995042cd4d50749db9bdb5eb89bb7ff\n",
            "  Stored in directory: /root/.cache/pip/wheels/90/4f/a2/0cef56e55966463564e594a0fcd8ff1a858917fe7c1585cc6d\n",
            "Successfully built attr drf-flex-fields drf-generators grpc-google-iam-v1 htmlmin launchdarkly-server-sdk ordered-set rules coreschema django-ranged-fileresponse expiringdict openapi-codec\n",
            "Installing collected packages: urllib3, protobuf, typing-extensions, pytz, googleapis-common-protos, python-dateutil, jmespath, itypes, google-api-core, deprecated, coreschema, asgiref, ua-parser, ruamel.yaml.clib, regex, redis, proto-plus, isodate, Django, coreapi, botocore, user-agents, simplejson, s3transfer, ruamel.yaml, rq, pyRFC3339, Pillow, openapi-codec, nltk, msrest, inflection, grpc-google-iam-v1, google-resumable-media, google-cloud-core, google-cloud-audit-log, google-cloud-appengine-logging, expiringdict, djangorestframework, cryptography, azure-core, xmljson, ujson, sentry-sdk, rules, pyyaml, pydantic, psycopg2-binary, ordered-set, lockfile, launchdarkly-server-sdk, label-studio-tools, label-studio-converter, jsonschema, htmlmin, google-cloud-storage, google-cloud-logging, drf-yasg, drf-generators, drf-flex-fields, drf-dynamic-fields, django-user-agents, django-rq, django-rest-swagger, django-ranged-fileresponse, django-model-utils, django-filter, django-extensions, django-debug-toolbar, django-cors-headers, django-annoying, colorama, boxing, boto3, boto, azure-storage-blob, attr, label-studio\n",
            "  Attempting uninstall: urllib3\n",
            "    Found existing installation: urllib3 1.24.3\n",
            "    Uninstalling urllib3-1.24.3:\n",
            "      Successfully uninstalled urllib3-1.24.3\n",
            "  Attempting uninstall: protobuf\n",
            "    Found existing installation: protobuf 3.17.3\n",
            "    Uninstalling protobuf-3.17.3:\n",
            "      Successfully uninstalled protobuf-3.17.3\n",
            "  Attempting uninstall: typing-extensions\n",
            "    Found existing installation: typing-extensions 3.10.0.2\n",
            "    Uninstalling typing-extensions-3.10.0.2:\n",
            "      Successfully uninstalled typing-extensions-3.10.0.2\n",
            "  Attempting uninstall: pytz\n",
            "    Found existing installation: pytz 2018.9\n",
            "    Uninstalling pytz-2018.9:\n",
            "      Successfully uninstalled pytz-2018.9\n",
            "  Attempting uninstall: googleapis-common-protos\n",
            "    Found existing installation: googleapis-common-protos 1.55.0\n",
            "    Uninstalling googleapis-common-protos-1.55.0:\n",
            "      Successfully uninstalled googleapis-common-protos-1.55.0\n",
            "  Attempting uninstall: python-dateutil\n",
            "    Found existing installation: python-dateutil 2.8.2\n",
            "    Uninstalling python-dateutil-2.8.2:\n",
            "      Successfully uninstalled python-dateutil-2.8.2\n",
            "  Attempting uninstall: google-api-core\n",
            "    Found existing installation: google-api-core 1.26.3\n",
            "    Uninstalling google-api-core-1.26.3:\n",
            "      Successfully uninstalled google-api-core-1.26.3\n",
            "  Attempting uninstall: regex\n",
            "    Found existing installation: regex 2019.12.20\n",
            "    Uninstalling regex-2019.12.20:\n",
            "      Successfully uninstalled regex-2019.12.20\n",
            "  Attempting uninstall: Pillow\n",
            "    Found existing installation: Pillow 7.1.2\n",
            "    Uninstalling Pillow-7.1.2:\n",
            "      Successfully uninstalled Pillow-7.1.2\n",
            "  Attempting uninstall: nltk\n",
            "    Found existing installation: nltk 3.2.5\n",
            "    Uninstalling nltk-3.2.5:\n",
            "      Successfully uninstalled nltk-3.2.5\n",
            "  Attempting uninstall: google-resumable-media\n",
            "    Found existing installation: google-resumable-media 0.4.1\n",
            "    Uninstalling google-resumable-media-0.4.1:\n",
            "      Successfully uninstalled google-resumable-media-0.4.1\n",
            "  Attempting uninstall: google-cloud-core\n",
            "    Found existing installation: google-cloud-core 1.0.3\n",
            "    Uninstalling google-cloud-core-1.0.3:\n",
            "      Successfully uninstalled google-cloud-core-1.0.3\n",
            "  Attempting uninstall: pyyaml\n",
            "    Found existing installation: PyYAML 3.13\n",
            "    Uninstalling PyYAML-3.13:\n",
            "      Successfully uninstalled PyYAML-3.13\n",
            "  Attempting uninstall: jsonschema\n",
            "    Found existing installation: jsonschema 4.3.3\n",
            "    Uninstalling jsonschema-4.3.3:\n",
            "      Successfully uninstalled jsonschema-4.3.3\n",
            "  Attempting uninstall: google-cloud-storage\n",
            "    Found existing installation: google-cloud-storage 1.18.1\n",
            "    Uninstalling google-cloud-storage-1.18.1:\n",
            "      Successfully uninstalled google-cloud-storage-1.18.1\n",
            "\u001b[31mERROR: pip's dependency resolver does not currently take into account all the packages that are installed. This behaviour is the source of the following dependency conflicts.\n",
            "tensorflow 2.8.0 requires tf-estimator-nightly==2.8.0.dev2021122109, which is not installed.\n",
            "nbclient 0.5.12 requires jupyter-client>=6.1.5, but you have jupyter-client 5.3.5 which is incompatible.\n",
            "google-cloud-bigquery 1.21.0 requires google-resumable-media!=0.4.0,<0.5.0dev,>=0.3.1, but you have google-resumable-media 0.5.1 which is incompatible.\n",
            "datascience 0.10.6 requires folium==0.2.1, but you have folium 0.8.3 which is incompatible.\n",
            "arviz 0.11.4 requires typing-extensions<4,>=3.7.4.3, but you have typing-extensions 4.1.1 which is incompatible.\n",
            "albumentations 0.1.12 requires imgaug<0.2.7,>=0.2.5, but you have imgaug 0.2.9 which is incompatible.\u001b[0m\n",
            "Successfully installed Django-3.1.14 Pillow-9.0.0 asgiref-3.5.0 attr-0.3.1 azure-core-1.23.0 azure-storage-blob-12.10.0 boto-2.49.0 boto3-1.16.63 botocore-1.19.63 boxing-0.1.4 colorama-0.4.4 coreapi-2.3.3 coreschema-0.0.4 cryptography-36.0.1 deprecated-1.2.13 django-annoying-0.10.6 django-cors-headers-3.6.0 django-debug-toolbar-3.2.1 django-extensions-3.1.0 django-filter-2.4.0 django-model-utils-4.1.1 django-ranged-fileresponse-0.1.2 django-rest-swagger-2.2.0 django-rq-2.4.1 django-user-agents-0.4.0 djangorestframework-3.13.1 drf-dynamic-fields-0.3.0 drf-flex-fields-0.9.5 drf-generators-0.3.0 drf-yasg-1.20.0 expiringdict-1.1.4 google-api-core-1.31.5 google-cloud-appengine-logging-1.1.0 google-cloud-audit-log-0.2.0 google-cloud-core-1.5.0 google-cloud-logging-2.7.0 google-cloud-storage-1.29.0 google-resumable-media-0.5.1 googleapis-common-protos-1.52.0 grpc-google-iam-v1-0.12.3 htmlmin-0.1.12 inflection-0.5.1 isodate-0.6.1 itypes-1.2.0 jmespath-0.10.0 jsonschema-3.2.0 label-studio-1.4.1.post1 label-studio-converter-0.0.39 label-studio-tools-0.0.0.dev11 launchdarkly-server-sdk-7.3.0 lockfile-0.12.2 msrest-0.6.21 nltk-3.6.7 openapi-codec-1.3.2 ordered-set-4.0.2 proto-plus-1.20.3 protobuf-3.19.4 psycopg2-binary-2.9.1 pyRFC3339-1.1 pydantic-1.8.2 python-dateutil-2.8.1 pytz-2019.3 pyyaml-6.0 redis-4.1.4 regex-2022.3.2 rq-1.10.0 ruamel.yaml-0.17.21 ruamel.yaml.clib-0.2.6 rules-2.2 s3transfer-0.3.7 sentry-sdk-1.5.7 simplejson-3.17.6 typing-extensions-4.1.1 ua-parser-0.10.0 ujson-5.1.0 urllib3-1.25.11 user-agents-2.2.0 xmljson-0.2.0\n"
          ]
        },
        {
          "output_type": "display_data",
          "data": {
            "application/vnd.colab-display-data+json": {
              "pip_warning": {
                "packages": [
                  "PIL",
                  "dateutil",
                  "google"
                ]
              }
            }
          },
          "metadata": {}
        }
      ],
      "source": [
        "pip install label_studio\n"
      ]
    },
    {
      "cell_type": "code",
      "source": [
        "pip install label_studio_sdk\n"
      ],
      "metadata": {
        "colab": {
          "base_uri": "https://localhost:8080/"
        },
        "id": "msOHfZ85DQCA",
        "outputId": "18d9f1ba-d4d8-425c-ab7f-a41b2b47e581"
      },
      "execution_count": null,
      "outputs": [
        {
          "output_type": "stream",
          "name": "stdout",
          "text": [
            "Collecting label_studio_sdk\n",
            "  Downloading label_studio_sdk-0.0.11-py3-none-any.whl (24 kB)\n",
            "Requirement already satisfied: pydantic==1.8.2 in /usr/local/lib/python3.7/dist-packages (from label_studio_sdk) (1.8.2)\n",
            "Requirement already satisfied: lxml>=4.2.5 in /usr/local/lib/python3.7/dist-packages (from label_studio_sdk) (4.2.6)\n",
            "Requirement already satisfied: requests<3,>=2.22.0 in /usr/local/lib/python3.7/dist-packages (from label_studio_sdk) (2.23.0)\n",
            "Requirement already satisfied: typing-extensions>=3.7.4.3 in /usr/local/lib/python3.7/dist-packages (from pydantic==1.8.2->label_studio_sdk) (4.1.1)\n",
            "Requirement already satisfied: urllib3!=1.25.0,!=1.25.1,<1.26,>=1.21.1 in /usr/local/lib/python3.7/dist-packages (from requests<3,>=2.22.0->label_studio_sdk) (1.25.11)\n",
            "Requirement already satisfied: certifi>=2017.4.17 in /usr/local/lib/python3.7/dist-packages (from requests<3,>=2.22.0->label_studio_sdk) (2021.10.8)\n",
            "Requirement already satisfied: idna<3,>=2.5 in /usr/local/lib/python3.7/dist-packages (from requests<3,>=2.22.0->label_studio_sdk) (2.10)\n",
            "Requirement already satisfied: chardet<4,>=3.0.2 in /usr/local/lib/python3.7/dist-packages (from requests<3,>=2.22.0->label_studio_sdk) (3.0.4)\n",
            "Installing collected packages: label-studio-sdk\n",
            "Successfully installed label-studio-sdk-0.0.11\n"
          ]
        }
      ]
    },
    {
      "cell_type": "code",
      "source": [
        "pip install nltk\n"
      ],
      "metadata": {
        "colab": {
          "base_uri": "https://localhost:8080/"
        },
        "id": "6XhGj4svB-K_",
        "outputId": "693f7bf1-f036-4a42-f984-6d72adae6082"
      },
      "execution_count": null,
      "outputs": [
        {
          "output_type": "stream",
          "name": "stdout",
          "text": [
            "Requirement already satisfied: nltk in /usr/local/lib/python3.7/dist-packages (3.6.7)\n",
            "Requirement already satisfied: tqdm in /usr/local/lib/python3.7/dist-packages (from nltk) (4.63.0)\n",
            "Requirement already satisfied: click in /usr/local/lib/python3.7/dist-packages (from nltk) (7.1.2)\n",
            "Requirement already satisfied: joblib in /usr/local/lib/python3.7/dist-packages (from nltk) (1.1.0)\n",
            "Requirement already satisfied: regex>=2021.8.3 in /usr/local/lib/python3.7/dist-packages (from nltk) (2022.3.2)\n"
          ]
        }
      ]
    },
    {
      "cell_type": "code",
      "source": [
        "pip install tqdm\n"
      ],
      "metadata": {
        "colab": {
          "base_uri": "https://localhost:8080/"
        },
        "id": "v14rlxZhDZI7",
        "outputId": "07139f9b-f58d-49e1-ef27-6f3a5cc8216f"
      },
      "execution_count": null,
      "outputs": [
        {
          "output_type": "stream",
          "name": "stdout",
          "text": [
            "Requirement already satisfied: tqdm in /usr/local/lib/python3.7/dist-packages (4.63.0)\n"
          ]
        }
      ]
    },
    {
      "cell_type": "markdown",
      "source": [
        "**Now we use the account specific API KEY and connect to Label studio to get the annotated data as a list.**"
      ],
      "metadata": {
        "id": "SKg5bxJmW-nQ"
      }
    },
    {
      "cell_type": "code",
      "source": [
        "from label_studio_sdk import Client\n",
        "from label_studio_sdk import project\n",
        "from label_studio_sdk import project\n",
        "import pandas as pd\n",
        "\n",
        "\n",
        "LABEL_STUDIO_URL = 'http://132.231.59.226:8080' #this address needs to be the same as the address the label-studio is hosted on.\n",
        "API_KEY = '6700ab4e6a108576cb51bf47663916261e8200fe' #please add your personal API_Key here to get your API_Key follow the Pictures below\n",
        "\n",
        "ls = Client(url=LABEL_STUDIO_URL, api_key=API_KEY)\n",
        "ls.check_connection()\n",
        "pro = project.Project.get_from_id(ls,\"1\")\n",
        "tasks = project.Project.get_labeled_tasks(pro)"
      ],
      "metadata": {
        "id": "-ofU-QzAEBaW"
      },
      "execution_count": null,
      "outputs": []
    },
    {
      "cell_type": "markdown",
      "source": [
        "**Now we convert the data into a CSV containing the annotated data.**"
      ],
      "metadata": {
        "id": "8O9IjBHhXul8"
      }
    },
    {
      "cell_type": "code",
      "execution_count": null,
      "metadata": {
        "id": "b7fb9d59"
      },
      "outputs": [],
      "source": [
        "def from_label_studio_to_dataframe( LABEL_STUDIO_URL=\"\",\n",
        "                                    API_KEY=\"\"):\n",
        "    '''\n",
        "    Goals:\n",
        "        - Load the labeled data from Label Studio \n",
        "            (or from a raw_data dictionary saved locally as a pickle file), clean it, and save it into a panda data frame \n",
        "    Attributes:\n",
        "        - LABEL_STUDIO_URL (url as string): the url for the label studio project you want to get your data from\n",
        "        - API_KEY (string): your Label Studio API_KEY\n",
        "    Returns:\n",
        "        - df (pandas DataFrame): The labeled data as a pandas DataFrame\n",
        "    '''\n",
        "\n",
        "    \n",
        "    ls = Client(url=LABEL_STUDIO_URL, api_key=API_KEY)\n",
        "    ls.check_connection()\n",
        "    pro = project.Project.get_from_id(ls, \"1\")\n",
        "    raw_data = project.Project.get_labeled_tasks(pro)\n",
        "        \n",
        "\n",
        "    df = pd.DataFrame(columns=[\"text\", \"category\", \"stage\", \"level\"])\n",
        "\n",
        "    question_tags = [\n",
        "        \"Question_1_Company_specific\", \"Question_1_Market_related\",\n",
        "        \"Question_2_specific\", \"Question_2_open\", \n",
        "        \"Question_3_attack\", \"Question_3_support\", \"Question_3_neutral\"\n",
        "    ]\n",
        "\n",
        "    answer_tags = [\n",
        "        \"Answer_1_specific\", \"Answer_1_avoid_excuse\", \n",
        "        \"Answer_2_negative\", \"Answer_2_positive\", \n",
        "        \"Answer_3_blame\", \"Answer_3_no_blame\"\n",
        "    ]\n",
        "\n",
        "    tag2val = {\n",
        "        \"Question_1_Company_specific\": 0,\n",
        "        \"Question_1_Market_related\": 1,\n",
        "        \"Question_2_specific\": 0,\n",
        "        \"Question_2_open\": 1,\n",
        "        \"Question_3_attack\": 2,\n",
        "        \"Question_3_support\": 0,\n",
        "        \"Question_3_neutral\": 1,\n",
        "        \"Answer_1_specific\": 0,\n",
        "        \"Answer_1_avoid_excuse\": 1,\n",
        "        \"Answer_2_negative\": 0,\n",
        "        \"Answer_2_positive\": 1,\n",
        "        \"Answer_3_blame\": 0,\n",
        "        \"Answer_3_no_blame\": 1\n",
        "    }\n",
        "\n",
        "\n",
        "    for task in tqdm.tqdm(raw_data):\n",
        "        annotations = task[\"annotations\"][0][\"result\"]\n",
        "\n",
        "        for ann in annotations:\n",
        "            text = ann[\"value\"][\"text\"]\n",
        "            label = ann[\"value\"][\"labels\"][0]\n",
        "            \n",
        "\n",
        "            # Ignore any odservation that does not have any of the question and answer stages\n",
        "            # (ex: an observation that only labels the question QID_13)\n",
        "            if len(label) < 7:\n",
        "                continue\n",
        "\n",
        "            # Get the category \"Answer\" or \"Question\" from the label\n",
        "            category = \"Answer\" if \"Answer\" in label else \"Question\"\n",
        "            # Get the stage number\n",
        "            stage = int(label.split(\"_\")[1])\n",
        "            # Get the level\n",
        "            level = tag2val[label]\n",
        "            # Add the observation to the dataframe\n",
        "            df = df.append(\n",
        "                {\n",
        "                    \"text\": text,\n",
        "                    \"category\": category,\n",
        "                    \"stage\": stage,\n",
        "                    \"level\": level\n",
        "                },\n",
        "                ignore_index=True)    \n",
        "\n",
        "    return df"
      ]
    },
    {
      "cell_type": "code",
      "execution_count": null,
      "metadata": {
        "id": "3570d7a8",
        "outputId": "2c276e4c-f48b-4323-d5b3-c2cbd7508219"
      },
      "outputs": [
        {
          "name": "stderr",
          "output_type": "stream",
          "text": [
            "100%|███████████████████████████████████████████| 72/72 [00:09<00:00,  7.42it/s]\n"
          ]
        }
      ],
      "source": [
        "from label_studio_sdk import Client\n",
        "from label_studio_sdk import project\n",
        "from label_studio_sdk import project\n",
        "import pandas as pd\n",
        "\n",
        "\n",
        "LABEL_STUDIO_URL = 'http://132.231.59.226:8080' #this address needs to be the same as the address the label-studio is hosted on.\n",
        "API_KEY = '6700ab4e6a108576cb51bf47663916261e8200fe' #please add your personal API_Key here to get your API_Key follow the Pictures below\n",
        "\n",
        "data = from_label_studio_to_dataframe( LABEL_STUDIO_URL = LABEL_STUDIO_URL , API_KEY= API_KEY)\n",
        "data\n",
        "data.to_csv('data.csv')"
      ]
    },
    {
      "cell_type": "markdown",
      "source": [
        "**Importing the data in the CSV as a dataframe**"
      ],
      "metadata": {
        "id": "NIOz9sLeYDFj"
      }
    },
    {
      "cell_type": "code",
      "source": [
        "import pandas as pd\n",
        "df = pd.read_csv('/content/drive/My Drive/data.csv')\n",
        "df.info()\n",
        "df"
      ],
      "metadata": {
        "colab": {
          "base_uri": "https://localhost:8080/",
          "height": 631
        },
        "id": "rHfpN1BiFY4k",
        "outputId": "9093873a-1a2c-4530-e97b-8038d7c106aa"
      },
      "execution_count": null,
      "outputs": [
        {
          "output_type": "stream",
          "name": "stdout",
          "text": [
            "<class 'pandas.core.frame.DataFrame'>\n",
            "RangeIndex: 8472 entries, 0 to 8471\n",
            "Data columns (total 5 columns):\n",
            " #   Column      Non-Null Count  Dtype \n",
            "---  ------      --------------  ----- \n",
            " 0   Unnamed: 0  8472 non-null   int64 \n",
            " 1   text        8472 non-null   object\n",
            " 2   category    8472 non-null   object\n",
            " 3   stage       8472 non-null   int64 \n",
            " 4   level       8472 non-null   int64 \n",
            "dtypes: int64(3), object(2)\n",
            "memory usage: 331.1+ KB\n"
          ]
        },
        {
          "output_type": "execute_result",
          "data": {
            "text/plain": [
              "      Unnamed: 0                                               text  category  \\\n",
              "0              0   Good afternoon and thanks a lot for taking my...  Question   \n",
              "1              1  Good afternoon and thanks a lot for taking my ...  Question   \n",
              "2              2  Good afternoon and thanks a lot for taking my ...  Question   \n",
              "3              3  No, I think that as it relates to the one, I t...    Answer   \n",
              "4              4   No, I think that as it relates to the one, I ...    Answer   \n",
              "...          ...                                                ...       ...   \n",
              "8467        8467   One of the areas obviously which has been a s...  Question   \n",
              "8468        8468  One of the areas obviously which has been a st...  Question   \n",
              "8469        8469  Well, let's start with the first part of your ...    Answer   \n",
              "8470        8470  Well, let's start with the first part of your ...    Answer   \n",
              "8471        8471  Well, let's start with the first part of your ...    Answer   \n",
              "\n",
              "      stage  level  \n",
              "0         1      0  \n",
              "1         2      0  \n",
              "2         3      1  \n",
              "3         1      0  \n",
              "4         2      1  \n",
              "...     ...    ...  \n",
              "8467      2      0  \n",
              "8468      3      1  \n",
              "8469      1      0  \n",
              "8470      2      1  \n",
              "8471      3      1  \n",
              "\n",
              "[8472 rows x 5 columns]"
            ],
            "text/html": [
              "\n",
              "  <div id=\"df-c381f2fe-6ea8-4089-8251-865902991e20\">\n",
              "    <div class=\"colab-df-container\">\n",
              "      <div>\n",
              "<style scoped>\n",
              "    .dataframe tbody tr th:only-of-type {\n",
              "        vertical-align: middle;\n",
              "    }\n",
              "\n",
              "    .dataframe tbody tr th {\n",
              "        vertical-align: top;\n",
              "    }\n",
              "\n",
              "    .dataframe thead th {\n",
              "        text-align: right;\n",
              "    }\n",
              "</style>\n",
              "<table border=\"1\" class=\"dataframe\">\n",
              "  <thead>\n",
              "    <tr style=\"text-align: right;\">\n",
              "      <th></th>\n",
              "      <th>Unnamed: 0</th>\n",
              "      <th>text</th>\n",
              "      <th>category</th>\n",
              "      <th>stage</th>\n",
              "      <th>level</th>\n",
              "    </tr>\n",
              "  </thead>\n",
              "  <tbody>\n",
              "    <tr>\n",
              "      <th>0</th>\n",
              "      <td>0</td>\n",
              "      <td>Good afternoon and thanks a lot for taking my...</td>\n",
              "      <td>Question</td>\n",
              "      <td>1</td>\n",
              "      <td>0</td>\n",
              "    </tr>\n",
              "    <tr>\n",
              "      <th>1</th>\n",
              "      <td>1</td>\n",
              "      <td>Good afternoon and thanks a lot for taking my ...</td>\n",
              "      <td>Question</td>\n",
              "      <td>2</td>\n",
              "      <td>0</td>\n",
              "    </tr>\n",
              "    <tr>\n",
              "      <th>2</th>\n",
              "      <td>2</td>\n",
              "      <td>Good afternoon and thanks a lot for taking my ...</td>\n",
              "      <td>Question</td>\n",
              "      <td>3</td>\n",
              "      <td>1</td>\n",
              "    </tr>\n",
              "    <tr>\n",
              "      <th>3</th>\n",
              "      <td>3</td>\n",
              "      <td>No, I think that as it relates to the one, I t...</td>\n",
              "      <td>Answer</td>\n",
              "      <td>1</td>\n",
              "      <td>0</td>\n",
              "    </tr>\n",
              "    <tr>\n",
              "      <th>4</th>\n",
              "      <td>4</td>\n",
              "      <td>No, I think that as it relates to the one, I ...</td>\n",
              "      <td>Answer</td>\n",
              "      <td>2</td>\n",
              "      <td>1</td>\n",
              "    </tr>\n",
              "    <tr>\n",
              "      <th>...</th>\n",
              "      <td>...</td>\n",
              "      <td>...</td>\n",
              "      <td>...</td>\n",
              "      <td>...</td>\n",
              "      <td>...</td>\n",
              "    </tr>\n",
              "    <tr>\n",
              "      <th>8467</th>\n",
              "      <td>8467</td>\n",
              "      <td>One of the areas obviously which has been a s...</td>\n",
              "      <td>Question</td>\n",
              "      <td>2</td>\n",
              "      <td>0</td>\n",
              "    </tr>\n",
              "    <tr>\n",
              "      <th>8468</th>\n",
              "      <td>8468</td>\n",
              "      <td>One of the areas obviously which has been a st...</td>\n",
              "      <td>Question</td>\n",
              "      <td>3</td>\n",
              "      <td>1</td>\n",
              "    </tr>\n",
              "    <tr>\n",
              "      <th>8469</th>\n",
              "      <td>8469</td>\n",
              "      <td>Well, let's start with the first part of your ...</td>\n",
              "      <td>Answer</td>\n",
              "      <td>1</td>\n",
              "      <td>0</td>\n",
              "    </tr>\n",
              "    <tr>\n",
              "      <th>8470</th>\n",
              "      <td>8470</td>\n",
              "      <td>Well, let's start with the first part of your ...</td>\n",
              "      <td>Answer</td>\n",
              "      <td>2</td>\n",
              "      <td>1</td>\n",
              "    </tr>\n",
              "    <tr>\n",
              "      <th>8471</th>\n",
              "      <td>8471</td>\n",
              "      <td>Well, let's start with the first part of your ...</td>\n",
              "      <td>Answer</td>\n",
              "      <td>3</td>\n",
              "      <td>1</td>\n",
              "    </tr>\n",
              "  </tbody>\n",
              "</table>\n",
              "<p>8472 rows × 5 columns</p>\n",
              "</div>\n",
              "      <button class=\"colab-df-convert\" onclick=\"convertToInteractive('df-c381f2fe-6ea8-4089-8251-865902991e20')\"\n",
              "              title=\"Convert this dataframe to an interactive table.\"\n",
              "              style=\"display:none;\">\n",
              "        \n",
              "  <svg xmlns=\"http://www.w3.org/2000/svg\" height=\"24px\"viewBox=\"0 0 24 24\"\n",
              "       width=\"24px\">\n",
              "    <path d=\"M0 0h24v24H0V0z\" fill=\"none\"/>\n",
              "    <path d=\"M18.56 5.44l.94 2.06.94-2.06 2.06-.94-2.06-.94-.94-2.06-.94 2.06-2.06.94zm-11 1L8.5 8.5l.94-2.06 2.06-.94-2.06-.94L8.5 2.5l-.94 2.06-2.06.94zm10 10l.94 2.06.94-2.06 2.06-.94-2.06-.94-.94-2.06-.94 2.06-2.06.94z\"/><path d=\"M17.41 7.96l-1.37-1.37c-.4-.4-.92-.59-1.43-.59-.52 0-1.04.2-1.43.59L10.3 9.45l-7.72 7.72c-.78.78-.78 2.05 0 2.83L4 21.41c.39.39.9.59 1.41.59.51 0 1.02-.2 1.41-.59l7.78-7.78 2.81-2.81c.8-.78.8-2.07 0-2.86zM5.41 20L4 18.59l7.72-7.72 1.47 1.35L5.41 20z\"/>\n",
              "  </svg>\n",
              "      </button>\n",
              "      \n",
              "  <style>\n",
              "    .colab-df-container {\n",
              "      display:flex;\n",
              "      flex-wrap:wrap;\n",
              "      gap: 12px;\n",
              "    }\n",
              "\n",
              "    .colab-df-convert {\n",
              "      background-color: #E8F0FE;\n",
              "      border: none;\n",
              "      border-radius: 50%;\n",
              "      cursor: pointer;\n",
              "      display: none;\n",
              "      fill: #1967D2;\n",
              "      height: 32px;\n",
              "      padding: 0 0 0 0;\n",
              "      width: 32px;\n",
              "    }\n",
              "\n",
              "    .colab-df-convert:hover {\n",
              "      background-color: #E2EBFA;\n",
              "      box-shadow: 0px 1px 2px rgba(60, 64, 67, 0.3), 0px 1px 3px 1px rgba(60, 64, 67, 0.15);\n",
              "      fill: #174EA6;\n",
              "    }\n",
              "\n",
              "    [theme=dark] .colab-df-convert {\n",
              "      background-color: #3B4455;\n",
              "      fill: #D2E3FC;\n",
              "    }\n",
              "\n",
              "    [theme=dark] .colab-df-convert:hover {\n",
              "      background-color: #434B5C;\n",
              "      box-shadow: 0px 1px 3px 1px rgba(0, 0, 0, 0.15);\n",
              "      filter: drop-shadow(0px 1px 2px rgba(0, 0, 0, 0.3));\n",
              "      fill: #FFFFFF;\n",
              "    }\n",
              "  </style>\n",
              "\n",
              "      <script>\n",
              "        const buttonEl =\n",
              "          document.querySelector('#df-c381f2fe-6ea8-4089-8251-865902991e20 button.colab-df-convert');\n",
              "        buttonEl.style.display =\n",
              "          google.colab.kernel.accessAllowed ? 'block' : 'none';\n",
              "\n",
              "        async function convertToInteractive(key) {\n",
              "          const element = document.querySelector('#df-c381f2fe-6ea8-4089-8251-865902991e20');\n",
              "          const dataTable =\n",
              "            await google.colab.kernel.invokeFunction('convertToInteractive',\n",
              "                                                     [key], {});\n",
              "          if (!dataTable) return;\n",
              "\n",
              "          const docLinkHtml = 'Like what you see? Visit the ' +\n",
              "            '<a target=\"_blank\" href=https://colab.research.google.com/notebooks/data_table.ipynb>data table notebook</a>'\n",
              "            + ' to learn more about interactive tables.';\n",
              "          element.innerHTML = '';\n",
              "          dataTable['output_type'] = 'display_data';\n",
              "          await google.colab.output.renderOutput(dataTable, element);\n",
              "          const docLink = document.createElement('div');\n",
              "          docLink.innerHTML = docLinkHtml;\n",
              "          element.appendChild(docLink);\n",
              "        }\n",
              "      </script>\n",
              "    </div>\n",
              "  </div>\n",
              "  "
            ]
          },
          "metadata": {},
          "execution_count": 75
        }
      ]
    },
    {
      "cell_type": "markdown",
      "source": [
        "#Data Pre-Processing and Data Cleaning"
      ],
      "metadata": {
        "id": "9nnlWXrKntZK"
      }
    },
    {
      "cell_type": "markdown",
      "source": [
        "**Before using the data for analysis or prediction, processing the data is important. To prepare the text data for the model building we perform text preprocessing . Here , for example we try to predict Question LABEL 1 (\"Question_1_Company_specific\": 0, \"Question_1_Market_related\": 1) for the text. So we remove the data that are Answers and get data specific to Question 1** "
      ],
      "metadata": {
        "id": "AAPYsKO2ZBPI"
      }
    },
    {
      "cell_type": "code",
      "source": [
        "index= df[df[\"category\"]==\"Answer\"].index\n",
        "df.drop(index,inplace=True)\n",
        "data= df[df[\"stage\"]==1]\n",
        "data.drop(columns=[\"category\",\"stage\",\"Unnamed: 0\"],axis=1 ,inplace=True)\n",
        "data.shape"
      ],
      "metadata": {
        "colab": {
          "base_uri": "https://localhost:8080/"
        },
        "id": "1rxmCJo-G0s2",
        "outputId": "cfda3f1b-b9e3-48f5-b65d-e2ef02d0e68a"
      },
      "execution_count": null,
      "outputs": [
        {
          "output_type": "stream",
          "name": "stderr",
          "text": [
            "/usr/local/lib/python3.7/dist-packages/pandas/core/frame.py:4913: SettingWithCopyWarning: \n",
            "A value is trying to be set on a copy of a slice from a DataFrame\n",
            "\n",
            "See the caveats in the documentation: https://pandas.pydata.org/pandas-docs/stable/user_guide/indexing.html#returning-a-view-versus-a-copy\n",
            "  errors=errors,\n"
          ]
        },
        {
          "output_type": "execute_result",
          "data": {
            "text/plain": [
              "(1309, 2)"
            ]
          },
          "metadata": {},
          "execution_count": 76
        }
      ]
    },
    {
      "cell_type": "code",
      "source": [
        "data"
      ],
      "metadata": {
        "colab": {
          "base_uri": "https://localhost:8080/",
          "height": 423
        },
        "id": "xI0jfaQqHm_B",
        "outputId": "95685cc9-438b-4a95-b46f-cdbb09d77f56"
      },
      "execution_count": null,
      "outputs": [
        {
          "output_type": "execute_result",
          "data": {
            "text/plain": [
              "                                                   text  level\n",
              "0      Good afternoon and thanks a lot for taking my...      0\n",
              "6     Okay, that's very helpful. And then on your gr...      0\n",
              "12    Hi Richard. So, on gross margin, it looked pre...      1\n",
              "18    And the core-on-core was pretty normal for you...      0\n",
              "24     Okay. And my follow-up is on the EBIT dollar ...      0\n",
              "...                                                 ...    ...\n",
              "8445  Hi. This is Mark for Pat. Thank you so much fo...      0\n",
              "8448  Yes. I'm just wondering if you could talk a li...      0\n",
              "8454  Hi, thank you. Congrats on the quarter. Just a...      0\n",
              "8460  Thanks for squeezing me in guys. This question...      0\n",
              "8466   One of the areas obviously which has been a s...      0\n",
              "\n",
              "[1309 rows x 2 columns]"
            ],
            "text/html": [
              "\n",
              "  <div id=\"df-d988d159-e42a-4e26-8752-3cb43eea65cf\">\n",
              "    <div class=\"colab-df-container\">\n",
              "      <div>\n",
              "<style scoped>\n",
              "    .dataframe tbody tr th:only-of-type {\n",
              "        vertical-align: middle;\n",
              "    }\n",
              "\n",
              "    .dataframe tbody tr th {\n",
              "        vertical-align: top;\n",
              "    }\n",
              "\n",
              "    .dataframe thead th {\n",
              "        text-align: right;\n",
              "    }\n",
              "</style>\n",
              "<table border=\"1\" class=\"dataframe\">\n",
              "  <thead>\n",
              "    <tr style=\"text-align: right;\">\n",
              "      <th></th>\n",
              "      <th>text</th>\n",
              "      <th>level</th>\n",
              "    </tr>\n",
              "  </thead>\n",
              "  <tbody>\n",
              "    <tr>\n",
              "      <th>0</th>\n",
              "      <td>Good afternoon and thanks a lot for taking my...</td>\n",
              "      <td>0</td>\n",
              "    </tr>\n",
              "    <tr>\n",
              "      <th>6</th>\n",
              "      <td>Okay, that's very helpful. And then on your gr...</td>\n",
              "      <td>0</td>\n",
              "    </tr>\n",
              "    <tr>\n",
              "      <th>12</th>\n",
              "      <td>Hi Richard. So, on gross margin, it looked pre...</td>\n",
              "      <td>1</td>\n",
              "    </tr>\n",
              "    <tr>\n",
              "      <th>18</th>\n",
              "      <td>And the core-on-core was pretty normal for you...</td>\n",
              "      <td>0</td>\n",
              "    </tr>\n",
              "    <tr>\n",
              "      <th>24</th>\n",
              "      <td>Okay. And my follow-up is on the EBIT dollar ...</td>\n",
              "      <td>0</td>\n",
              "    </tr>\n",
              "    <tr>\n",
              "      <th>...</th>\n",
              "      <td>...</td>\n",
              "      <td>...</td>\n",
              "    </tr>\n",
              "    <tr>\n",
              "      <th>8445</th>\n",
              "      <td>Hi. This is Mark for Pat. Thank you so much fo...</td>\n",
              "      <td>0</td>\n",
              "    </tr>\n",
              "    <tr>\n",
              "      <th>8448</th>\n",
              "      <td>Yes. I'm just wondering if you could talk a li...</td>\n",
              "      <td>0</td>\n",
              "    </tr>\n",
              "    <tr>\n",
              "      <th>8454</th>\n",
              "      <td>Hi, thank you. Congrats on the quarter. Just a...</td>\n",
              "      <td>0</td>\n",
              "    </tr>\n",
              "    <tr>\n",
              "      <th>8460</th>\n",
              "      <td>Thanks for squeezing me in guys. This question...</td>\n",
              "      <td>0</td>\n",
              "    </tr>\n",
              "    <tr>\n",
              "      <th>8466</th>\n",
              "      <td>One of the areas obviously which has been a s...</td>\n",
              "      <td>0</td>\n",
              "    </tr>\n",
              "  </tbody>\n",
              "</table>\n",
              "<p>1309 rows × 2 columns</p>\n",
              "</div>\n",
              "      <button class=\"colab-df-convert\" onclick=\"convertToInteractive('df-d988d159-e42a-4e26-8752-3cb43eea65cf')\"\n",
              "              title=\"Convert this dataframe to an interactive table.\"\n",
              "              style=\"display:none;\">\n",
              "        \n",
              "  <svg xmlns=\"http://www.w3.org/2000/svg\" height=\"24px\"viewBox=\"0 0 24 24\"\n",
              "       width=\"24px\">\n",
              "    <path d=\"M0 0h24v24H0V0z\" fill=\"none\"/>\n",
              "    <path d=\"M18.56 5.44l.94 2.06.94-2.06 2.06-.94-2.06-.94-.94-2.06-.94 2.06-2.06.94zm-11 1L8.5 8.5l.94-2.06 2.06-.94-2.06-.94L8.5 2.5l-.94 2.06-2.06.94zm10 10l.94 2.06.94-2.06 2.06-.94-2.06-.94-.94-2.06-.94 2.06-2.06.94z\"/><path d=\"M17.41 7.96l-1.37-1.37c-.4-.4-.92-.59-1.43-.59-.52 0-1.04.2-1.43.59L10.3 9.45l-7.72 7.72c-.78.78-.78 2.05 0 2.83L4 21.41c.39.39.9.59 1.41.59.51 0 1.02-.2 1.41-.59l7.78-7.78 2.81-2.81c.8-.78.8-2.07 0-2.86zM5.41 20L4 18.59l7.72-7.72 1.47 1.35L5.41 20z\"/>\n",
              "  </svg>\n",
              "      </button>\n",
              "      \n",
              "  <style>\n",
              "    .colab-df-container {\n",
              "      display:flex;\n",
              "      flex-wrap:wrap;\n",
              "      gap: 12px;\n",
              "    }\n",
              "\n",
              "    .colab-df-convert {\n",
              "      background-color: #E8F0FE;\n",
              "      border: none;\n",
              "      border-radius: 50%;\n",
              "      cursor: pointer;\n",
              "      display: none;\n",
              "      fill: #1967D2;\n",
              "      height: 32px;\n",
              "      padding: 0 0 0 0;\n",
              "      width: 32px;\n",
              "    }\n",
              "\n",
              "    .colab-df-convert:hover {\n",
              "      background-color: #E2EBFA;\n",
              "      box-shadow: 0px 1px 2px rgba(60, 64, 67, 0.3), 0px 1px 3px 1px rgba(60, 64, 67, 0.15);\n",
              "      fill: #174EA6;\n",
              "    }\n",
              "\n",
              "    [theme=dark] .colab-df-convert {\n",
              "      background-color: #3B4455;\n",
              "      fill: #D2E3FC;\n",
              "    }\n",
              "\n",
              "    [theme=dark] .colab-df-convert:hover {\n",
              "      background-color: #434B5C;\n",
              "      box-shadow: 0px 1px 3px 1px rgba(0, 0, 0, 0.15);\n",
              "      filter: drop-shadow(0px 1px 2px rgba(0, 0, 0, 0.3));\n",
              "      fill: #FFFFFF;\n",
              "    }\n",
              "  </style>\n",
              "\n",
              "      <script>\n",
              "        const buttonEl =\n",
              "          document.querySelector('#df-d988d159-e42a-4e26-8752-3cb43eea65cf button.colab-df-convert');\n",
              "        buttonEl.style.display =\n",
              "          google.colab.kernel.accessAllowed ? 'block' : 'none';\n",
              "\n",
              "        async function convertToInteractive(key) {\n",
              "          const element = document.querySelector('#df-d988d159-e42a-4e26-8752-3cb43eea65cf');\n",
              "          const dataTable =\n",
              "            await google.colab.kernel.invokeFunction('convertToInteractive',\n",
              "                                                     [key], {});\n",
              "          if (!dataTable) return;\n",
              "\n",
              "          const docLinkHtml = 'Like what you see? Visit the ' +\n",
              "            '<a target=\"_blank\" href=https://colab.research.google.com/notebooks/data_table.ipynb>data table notebook</a>'\n",
              "            + ' to learn more about interactive tables.';\n",
              "          element.innerHTML = '';\n",
              "          dataTable['output_type'] = 'display_data';\n",
              "          await google.colab.output.renderOutput(dataTable, element);\n",
              "          const docLink = document.createElement('div');\n",
              "          docLink.innerHTML = docLinkHtml;\n",
              "          element.appendChild(docLink);\n",
              "        }\n",
              "      </script>\n",
              "    </div>\n",
              "  </div>\n",
              "  "
            ]
          },
          "metadata": {},
          "execution_count": 77
        }
      ]
    },
    {
      "cell_type": "markdown",
      "source": [
        "**Whenever we have textual data, we need to apply several pre-processing steps to the data to transform words into numerical features that work with machine learning algorithms.**\n",
        "\n",
        "**We lowercase the text to reduce the size of the vocabulary of our text data.**\n",
        "\n",
        "**We can either remove numbers or convert the numbers into their textual representations. We can use regular expressions to remove the numbers.**\n",
        "\n",
        "**We remove punctuations so that we don’t have different forms of the same word. If we don’t remove the punctuation, then been. been, been! will be treated separately.**\n",
        "\n",
        "**Stopwords are words that do not contribute to the meaning of a sentence. Hence, they can safely be removed without causing any change in the meaning of the sentence. The NLTK library has a set of stopwords and we can use these to remove stopwords from our text and return a list of word tokens.**\n",
        "\n",
        "**Stemming is the process of getting the root form of a word. Stem or root is the part to which inflectional affixes (-ed, -ize, -de, -s, etc.) are added. The stem of a word is created by removing the prefix or suffix of a word. Here we use the snowball stemmer. It is a stemming algorithm which is also known as the Porter2 stemming algorithm as it is a better version of the Porter Stemmer.**"
      ],
      "metadata": {
        "id": "3QvzqkIibWkk"
      }
    },
    {
      "cell_type": "code",
      "source": [
        "import re\n",
        "import string\n",
        "import nltk\n",
        "nltk.download('stopwords')\n",
        "from nltk.corpus import stopwords"
      ],
      "metadata": {
        "colab": {
          "base_uri": "https://localhost:8080/"
        },
        "id": "mYjTrSQHJetm",
        "outputId": "9432cb86-5dc0-4404-af14-8fb4cb513dd6"
      },
      "execution_count": null,
      "outputs": [
        {
          "output_type": "stream",
          "name": "stdout",
          "text": [
            "[nltk_data] Downloading package stopwords to /root/nltk_data...\n",
            "[nltk_data]   Package stopwords is already up-to-date!\n"
          ]
        }
      ]
    },
    {
      "cell_type": "code",
      "source": [
        "snowStem = nltk.stem.SnowballStemmer('english')\n",
        "sw_nltk = stopwords.words('english')\n",
        "sw_nltk.append('however')\n",
        "\n",
        "def my_preprocessor(processed_data, remove_stopwords = False, stemming = False):\n",
        "    # remove numbers \n",
        "    processed_data = re.sub(r'\\d+', '', processed_data)\n",
        "    # remove punctuation\n",
        "    processed_data = processed_data.translate(str.maketrans('','', string.punctuation))\n",
        "    # remove spaces\n",
        "    processed_data = processed_data.strip()\n",
        "    #upper to lower\n",
        "    processed_data = processed_data.lower()\n",
        "    \n",
        "    if stemming:\n",
        "      # stemming\n",
        "      processed_data = snowStem.stem(processed_data)\n",
        "    \n",
        "    if remove_stopwords:\n",
        "      # remove stop words\n",
        "        processed_data = ' '.join([word for word in processed_data.split() if not(word in sw_nltk)])\n",
        "        \n",
        "    \n",
        "    return processed_data"
      ],
      "metadata": {
        "id": "R_mGvrqFJtUt"
      },
      "execution_count": null,
      "outputs": []
    },
    {
      "cell_type": "code",
      "source": [
        "data.loc[:, 'processed_data'] = [my_preprocessor(text, remove_stopwords = True) for text in data.text]"
      ],
      "metadata": {
        "colab": {
          "base_uri": "https://localhost:8080/"
        },
        "id": "9Rt8ta7nJyqw",
        "outputId": "bb6f6efc-fb7f-4640-c60d-327e3115d940"
      },
      "execution_count": null,
      "outputs": [
        {
          "output_type": "stream",
          "name": "stderr",
          "text": [
            "/usr/local/lib/python3.7/dist-packages/pandas/core/indexing.py:1667: SettingWithCopyWarning: \n",
            "A value is trying to be set on a copy of a slice from a DataFrame.\n",
            "Try using .loc[row_indexer,col_indexer] = value instead\n",
            "\n",
            "See the caveats in the documentation: https://pandas.pydata.org/pandas-docs/stable/user_guide/indexing.html#returning-a-view-versus-a-copy\n",
            "  self.obj[key] = value\n"
          ]
        }
      ]
    },
    {
      "cell_type": "code",
      "source": [
        "corpus=[]\n",
        "for text in data[\"text\"]:\n",
        "    corpus.append(my_preprocessor(text, remove_stopwords = True))"
      ],
      "metadata": {
        "id": "iCEIs2-HJ2Gs"
      },
      "execution_count": null,
      "outputs": []
    },
    {
      "cell_type": "markdown",
      "source": [
        "**Here we get the target variable level and the processed data is added to the data frame.**"
      ],
      "metadata": {
        "id": "ESUQjHemeWw9"
      }
    },
    {
      "cell_type": "code",
      "source": [
        "target=data['level']"
      ],
      "metadata": {
        "id": "5mEDV0iWJ52y"
      },
      "execution_count": null,
      "outputs": []
    },
    {
      "cell_type": "code",
      "source": [
        "#reorder the text\n",
        "\n",
        "data = data[['text','processed_data','level']]\n",
        "data"
      ],
      "metadata": {
        "colab": {
          "base_uri": "https://localhost:8080/",
          "height": 423
        },
        "id": "SFUfNzJMKCsi",
        "outputId": "af38f0a3-3ffd-43e2-c38c-37f4fa3357e6"
      },
      "execution_count": null,
      "outputs": [
        {
          "output_type": "execute_result",
          "data": {
            "text/plain": [
              "                                                   text  \\\n",
              "0      Good afternoon and thanks a lot for taking my...   \n",
              "6     Okay, that's very helpful. And then on your gr...   \n",
              "12    Hi Richard. So, on gross margin, it looked pre...   \n",
              "18    And the core-on-core was pretty normal for you...   \n",
              "24     Okay. And my follow-up is on the EBIT dollar ...   \n",
              "...                                                 ...   \n",
              "8445  Hi. This is Mark for Pat. Thank you so much fo...   \n",
              "8448  Yes. I'm just wondering if you could talk a li...   \n",
              "8454  Hi, thank you. Congrats on the quarter. Just a...   \n",
              "8460  Thanks for squeezing me in guys. This question...   \n",
              "8466   One of the areas obviously which has been a s...   \n",
              "\n",
              "                                         processed_data  level  \n",
              "0     good afternoon thanks lot taking question you’...      0  \n",
              "6     okay thats helpful growth china surpass expect...      0  \n",
              "12    hi richard gross margin looked pretty solid wa...      1  \n",
              "18                        coreoncore pretty normal well      0  \n",
              "24    okay followup ebit dollar growth looked like c...      0  \n",
              "...                                                 ...    ...  \n",
              "8445  hi mark pat thank much taking question could t...      0  \n",
              "8448  yes im wondering could talk little bit custome...      0  \n",
              "8454  hi thank congrats quarter followup toms questi...      0  \n",
              "8460  thanks squeezing guys question john know guys ...      0  \n",
              "8466  one areas obviously strong growth driver team ...      0  \n",
              "\n",
              "[1309 rows x 3 columns]"
            ],
            "text/html": [
              "\n",
              "  <div id=\"df-7ccdf4db-e280-4603-8425-936321b14ab9\">\n",
              "    <div class=\"colab-df-container\">\n",
              "      <div>\n",
              "<style scoped>\n",
              "    .dataframe tbody tr th:only-of-type {\n",
              "        vertical-align: middle;\n",
              "    }\n",
              "\n",
              "    .dataframe tbody tr th {\n",
              "        vertical-align: top;\n",
              "    }\n",
              "\n",
              "    .dataframe thead th {\n",
              "        text-align: right;\n",
              "    }\n",
              "</style>\n",
              "<table border=\"1\" class=\"dataframe\">\n",
              "  <thead>\n",
              "    <tr style=\"text-align: right;\">\n",
              "      <th></th>\n",
              "      <th>text</th>\n",
              "      <th>processed_data</th>\n",
              "      <th>level</th>\n",
              "    </tr>\n",
              "  </thead>\n",
              "  <tbody>\n",
              "    <tr>\n",
              "      <th>0</th>\n",
              "      <td>Good afternoon and thanks a lot for taking my...</td>\n",
              "      <td>good afternoon thanks lot taking question you’...</td>\n",
              "      <td>0</td>\n",
              "    </tr>\n",
              "    <tr>\n",
              "      <th>6</th>\n",
              "      <td>Okay, that's very helpful. And then on your gr...</td>\n",
              "      <td>okay thats helpful growth china surpass expect...</td>\n",
              "      <td>0</td>\n",
              "    </tr>\n",
              "    <tr>\n",
              "      <th>12</th>\n",
              "      <td>Hi Richard. So, on gross margin, it looked pre...</td>\n",
              "      <td>hi richard gross margin looked pretty solid wa...</td>\n",
              "      <td>1</td>\n",
              "    </tr>\n",
              "    <tr>\n",
              "      <th>18</th>\n",
              "      <td>And the core-on-core was pretty normal for you...</td>\n",
              "      <td>coreoncore pretty normal well</td>\n",
              "      <td>0</td>\n",
              "    </tr>\n",
              "    <tr>\n",
              "      <th>24</th>\n",
              "      <td>Okay. And my follow-up is on the EBIT dollar ...</td>\n",
              "      <td>okay followup ebit dollar growth looked like c...</td>\n",
              "      <td>0</td>\n",
              "    </tr>\n",
              "    <tr>\n",
              "      <th>...</th>\n",
              "      <td>...</td>\n",
              "      <td>...</td>\n",
              "      <td>...</td>\n",
              "    </tr>\n",
              "    <tr>\n",
              "      <th>8445</th>\n",
              "      <td>Hi. This is Mark for Pat. Thank you so much fo...</td>\n",
              "      <td>hi mark pat thank much taking question could t...</td>\n",
              "      <td>0</td>\n",
              "    </tr>\n",
              "    <tr>\n",
              "      <th>8448</th>\n",
              "      <td>Yes. I'm just wondering if you could talk a li...</td>\n",
              "      <td>yes im wondering could talk little bit custome...</td>\n",
              "      <td>0</td>\n",
              "    </tr>\n",
              "    <tr>\n",
              "      <th>8454</th>\n",
              "      <td>Hi, thank you. Congrats on the quarter. Just a...</td>\n",
              "      <td>hi thank congrats quarter followup toms questi...</td>\n",
              "      <td>0</td>\n",
              "    </tr>\n",
              "    <tr>\n",
              "      <th>8460</th>\n",
              "      <td>Thanks for squeezing me in guys. This question...</td>\n",
              "      <td>thanks squeezing guys question john know guys ...</td>\n",
              "      <td>0</td>\n",
              "    </tr>\n",
              "    <tr>\n",
              "      <th>8466</th>\n",
              "      <td>One of the areas obviously which has been a s...</td>\n",
              "      <td>one areas obviously strong growth driver team ...</td>\n",
              "      <td>0</td>\n",
              "    </tr>\n",
              "  </tbody>\n",
              "</table>\n",
              "<p>1309 rows × 3 columns</p>\n",
              "</div>\n",
              "      <button class=\"colab-df-convert\" onclick=\"convertToInteractive('df-7ccdf4db-e280-4603-8425-936321b14ab9')\"\n",
              "              title=\"Convert this dataframe to an interactive table.\"\n",
              "              style=\"display:none;\">\n",
              "        \n",
              "  <svg xmlns=\"http://www.w3.org/2000/svg\" height=\"24px\"viewBox=\"0 0 24 24\"\n",
              "       width=\"24px\">\n",
              "    <path d=\"M0 0h24v24H0V0z\" fill=\"none\"/>\n",
              "    <path d=\"M18.56 5.44l.94 2.06.94-2.06 2.06-.94-2.06-.94-.94-2.06-.94 2.06-2.06.94zm-11 1L8.5 8.5l.94-2.06 2.06-.94-2.06-.94L8.5 2.5l-.94 2.06-2.06.94zm10 10l.94 2.06.94-2.06 2.06-.94-2.06-.94-.94-2.06-.94 2.06-2.06.94z\"/><path d=\"M17.41 7.96l-1.37-1.37c-.4-.4-.92-.59-1.43-.59-.52 0-1.04.2-1.43.59L10.3 9.45l-7.72 7.72c-.78.78-.78 2.05 0 2.83L4 21.41c.39.39.9.59 1.41.59.51 0 1.02-.2 1.41-.59l7.78-7.78 2.81-2.81c.8-.78.8-2.07 0-2.86zM5.41 20L4 18.59l7.72-7.72 1.47 1.35L5.41 20z\"/>\n",
              "  </svg>\n",
              "      </button>\n",
              "      \n",
              "  <style>\n",
              "    .colab-df-container {\n",
              "      display:flex;\n",
              "      flex-wrap:wrap;\n",
              "      gap: 12px;\n",
              "    }\n",
              "\n",
              "    .colab-df-convert {\n",
              "      background-color: #E8F0FE;\n",
              "      border: none;\n",
              "      border-radius: 50%;\n",
              "      cursor: pointer;\n",
              "      display: none;\n",
              "      fill: #1967D2;\n",
              "      height: 32px;\n",
              "      padding: 0 0 0 0;\n",
              "      width: 32px;\n",
              "    }\n",
              "\n",
              "    .colab-df-convert:hover {\n",
              "      background-color: #E2EBFA;\n",
              "      box-shadow: 0px 1px 2px rgba(60, 64, 67, 0.3), 0px 1px 3px 1px rgba(60, 64, 67, 0.15);\n",
              "      fill: #174EA6;\n",
              "    }\n",
              "\n",
              "    [theme=dark] .colab-df-convert {\n",
              "      background-color: #3B4455;\n",
              "      fill: #D2E3FC;\n",
              "    }\n",
              "\n",
              "    [theme=dark] .colab-df-convert:hover {\n",
              "      background-color: #434B5C;\n",
              "      box-shadow: 0px 1px 3px 1px rgba(0, 0, 0, 0.15);\n",
              "      filter: drop-shadow(0px 1px 2px rgba(0, 0, 0, 0.3));\n",
              "      fill: #FFFFFF;\n",
              "    }\n",
              "  </style>\n",
              "\n",
              "      <script>\n",
              "        const buttonEl =\n",
              "          document.querySelector('#df-7ccdf4db-e280-4603-8425-936321b14ab9 button.colab-df-convert');\n",
              "        buttonEl.style.display =\n",
              "          google.colab.kernel.accessAllowed ? 'block' : 'none';\n",
              "\n",
              "        async function convertToInteractive(key) {\n",
              "          const element = document.querySelector('#df-7ccdf4db-e280-4603-8425-936321b14ab9');\n",
              "          const dataTable =\n",
              "            await google.colab.kernel.invokeFunction('convertToInteractive',\n",
              "                                                     [key], {});\n",
              "          if (!dataTable) return;\n",
              "\n",
              "          const docLinkHtml = 'Like what you see? Visit the ' +\n",
              "            '<a target=\"_blank\" href=https://colab.research.google.com/notebooks/data_table.ipynb>data table notebook</a>'\n",
              "            + ' to learn more about interactive tables.';\n",
              "          element.innerHTML = '';\n",
              "          dataTable['output_type'] = 'display_data';\n",
              "          await google.colab.output.renderOutput(dataTable, element);\n",
              "          const docLink = document.createElement('div');\n",
              "          docLink.innerHTML = docLinkHtml;\n",
              "          element.appendChild(docLink);\n",
              "        }\n",
              "      </script>\n",
              "    </div>\n",
              "  </div>\n",
              "  "
            ]
          },
          "metadata": {},
          "execution_count": 83
        }
      ]
    },
    {
      "cell_type": "markdown",
      "source": [
        "#Predicting Questions by Implementation of TF-IDF"
      ],
      "metadata": {
        "id": "dw4v_1fRqRrO"
      }
    },
    {
      "cell_type": "markdown",
      "source": [
        "**Machine Learning Models cannot undestand Raw textual data. The data has to be transformed in some way so that when the data is fed into the model , the model can make sense of the data. We have various methods to tranform this data such as frequency modelling, topic modelling , word embeddings and transformer mechanisms.**\n",
        "\n",
        "**Here we will be diving deep into the TF-IDF frequency modelling approach.TF-IDF is basically a statistical technique that tells how important a word is to a document in a collection of documents. The TF-IDF statistical measure is calculated by multiplying 2 distinct values- term frequency and inverse document frequency.** "
      ],
      "metadata": {
        "id": "Lc7DdFDhek-c"
      }
    },
    {
      "cell_type": "code",
      "source": [
        "#Here we import the TfidfVectorizer to vectorize the text\n",
        "\n",
        "from sklearn.feature_extraction.text import TfidfVectorizer\n",
        "\n",
        "vect = TfidfVectorizer(ngram_range = (1, 2), min_df= 2, max_features=1000) \n",
        "vectorized_text=vect.fit_transform(data['processed_data'])"
      ],
      "metadata": {
        "id": "wMgvVTzjqYm8"
      },
      "execution_count": null,
      "outputs": []
    },
    {
      "cell_type": "code",
      "source": [
        "#The train test spilt is performed here.\n",
        "\n",
        "from sklearn.model_selection import train_test_split\n",
        "\n",
        "x_train, x_validation_and_test, y_train, y_validation_and_test = train_test_split(vectorized_text, target, test_size=.3,random_state=42)\n",
        "x_validation, x_test, y_validation, y_test = train_test_split(x_validation_and_test, y_validation_and_test, test_size=.5,random_state=42)"
      ],
      "metadata": {
        "id": "TVvGZGEMq0Bb"
      },
      "execution_count": null,
      "outputs": []
    },
    {
      "cell_type": "markdown",
      "source": [
        "**Here we use Logistic Regression and the Random forest classifier. Logistic regression is a simple yet very effective classification algorithm so it is commonly used for many binary classification tasks.**\n",
        "\n",
        "**The Random Forest (RF) classifiers are suitable for dealing with the high dimensional noisy data in text classification. An RF model comprises a set of decision trees each of which is trained using random subsets of features**.\n",
        "\n"
      ],
      "metadata": {
        "id": "k2E2fOjujHz_"
      }
    },
    {
      "cell_type": "code",
      "source": [
        "#Classification implementation\n",
        "from sklearn.ensemble import RandomForestClassifier\n",
        "from sklearn.linear_model import LogisticRegression\n",
        "from sklearn.metrics import accuracy_score\n",
        "\n",
        "def logistic_reg_train_model(x_train,y_train,x_test,y_test):\n",
        "    log_reg = LogisticRegression(random_state=0)\n",
        "    log_reg.fit(x_train,y_train)\n",
        "    pred = log_reg.predict(x_test)\n",
        "    log_accuracy = accuracy_score(y_test,pred)\n",
        "    print (str(log_accuracy)+(\" is the accuracy of the logistic regression model\"))\n",
        "    return log_reg\n",
        "    \n",
        "def Random_forest_train_model(x_train,y_train,x_test,y_test):\n",
        "    rf = RandomForestClassifier(n_estimators=100, random_state=42)\n",
        "    rf.fit(x_train, y_train)\n",
        "    pred = rf.predict(x_test)\n",
        "    rf_accuracy= accuracy_score(y_test,pred)\n",
        "    print(str(rf_accuracy)+(\" is the accuracy of the RandomForestClassifier model\"))\n",
        "    return rf\n",
        "\n",
        "log_reg = logistic_reg_train_model(x_train,y_train,x_test,y_test)\n",
        "rf = Random_forest_train_model(x_train,y_train,x_test,y_test)"
      ],
      "metadata": {
        "colab": {
          "base_uri": "https://localhost:8080/"
        },
        "id": "aYO4nCBErysW",
        "outputId": "e88c30a4-6db7-459a-ab17-5f8293f9e991"
      },
      "execution_count": null,
      "outputs": [
        {
          "output_type": "stream",
          "name": "stdout",
          "text": [
            "0.7157360406091371 is the accuracy of the logistic regression model\n",
            "0.6700507614213198 is the accuracy of the RandomForestClassifier model\n"
          ]
        }
      ]
    },
    {
      "cell_type": "code",
      "source": [
        "#validation\n",
        "\n",
        "def logistic_reg_val_model(x_validation,y_validation, log_reg):\n",
        "    y_pred_lr = log_reg.predict(x_validation)\n",
        "    yprob_lr = log_reg.predict_proba(x_validation)\n",
        "    log_accuracy = accuracy_score(y_validation,y_pred_lr)\n",
        "    print (str(log_accuracy)+(\" is the Val_accuracy of the logistic regression model\"))\n",
        "    return yprob_lr\n",
        "\n",
        "def random_forest_val_model(x_validation,y_validation, rf):\n",
        "    y_pred_rf = rf.predict(x_validation)\n",
        "    yprob_rf = rf.predict_proba(x_validation)\n",
        "    rf_acc= accuracy_score(y_validation,y_pred_rf)\n",
        "    print(str(rf_acc)+(\" is the Val_accuracy of the RandomForestClassifier model\"))\n",
        "    return yprob_rf\n",
        "\n",
        "yhat_lr = logistic_reg_val_model(x_validation,y_validation,log_reg)\n",
        "yhat_rf = random_forest_val_model(x_validation,y_validation,rf)"
      ],
      "metadata": {
        "colab": {
          "base_uri": "https://localhost:8080/"
        },
        "id": "MivHOMwAzMvh",
        "outputId": "0dfee9ce-8a86-46c3-d6a9-c6565fd664db"
      },
      "execution_count": null,
      "outputs": [
        {
          "output_type": "stream",
          "name": "stdout",
          "text": [
            "0.7244897959183674 is the Val_accuracy of the logistic regression model\n",
            "0.7142857142857143 is the Val_accuracy of the RandomForestClassifier model\n"
          ]
        }
      ]
    },
    {
      "cell_type": "markdown",
      "source": [
        "**We will be using the ROC curve and Precision Recall curve to evaluate the models.**\n",
        "**Since the data is highly imbalanced, we would like to fous on the Precision Recall curve along with the accuracy of the model.**"
      ],
      "metadata": {
        "id": "Fd9gGdLLn4Sj"
      }
    },
    {
      "cell_type": "code",
      "source": [
        "from sklearn.metrics import roc_curve, auc,precision_recall_curve,average_precision_score,plot_precision_recall_curve, accuracy_score\n",
        "import matplotlib.pyplot as plt\n",
        "\n",
        "def print_roc(y_validation,yhat_lr,yhat_rf):\n",
        "    fpr_lr, tpr_lr, threshold = roc_curve(y_validation, yhat_lr[:,1])\n",
        "    roc_auc_lr = auc(fpr_lr, tpr_lr)\n",
        "    fpr_rf, tpr_rf, threshold = roc_curve(y_validation, yhat_rf[:,1])\n",
        "    roc_auc_rf = auc(fpr_rf, tpr_rf)\n",
        "    plt.figure(figsize=(6,6))\n",
        "    plt.plot(fpr_lr, tpr_lr, label='logisticReg (area = %0.3f)' % roc_auc_lr, linewidth=2)\n",
        "    plt.plot(fpr_rf, tpr_rf, label='RandomForest (area = %0.3f)' % roc_auc_rf, linewidth=2)\n",
        "    plt.plot([0, 1], [0, 1], 'k--', linewidth=2)\n",
        "    plt.xlim([-0.05, 1.0])\n",
        "    plt.ylim([-0.05, 1.05])\n",
        "    plt.xlabel('False Positive Rate', fontsize=18)\n",
        "    plt.ylabel('True Positive Rate', fontsize=18)\n",
        "    plt.title('Receiver operating characteristic: is positive', fontsize=18)\n",
        "    plt.legend(loc=\"lower right\")\n",
        "    plt.show()\n",
        "\n",
        "print_roc(y_validation,yhat_lr,yhat_rf)"
      ],
      "metadata": {
        "colab": {
          "base_uri": "https://localhost:8080/",
          "height": 416
        },
        "id": "tYtbFKoozxc8",
        "outputId": "87d3384e-fd4a-42c8-f008-5dbfa4a9f12d"
      },
      "execution_count": null,
      "outputs": [
        {
          "output_type": "display_data",
          "data": {
            "text/plain": [
              "<Figure size 432x432 with 1 Axes>"
            ],
            "image/png": "[encoded data removed]"
          },
          "metadata": {
            "needs_background": "light"
          }
        }
      ]
    },
    {
      "cell_type": "code",
      "source": [
        "def print_precision_recall_curve(y_validation,yhat_lr,yhat_rf):\n",
        "    average_precision_lr = average_precision_score(y_validation, yhat_lr[:,1])\n",
        "    print('average precision Logistic Regression :%0.3f' %average_precision_lr)\n",
        "    average_precision_rf = average_precision_score(y_validation, yhat_rf[:,1])\n",
        "    print('average precision Random Forest :%0.3f' %average_precision_rf)\n",
        "    precision_lr, recall_lr, thresholds = precision_recall_curve(y_validation, yhat_lr[:,1])\n",
        "    precision_rf, recall_rf, thresholds = precision_recall_curve(y_validation, yhat_rf[:,1])\n",
        "    auc_precision_recall_lr = auc(recall_lr, precision_lr)\n",
        "    auc_precision_recall_rf = auc(recall_rf, precision_rf)\n",
        "    plt.figure(figsize=(6,6))\n",
        "    plt.xlabel('Recall', fontsize=14)\n",
        "    plt.ylabel('Precision', fontsize=14)\n",
        "    plt.title('Precision- Recall Curve', fontsize=16)\n",
        "    plt.plot(recall_lr, precision_lr,label='logisticReg (area = %0.3f)' %auc_precision_recall_lr )\n",
        "    plt.plot(recall_rf, precision_rf,label=' RandomForest (area = %0.3f)' %auc_precision_recall_rf )\n",
        "    plt.legend(loc=\"upper right\")\n",
        "    plt.show()\n",
        "\n",
        "print_precision_recall_curve(y_validation,yhat_lr,yhat_rf)"
      ],
      "metadata": {
        "colab": {
          "base_uri": "https://localhost:8080/",
          "height": 444
        },
        "id": "I3EkO36Umkck",
        "outputId": "6d7ddeb4-ceaa-4bf2-e2bc-2533d244c697"
      },
      "execution_count": null,
      "outputs": [
        {
          "output_type": "stream",
          "name": "stdout",
          "text": [
            "average precision Logistic Regression :0.418\n",
            "average precision Random Forest :0.456\n"
          ]
        },
        {
          "output_type": "display_data",
          "data": {
            "text/plain": [
              "<Figure size 432x432 with 1 Axes>"
            ],
            "image/png": "[encoded data removed]"
          },
          "metadata": {
            "needs_background": "light"
          }
        }
      ]
    },
    {
      "cell_type": "markdown",
      "source": [
        "**Based on the above results , we see the Random forest classifier performing better when it comes to the ROC and Precision Recall Curve , while the logistic regression has a better Val accuracy.**"
      ],
      "metadata": {
        "id": "SnD99lsLk37D"
      }
    },
    {
      "cell_type": "markdown",
      "source": [
        "#Predicting Answers by implementation of TF-IDF"
      ],
      "metadata": {
        "id": "pCCPHUpdyJdA"
      }
    },
    {
      "cell_type": "markdown",
      "source": [
        "**Now we try to predict predict the ANSWER LABEL 2 (\"Answer_2_negative\": 0, \"Answer_2_positive\": 1) for the text.**\n",
        "\n",
        "We start with the data pre-processing and the data cleaning. We modify the dataframe so that we get the data related to Answer label 2"
      ],
      "metadata": {
        "id": "b1I9zfimlU6y"
      }
    },
    {
      "cell_type": "code",
      "source": [
        "df = pd.read_csv('/content/drive/My Drive/data.csv')\n",
        "df.info()\n",
        "df"
      ],
      "metadata": {
        "colab": {
          "base_uri": "https://localhost:8080/",
          "height": 631
        },
        "id": "0siXGlZiygx4",
        "outputId": "df800f4c-c484-4ba2-9d2b-9680da3e8f1c"
      },
      "execution_count": null,
      "outputs": [
        {
          "output_type": "stream",
          "name": "stdout",
          "text": [
            "<class 'pandas.core.frame.DataFrame'>\n",
            "RangeIndex: 8472 entries, 0 to 8471\n",
            "Data columns (total 5 columns):\n",
            " #   Column      Non-Null Count  Dtype \n",
            "---  ------      --------------  ----- \n",
            " 0   Unnamed: 0  8472 non-null   int64 \n",
            " 1   text        8472 non-null   object\n",
            " 2   category    8472 non-null   object\n",
            " 3   stage       8472 non-null   int64 \n",
            " 4   level       8472 non-null   int64 \n",
            "dtypes: int64(3), object(2)\n",
            "memory usage: 331.1+ KB\n"
          ]
        },
        {
          "output_type": "execute_result",
          "data": {
            "text/plain": [
              "      Unnamed: 0                                               text  category  \\\n",
              "0              0   Good afternoon and thanks a lot for taking my...  Question   \n",
              "1              1  Good afternoon and thanks a lot for taking my ...  Question   \n",
              "2              2  Good afternoon and thanks a lot for taking my ...  Question   \n",
              "3              3  No, I think that as it relates to the one, I t...    Answer   \n",
              "4              4   No, I think that as it relates to the one, I ...    Answer   \n",
              "...          ...                                                ...       ...   \n",
              "8467        8467   One of the areas obviously which has been a s...  Question   \n",
              "8468        8468  One of the areas obviously which has been a st...  Question   \n",
              "8469        8469  Well, let's start with the first part of your ...    Answer   \n",
              "8470        8470  Well, let's start with the first part of your ...    Answer   \n",
              "8471        8471  Well, let's start with the first part of your ...    Answer   \n",
              "\n",
              "      stage  level  \n",
              "0         1      0  \n",
              "1         2      0  \n",
              "2         3      1  \n",
              "3         1      0  \n",
              "4         2      1  \n",
              "...     ...    ...  \n",
              "8467      2      0  \n",
              "8468      3      1  \n",
              "8469      1      0  \n",
              "8470      2      1  \n",
              "8471      3      1  \n",
              "\n",
              "[8472 rows x 5 columns]"
            ],
            "text/html": [
              "\n",
              "  <div id=\"df-d1f35e8c-75c2-4951-b8c3-44cd0b2038a9\">\n",
              "    <div class=\"colab-df-container\">\n",
              "      <div>\n",
              "<style scoped>\n",
              "    .dataframe tbody tr th:only-of-type {\n",
              "        vertical-align: middle;\n",
              "    }\n",
              "\n",
              "    .dataframe tbody tr th {\n",
              "        vertical-align: top;\n",
              "    }\n",
              "\n",
              "    .dataframe thead th {\n",
              "        text-align: right;\n",
              "    }\n",
              "</style>\n",
              "<table border=\"1\" class=\"dataframe\">\n",
              "  <thead>\n",
              "    <tr style=\"text-align: right;\">\n",
              "      <th></th>\n",
              "      <th>Unnamed: 0</th>\n",
              "      <th>text</th>\n",
              "      <th>category</th>\n",
              "      <th>stage</th>\n",
              "      <th>level</th>\n",
              "    </tr>\n",
              "  </thead>\n",
              "  <tbody>\n",
              "    <tr>\n",
              "      <th>0</th>\n",
              "      <td>0</td>\n",
              "      <td>Good afternoon and thanks a lot for taking my...</td>\n",
              "      <td>Question</td>\n",
              "      <td>1</td>\n",
              "      <td>0</td>\n",
              "    </tr>\n",
              "    <tr>\n",
              "      <th>1</th>\n",
              "      <td>1</td>\n",
              "      <td>Good afternoon and thanks a lot for taking my ...</td>\n",
              "      <td>Question</td>\n",
              "      <td>2</td>\n",
              "      <td>0</td>\n",
              "    </tr>\n",
              "    <tr>\n",
              "      <th>2</th>\n",
              "      <td>2</td>\n",
              "      <td>Good afternoon and thanks a lot for taking my ...</td>\n",
              "      <td>Question</td>\n",
              "      <td>3</td>\n",
              "      <td>1</td>\n",
              "    </tr>\n",
              "    <tr>\n",
              "      <th>3</th>\n",
              "      <td>3</td>\n",
              "      <td>No, I think that as it relates to the one, I t...</td>\n",
              "      <td>Answer</td>\n",
              "      <td>1</td>\n",
              "      <td>0</td>\n",
              "    </tr>\n",
              "    <tr>\n",
              "      <th>4</th>\n",
              "      <td>4</td>\n",
              "      <td>No, I think that as it relates to the one, I ...</td>\n",
              "      <td>Answer</td>\n",
              "      <td>2</td>\n",
              "      <td>1</td>\n",
              "    </tr>\n",
              "    <tr>\n",
              "      <th>...</th>\n",
              "      <td>...</td>\n",
              "      <td>...</td>\n",
              "      <td>...</td>\n",
              "      <td>...</td>\n",
              "      <td>...</td>\n",
              "    </tr>\n",
              "    <tr>\n",
              "      <th>8467</th>\n",
              "      <td>8467</td>\n",
              "      <td>One of the areas obviously which has been a s...</td>\n",
              "      <td>Question</td>\n",
              "      <td>2</td>\n",
              "      <td>0</td>\n",
              "    </tr>\n",
              "    <tr>\n",
              "      <th>8468</th>\n",
              "      <td>8468</td>\n",
              "      <td>One of the areas obviously which has been a st...</td>\n",
              "      <td>Question</td>\n",
              "      <td>3</td>\n",
              "      <td>1</td>\n",
              "    </tr>\n",
              "    <tr>\n",
              "      <th>8469</th>\n",
              "      <td>8469</td>\n",
              "      <td>Well, let's start with the first part of your ...</td>\n",
              "      <td>Answer</td>\n",
              "      <td>1</td>\n",
              "      <td>0</td>\n",
              "    </tr>\n",
              "    <tr>\n",
              "      <th>8470</th>\n",
              "      <td>8470</td>\n",
              "      <td>Well, let's start with the first part of your ...</td>\n",
              "      <td>Answer</td>\n",
              "      <td>2</td>\n",
              "      <td>1</td>\n",
              "    </tr>\n",
              "    <tr>\n",
              "      <th>8471</th>\n",
              "      <td>8471</td>\n",
              "      <td>Well, let's start with the first part of your ...</td>\n",
              "      <td>Answer</td>\n",
              "      <td>3</td>\n",
              "      <td>1</td>\n",
              "    </tr>\n",
              "  </tbody>\n",
              "</table>\n",
              "<p>8472 rows × 5 columns</p>\n",
              "</div>\n",
              "      <button class=\"colab-df-convert\" onclick=\"convertToInteractive('df-d1f35e8c-75c2-4951-b8c3-44cd0b2038a9')\"\n",
              "              title=\"Convert this dataframe to an interactive table.\"\n",
              "              style=\"display:none;\">\n",
              "        \n",
              "  <svg xmlns=\"http://www.w3.org/2000/svg\" height=\"24px\"viewBox=\"0 0 24 24\"\n",
              "       width=\"24px\">\n",
              "    <path d=\"M0 0h24v24H0V0z\" fill=\"none\"/>\n",
              "    <path d=\"M18.56 5.44l.94 2.06.94-2.06 2.06-.94-2.06-.94-.94-2.06-.94 2.06-2.06.94zm-11 1L8.5 8.5l.94-2.06 2.06-.94-2.06-.94L8.5 2.5l-.94 2.06-2.06.94zm10 10l.94 2.06.94-2.06 2.06-.94-2.06-.94-.94-2.06-.94 2.06-2.06.94z\"/><path d=\"M17.41 7.96l-1.37-1.37c-.4-.4-.92-.59-1.43-.59-.52 0-1.04.2-1.43.59L10.3 9.45l-7.72 7.72c-.78.78-.78 2.05 0 2.83L4 21.41c.39.39.9.59 1.41.59.51 0 1.02-.2 1.41-.59l7.78-7.78 2.81-2.81c.8-.78.8-2.07 0-2.86zM5.41 20L4 18.59l7.72-7.72 1.47 1.35L5.41 20z\"/>\n",
              "  </svg>\n",
              "      </button>\n",
              "      \n",
              "  <style>\n",
              "    .colab-df-container {\n",
              "      display:flex;\n",
              "      flex-wrap:wrap;\n",
              "      gap: 12px;\n",
              "    }\n",
              "\n",
              "    .colab-df-convert {\n",
              "      background-color: #E8F0FE;\n",
              "      border: none;\n",
              "      border-radius: 50%;\n",
              "      cursor: pointer;\n",
              "      display: none;\n",
              "      fill: #1967D2;\n",
              "      height: 32px;\n",
              "      padding: 0 0 0 0;\n",
              "      width: 32px;\n",
              "    }\n",
              "\n",
              "    .colab-df-convert:hover {\n",
              "      background-color: #E2EBFA;\n",
              "      box-shadow: 0px 1px 2px rgba(60, 64, 67, 0.3), 0px 1px 3px 1px rgba(60, 64, 67, 0.15);\n",
              "      fill: #174EA6;\n",
              "    }\n",
              "\n",
              "    [theme=dark] .colab-df-convert {\n",
              "      background-color: #3B4455;\n",
              "      fill: #D2E3FC;\n",
              "    }\n",
              "\n",
              "    [theme=dark] .colab-df-convert:hover {\n",
              "      background-color: #434B5C;\n",
              "      box-shadow: 0px 1px 3px 1px rgba(0, 0, 0, 0.15);\n",
              "      filter: drop-shadow(0px 1px 2px rgba(0, 0, 0, 0.3));\n",
              "      fill: #FFFFFF;\n",
              "    }\n",
              "  </style>\n",
              "\n",
              "      <script>\n",
              "        const buttonEl =\n",
              "          document.querySelector('#df-d1f35e8c-75c2-4951-b8c3-44cd0b2038a9 button.colab-df-convert');\n",
              "        buttonEl.style.display =\n",
              "          google.colab.kernel.accessAllowed ? 'block' : 'none';\n",
              "\n",
              "        async function convertToInteractive(key) {\n",
              "          const element = document.querySelector('#df-d1f35e8c-75c2-4951-b8c3-44cd0b2038a9');\n",
              "          const dataTable =\n",
              "            await google.colab.kernel.invokeFunction('convertToInteractive',\n",
              "                                                     [key], {});\n",
              "          if (!dataTable) return;\n",
              "\n",
              "          const docLinkHtml = 'Like what you see? Visit the ' +\n",
              "            '<a target=\"_blank\" href=https://colab.research.google.com/notebooks/data_table.ipynb>data table notebook</a>'\n",
              "            + ' to learn more about interactive tables.';\n",
              "          element.innerHTML = '';\n",
              "          dataTable['output_type'] = 'display_data';\n",
              "          await google.colab.output.renderOutput(dataTable, element);\n",
              "          const docLink = document.createElement('div');\n",
              "          docLink.innerHTML = docLinkHtml;\n",
              "          element.appendChild(docLink);\n",
              "        }\n",
              "      </script>\n",
              "    </div>\n",
              "  </div>\n",
              "  "
            ]
          },
          "metadata": {},
          "execution_count": 90
        }
      ]
    },
    {
      "cell_type": "code",
      "source": [
        "index= df[df[\"category\"]==\"Question\"].index\n",
        "df.drop(index,inplace=True)\n",
        "data= df[df[\"stage\"]==2]\n",
        "data.drop(columns=[\"category\",\"stage\",\"Unnamed: 0\"],axis=1 ,inplace=True)\n",
        "data.shape"
      ],
      "metadata": {
        "colab": {
          "base_uri": "https://localhost:8080/"
        },
        "outputId": "9a3f62e0-c635-456c-c5d8-6bbf658e9104",
        "id": "21YIdLuDyQjv"
      },
      "execution_count": null,
      "outputs": [
        {
          "output_type": "stream",
          "name": "stderr",
          "text": [
            "/usr/local/lib/python3.7/dist-packages/pandas/core/frame.py:4913: SettingWithCopyWarning: \n",
            "A value is trying to be set on a copy of a slice from a DataFrame\n",
            "\n",
            "See the caveats in the documentation: https://pandas.pydata.org/pandas-docs/stable/user_guide/indexing.html#returning-a-view-versus-a-copy\n",
            "  errors=errors,\n"
          ]
        },
        {
          "output_type": "execute_result",
          "data": {
            "text/plain": [
              "(1516, 2)"
            ]
          },
          "metadata": {},
          "execution_count": 91
        }
      ]
    },
    {
      "cell_type": "code",
      "source": [
        "data"
      ],
      "metadata": {
        "colab": {
          "base_uri": "https://localhost:8080/",
          "height": 423
        },
        "outputId": "49ba5995-ae02-445d-89d9-cab7296ce614",
        "id": "tb9OfLzKyQjv"
      },
      "execution_count": null,
      "outputs": [
        {
          "output_type": "execute_result",
          "data": {
            "text/plain": [
              "                                                   text  level\n",
              "4      No, I think that as it relates to the one, I ...      1\n",
              "10    Well, clearly, it surpassed all of our very hi...      1\n",
              "16    I think the last few years, not only for us bu...      1\n",
              "22    The core-on-core, well, yes, I don't think the...      0\n",
              "28    There's lots of everything, Simeon. We really ...      1\n",
              "...                                                 ...    ...\n",
              "8443  Great, Tom. And I think the reason why we beli...      1\n",
              "8452  Yes, I mean, as part of our prepared remarks, ...      1\n",
              "8458  I'll touch on one, maybe in a little bit of de...      1\n",
              "8464  Yes, sure. The performance of RPO, and as we g...      1\n",
              "8470  Well, let's start with the first part of your ...      1\n",
              "\n",
              "[1516 rows x 2 columns]"
            ],
            "text/html": [
              "\n",
              "  <div id=\"df-41d5ee79-588e-49d2-a101-0159df06fbd2\">\n",
              "    <div class=\"colab-df-container\">\n",
              "      <div>\n",
              "<style scoped>\n",
              "    .dataframe tbody tr th:only-of-type {\n",
              "        vertical-align: middle;\n",
              "    }\n",
              "\n",
              "    .dataframe tbody tr th {\n",
              "        vertical-align: top;\n",
              "    }\n",
              "\n",
              "    .dataframe thead th {\n",
              "        text-align: right;\n",
              "    }\n",
              "</style>\n",
              "<table border=\"1\" class=\"dataframe\">\n",
              "  <thead>\n",
              "    <tr style=\"text-align: right;\">\n",
              "      <th></th>\n",
              "      <th>text</th>\n",
              "      <th>level</th>\n",
              "    </tr>\n",
              "  </thead>\n",
              "  <tbody>\n",
              "    <tr>\n",
              "      <th>4</th>\n",
              "      <td>No, I think that as it relates to the one, I ...</td>\n",
              "      <td>1</td>\n",
              "    </tr>\n",
              "    <tr>\n",
              "      <th>10</th>\n",
              "      <td>Well, clearly, it surpassed all of our very hi...</td>\n",
              "      <td>1</td>\n",
              "    </tr>\n",
              "    <tr>\n",
              "      <th>16</th>\n",
              "      <td>I think the last few years, not only for us bu...</td>\n",
              "      <td>1</td>\n",
              "    </tr>\n",
              "    <tr>\n",
              "      <th>22</th>\n",
              "      <td>The core-on-core, well, yes, I don't think the...</td>\n",
              "      <td>0</td>\n",
              "    </tr>\n",
              "    <tr>\n",
              "      <th>28</th>\n",
              "      <td>There's lots of everything, Simeon. We really ...</td>\n",
              "      <td>1</td>\n",
              "    </tr>\n",
              "    <tr>\n",
              "      <th>...</th>\n",
              "      <td>...</td>\n",
              "      <td>...</td>\n",
              "    </tr>\n",
              "    <tr>\n",
              "      <th>8443</th>\n",
              "      <td>Great, Tom. And I think the reason why we beli...</td>\n",
              "      <td>1</td>\n",
              "    </tr>\n",
              "    <tr>\n",
              "      <th>8452</th>\n",
              "      <td>Yes, I mean, as part of our prepared remarks, ...</td>\n",
              "      <td>1</td>\n",
              "    </tr>\n",
              "    <tr>\n",
              "      <th>8458</th>\n",
              "      <td>I'll touch on one, maybe in a little bit of de...</td>\n",
              "      <td>1</td>\n",
              "    </tr>\n",
              "    <tr>\n",
              "      <th>8464</th>\n",
              "      <td>Yes, sure. The performance of RPO, and as we g...</td>\n",
              "      <td>1</td>\n",
              "    </tr>\n",
              "    <tr>\n",
              "      <th>8470</th>\n",
              "      <td>Well, let's start with the first part of your ...</td>\n",
              "      <td>1</td>\n",
              "    </tr>\n",
              "  </tbody>\n",
              "</table>\n",
              "<p>1516 rows × 2 columns</p>\n",
              "</div>\n",
              "      <button class=\"colab-df-convert\" onclick=\"convertToInteractive('df-41d5ee79-588e-49d2-a101-0159df06fbd2')\"\n",
              "              title=\"Convert this dataframe to an interactive table.\"\n",
              "              style=\"display:none;\">\n",
              "        \n",
              "  <svg xmlns=\"http://www.w3.org/2000/svg\" height=\"24px\"viewBox=\"0 0 24 24\"\n",
              "       width=\"24px\">\n",
              "    <path d=\"M0 0h24v24H0V0z\" fill=\"none\"/>\n",
              "    <path d=\"M18.56 5.44l.94 2.06.94-2.06 2.06-.94-2.06-.94-.94-2.06-.94 2.06-2.06.94zm-11 1L8.5 8.5l.94-2.06 2.06-.94-2.06-.94L8.5 2.5l-.94 2.06-2.06.94zm10 10l.94 2.06.94-2.06 2.06-.94-2.06-.94-.94-2.06-.94 2.06-2.06.94z\"/><path d=\"M17.41 7.96l-1.37-1.37c-.4-.4-.92-.59-1.43-.59-.52 0-1.04.2-1.43.59L10.3 9.45l-7.72 7.72c-.78.78-.78 2.05 0 2.83L4 21.41c.39.39.9.59 1.41.59.51 0 1.02-.2 1.41-.59l7.78-7.78 2.81-2.81c.8-.78.8-2.07 0-2.86zM5.41 20L4 18.59l7.72-7.72 1.47 1.35L5.41 20z\"/>\n",
              "  </svg>\n",
              "      </button>\n",
              "      \n",
              "  <style>\n",
              "    .colab-df-container {\n",
              "      display:flex;\n",
              "      flex-wrap:wrap;\n",
              "      gap: 12px;\n",
              "    }\n",
              "\n",
              "    .colab-df-convert {\n",
              "      background-color: #E8F0FE;\n",
              "      border: none;\n",
              "      border-radius: 50%;\n",
              "      cursor: pointer;\n",
              "      display: none;\n",
              "      fill: #1967D2;\n",
              "      height: 32px;\n",
              "      padding: 0 0 0 0;\n",
              "      width: 32px;\n",
              "    }\n",
              "\n",
              "    .colab-df-convert:hover {\n",
              "      background-color: #E2EBFA;\n",
              "      box-shadow: 0px 1px 2px rgba(60, 64, 67, 0.3), 0px 1px 3px 1px rgba(60, 64, 67, 0.15);\n",
              "      fill: #174EA6;\n",
              "    }\n",
              "\n",
              "    [theme=dark] .colab-df-convert {\n",
              "      background-color: #3B4455;\n",
              "      fill: #D2E3FC;\n",
              "    }\n",
              "\n",
              "    [theme=dark] .colab-df-convert:hover {\n",
              "      background-color: #434B5C;\n",
              "      box-shadow: 0px 1px 3px 1px rgba(0, 0, 0, 0.15);\n",
              "      filter: drop-shadow(0px 1px 2px rgba(0, 0, 0, 0.3));\n",
              "      fill: #FFFFFF;\n",
              "    }\n",
              "  </style>\n",
              "\n",
              "      <script>\n",
              "        const buttonEl =\n",
              "          document.querySelector('#df-41d5ee79-588e-49d2-a101-0159df06fbd2 button.colab-df-convert');\n",
              "        buttonEl.style.display =\n",
              "          google.colab.kernel.accessAllowed ? 'block' : 'none';\n",
              "\n",
              "        async function convertToInteractive(key) {\n",
              "          const element = document.querySelector('#df-41d5ee79-588e-49d2-a101-0159df06fbd2');\n",
              "          const dataTable =\n",
              "            await google.colab.kernel.invokeFunction('convertToInteractive',\n",
              "                                                     [key], {});\n",
              "          if (!dataTable) return;\n",
              "\n",
              "          const docLinkHtml = 'Like what you see? Visit the ' +\n",
              "            '<a target=\"_blank\" href=https://colab.research.google.com/notebooks/data_table.ipynb>data table notebook</a>'\n",
              "            + ' to learn more about interactive tables.';\n",
              "          element.innerHTML = '';\n",
              "          dataTable['output_type'] = 'display_data';\n",
              "          await google.colab.output.renderOutput(dataTable, element);\n",
              "          const docLink = document.createElement('div');\n",
              "          docLink.innerHTML = docLinkHtml;\n",
              "          element.appendChild(docLink);\n",
              "        }\n",
              "      </script>\n",
              "    </div>\n",
              "  </div>\n",
              "  "
            ]
          },
          "metadata": {},
          "execution_count": 92
        }
      ]
    },
    {
      "cell_type": "code",
      "source": [
        "import re\n",
        "import string\n",
        "import nltk\n",
        "nltk.download('stopwords')\n",
        "from nltk.corpus import stopwords"
      ],
      "metadata": {
        "colab": {
          "base_uri": "https://localhost:8080/"
        },
        "outputId": "9018331d-94c8-471a-9812-b42e867a97c2",
        "id": "aPKjbqWWyQjw"
      },
      "execution_count": null,
      "outputs": [
        {
          "output_type": "stream",
          "name": "stdout",
          "text": [
            "[nltk_data] Downloading package stopwords to /root/nltk_data...\n",
            "[nltk_data]   Package stopwords is already up-to-date!\n"
          ]
        }
      ]
    },
    {
      "cell_type": "code",
      "source": [
        "snowStem = nltk.stem.SnowballStemmer('english')\n",
        "sw_nltk = stopwords.words('english')\n",
        "sw_nltk.append('however')\n",
        "\n",
        "def my_preprocessor(processed_data, remove_stopwords = False, stemming = False):\n",
        "    # remove numbers \n",
        "    processed_data = re.sub(r'\\d+', '', processed_data)\n",
        "    # remove punctuation\n",
        "    processed_data = processed_data.translate(str.maketrans('','', string.punctuation))\n",
        "    # remove spaces\n",
        "    processed_data = processed_data.strip()\n",
        "    #upper to lower\n",
        "    processed_data = processed_data.lower()\n",
        "    \n",
        "    if stemming:\n",
        "      # stemming\n",
        "      processed_data = snowStem.stem(processed_data)\n",
        "    \n",
        "    if remove_stopwords:\n",
        "        # remove stop words\n",
        "        processed_data = ' '.join([word for word in processed_data.split() if not(word in sw_nltk)])\n",
        "        \n",
        "    \n",
        "    return processed_data"
      ],
      "metadata": {
        "id": "_vUXuZEJyQjw"
      },
      "execution_count": null,
      "outputs": []
    },
    {
      "cell_type": "code",
      "source": [
        "data.loc[:, 'processed_data'] = [my_preprocessor(text, remove_stopwords = True) for text in data.text]"
      ],
      "metadata": {
        "colab": {
          "base_uri": "https://localhost:8080/"
        },
        "outputId": "cee22b43-4b43-4e1a-ef22-b377bb202a9f",
        "id": "VH5KoDdiyQjw"
      },
      "execution_count": null,
      "outputs": [
        {
          "output_type": "stream",
          "name": "stderr",
          "text": [
            "/usr/local/lib/python3.7/dist-packages/pandas/core/indexing.py:1667: SettingWithCopyWarning: \n",
            "A value is trying to be set on a copy of a slice from a DataFrame.\n",
            "Try using .loc[row_indexer,col_indexer] = value instead\n",
            "\n",
            "See the caveats in the documentation: https://pandas.pydata.org/pandas-docs/stable/user_guide/indexing.html#returning-a-view-versus-a-copy\n",
            "  self.obj[key] = value\n"
          ]
        }
      ]
    },
    {
      "cell_type": "code",
      "source": [
        "corpus=[]\n",
        "for text in data[\"text\"]:\n",
        "    corpus.append(my_preprocessor(text, remove_stopwords = True))"
      ],
      "metadata": {
        "id": "v7pSJaZQyQjx"
      },
      "execution_count": null,
      "outputs": []
    },
    {
      "cell_type": "code",
      "source": [
        "target=data['level']"
      ],
      "metadata": {
        "id": "FGgcoMtIyQjy"
      },
      "execution_count": null,
      "outputs": []
    },
    {
      "cell_type": "code",
      "source": [
        "#reorder the data\n",
        "\n",
        "data = data[['text','processed_data','level']]\n",
        "data"
      ],
      "metadata": {
        "colab": {
          "base_uri": "https://localhost:8080/",
          "height": 423
        },
        "outputId": "3ea81670-b38c-439e-9fe5-e189be7306a4",
        "id": "NZak6aISyQjy"
      },
      "execution_count": null,
      "outputs": [
        {
          "output_type": "execute_result",
          "data": {
            "text/plain": [
              "                                                   text  \\\n",
              "4      No, I think that as it relates to the one, I ...   \n",
              "10    Well, clearly, it surpassed all of our very hi...   \n",
              "16    I think the last few years, not only for us bu...   \n",
              "22    The core-on-core, well, yes, I don't think the...   \n",
              "28    There's lots of everything, Simeon. We really ...   \n",
              "...                                                 ...   \n",
              "8443  Great, Tom. And I think the reason why we beli...   \n",
              "8452  Yes, I mean, as part of our prepared remarks, ...   \n",
              "8458  I'll touch on one, maybe in a little bit of de...   \n",
              "8464  Yes, sure. The performance of RPO, and as we g...   \n",
              "8470  Well, let's start with the first part of your ...   \n",
              "\n",
              "                                         processed_data  level  \n",
              "4     think relates one think weve got currently und...      1  \n",
              "10    well clearly surpassed high expectations said ...      1  \n",
              "16    think last years us big gas retailers supermar...      1  \n",
              "22    coreoncore well yes dont think big surprises a...      0  \n",
              "28    theres lots everything simeon really dont talk...      1  \n",
              "...                                                 ...    ...  \n",
              "8443  great tom think reason believe midmarket oppor...      1  \n",
              "8452  yes mean part prepared remarks talked fact ado...      1  \n",
              "8458  ill touch one maybe little bit detail adobe ex...      1  \n",
              "8464  yes sure performance rpo go forward youll star...      1  \n",
              "8470  well lets start first part question see busine...      1  \n",
              "\n",
              "[1516 rows x 3 columns]"
            ],
            "text/html": [
              "\n",
              "  <div id=\"df-eb0da94a-677f-41c1-9f13-d5fe6923e11e\">\n",
              "    <div class=\"colab-df-container\">\n",
              "      <div>\n",
              "<style scoped>\n",
              "    .dataframe tbody tr th:only-of-type {\n",
              "        vertical-align: middle;\n",
              "    }\n",
              "\n",
              "    .dataframe tbody tr th {\n",
              "        vertical-align: top;\n",
              "    }\n",
              "\n",
              "    .dataframe thead th {\n",
              "        text-align: right;\n",
              "    }\n",
              "</style>\n",
              "<table border=\"1\" class=\"dataframe\">\n",
              "  <thead>\n",
              "    <tr style=\"text-align: right;\">\n",
              "      <th></th>\n",
              "      <th>text</th>\n",
              "      <th>processed_data</th>\n",
              "      <th>level</th>\n",
              "    </tr>\n",
              "  </thead>\n",
              "  <tbody>\n",
              "    <tr>\n",
              "      <th>4</th>\n",
              "      <td>No, I think that as it relates to the one, I ...</td>\n",
              "      <td>think relates one think weve got currently und...</td>\n",
              "      <td>1</td>\n",
              "    </tr>\n",
              "    <tr>\n",
              "      <th>10</th>\n",
              "      <td>Well, clearly, it surpassed all of our very hi...</td>\n",
              "      <td>well clearly surpassed high expectations said ...</td>\n",
              "      <td>1</td>\n",
              "    </tr>\n",
              "    <tr>\n",
              "      <th>16</th>\n",
              "      <td>I think the last few years, not only for us bu...</td>\n",
              "      <td>think last years us big gas retailers supermar...</td>\n",
              "      <td>1</td>\n",
              "    </tr>\n",
              "    <tr>\n",
              "      <th>22</th>\n",
              "      <td>The core-on-core, well, yes, I don't think the...</td>\n",
              "      <td>coreoncore well yes dont think big surprises a...</td>\n",
              "      <td>0</td>\n",
              "    </tr>\n",
              "    <tr>\n",
              "      <th>28</th>\n",
              "      <td>There's lots of everything, Simeon. We really ...</td>\n",
              "      <td>theres lots everything simeon really dont talk...</td>\n",
              "      <td>1</td>\n",
              "    </tr>\n",
              "    <tr>\n",
              "      <th>...</th>\n",
              "      <td>...</td>\n",
              "      <td>...</td>\n",
              "      <td>...</td>\n",
              "    </tr>\n",
              "    <tr>\n",
              "      <th>8443</th>\n",
              "      <td>Great, Tom. And I think the reason why we beli...</td>\n",
              "      <td>great tom think reason believe midmarket oppor...</td>\n",
              "      <td>1</td>\n",
              "    </tr>\n",
              "    <tr>\n",
              "      <th>8452</th>\n",
              "      <td>Yes, I mean, as part of our prepared remarks, ...</td>\n",
              "      <td>yes mean part prepared remarks talked fact ado...</td>\n",
              "      <td>1</td>\n",
              "    </tr>\n",
              "    <tr>\n",
              "      <th>8458</th>\n",
              "      <td>I'll touch on one, maybe in a little bit of de...</td>\n",
              "      <td>ill touch one maybe little bit detail adobe ex...</td>\n",
              "      <td>1</td>\n",
              "    </tr>\n",
              "    <tr>\n",
              "      <th>8464</th>\n",
              "      <td>Yes, sure. The performance of RPO, and as we g...</td>\n",
              "      <td>yes sure performance rpo go forward youll star...</td>\n",
              "      <td>1</td>\n",
              "    </tr>\n",
              "    <tr>\n",
              "      <th>8470</th>\n",
              "      <td>Well, let's start with the first part of your ...</td>\n",
              "      <td>well lets start first part question see busine...</td>\n",
              "      <td>1</td>\n",
              "    </tr>\n",
              "  </tbody>\n",
              "</table>\n",
              "<p>1516 rows × 3 columns</p>\n",
              "</div>\n",
              "      <button class=\"colab-df-convert\" onclick=\"convertToInteractive('df-eb0da94a-677f-41c1-9f13-d5fe6923e11e')\"\n",
              "              title=\"Convert this dataframe to an interactive table.\"\n",
              "              style=\"display:none;\">\n",
              "        \n",
              "  <svg xmlns=\"http://www.w3.org/2000/svg\" height=\"24px\"viewBox=\"0 0 24 24\"\n",
              "       width=\"24px\">\n",
              "    <path d=\"M0 0h24v24H0V0z\" fill=\"none\"/>\n",
              "    <path d=\"M18.56 5.44l.94 2.06.94-2.06 2.06-.94-2.06-.94-.94-2.06-.94 2.06-2.06.94zm-11 1L8.5 8.5l.94-2.06 2.06-.94-2.06-.94L8.5 2.5l-.94 2.06-2.06.94zm10 10l.94 2.06.94-2.06 2.06-.94-2.06-.94-.94-2.06-.94 2.06-2.06.94z\"/><path d=\"M17.41 7.96l-1.37-1.37c-.4-.4-.92-.59-1.43-.59-.52 0-1.04.2-1.43.59L10.3 9.45l-7.72 7.72c-.78.78-.78 2.05 0 2.83L4 21.41c.39.39.9.59 1.41.59.51 0 1.02-.2 1.41-.59l7.78-7.78 2.81-2.81c.8-.78.8-2.07 0-2.86zM5.41 20L4 18.59l7.72-7.72 1.47 1.35L5.41 20z\"/>\n",
              "  </svg>\n",
              "      </button>\n",
              "      \n",
              "  <style>\n",
              "    .colab-df-container {\n",
              "      display:flex;\n",
              "      flex-wrap:wrap;\n",
              "      gap: 12px;\n",
              "    }\n",
              "\n",
              "    .colab-df-convert {\n",
              "      background-color: #E8F0FE;\n",
              "      border: none;\n",
              "      border-radius: 50%;\n",
              "      cursor: pointer;\n",
              "      display: none;\n",
              "      fill: #1967D2;\n",
              "      height: 32px;\n",
              "      padding: 0 0 0 0;\n",
              "      width: 32px;\n",
              "    }\n",
              "\n",
              "    .colab-df-convert:hover {\n",
              "      background-color: #E2EBFA;\n",
              "      box-shadow: 0px 1px 2px rgba(60, 64, 67, 0.3), 0px 1px 3px 1px rgba(60, 64, 67, 0.15);\n",
              "      fill: #174EA6;\n",
              "    }\n",
              "\n",
              "    [theme=dark] .colab-df-convert {\n",
              "      background-color: #3B4455;\n",
              "      fill: #D2E3FC;\n",
              "    }\n",
              "\n",
              "    [theme=dark] .colab-df-convert:hover {\n",
              "      background-color: #434B5C;\n",
              "      box-shadow: 0px 1px 3px 1px rgba(0, 0, 0, 0.15);\n",
              "      filter: drop-shadow(0px 1px 2px rgba(0, 0, 0, 0.3));\n",
              "      fill: #FFFFFF;\n",
              "    }\n",
              "  </style>\n",
              "\n",
              "      <script>\n",
              "        const buttonEl =\n",
              "          document.querySelector('#df-eb0da94a-677f-41c1-9f13-d5fe6923e11e button.colab-df-convert');\n",
              "        buttonEl.style.display =\n",
              "          google.colab.kernel.accessAllowed ? 'block' : 'none';\n",
              "\n",
              "        async function convertToInteractive(key) {\n",
              "          const element = document.querySelector('#df-eb0da94a-677f-41c1-9f13-d5fe6923e11e');\n",
              "          const dataTable =\n",
              "            await google.colab.kernel.invokeFunction('convertToInteractive',\n",
              "                                                     [key], {});\n",
              "          if (!dataTable) return;\n",
              "\n",
              "          const docLinkHtml = 'Like what you see? Visit the ' +\n",
              "            '<a target=\"_blank\" href=https://colab.research.google.com/notebooks/data_table.ipynb>data table notebook</a>'\n",
              "            + ' to learn more about interactive tables.';\n",
              "          element.innerHTML = '';\n",
              "          dataTable['output_type'] = 'display_data';\n",
              "          await google.colab.output.renderOutput(dataTable, element);\n",
              "          const docLink = document.createElement('div');\n",
              "          docLink.innerHTML = docLinkHtml;\n",
              "          element.appendChild(docLink);\n",
              "        }\n",
              "      </script>\n",
              "    </div>\n",
              "  </div>\n",
              "  "
            ]
          },
          "metadata": {},
          "execution_count": 98
        }
      ]
    },
    {
      "cell_type": "code",
      "source": [
        "from sklearn.feature_extraction.text import CountVectorizer,TfidfVectorizer\n",
        "\n",
        "vect = TfidfVectorizer(ngram_range = (1, 2), min_df= 2, max_features=1000) \n",
        "vectorized_text=vect.fit_transform(data['processed_data'])"
      ],
      "metadata": {
        "id": "KgG2tLA7y8aX"
      },
      "execution_count": null,
      "outputs": []
    },
    {
      "cell_type": "code",
      "source": [
        "from sklearn.model_selection import train_test_split\n",
        "\n",
        "x_train, x_validation_and_test, y_train, y_validation_and_test = train_test_split(vectorized_text, target, test_size=.3, random_state=42)\n",
        "x_validation, x_test, y_validation, y_test = train_test_split(x_validation_and_test, y_validation_and_test, test_size=.5,random_state=42)"
      ],
      "metadata": {
        "id": "KoF0RrXFy8aY"
      },
      "execution_count": null,
      "outputs": []
    },
    {
      "cell_type": "code",
      "source": [
        "#Classification implementation\n",
        "from sklearn.ensemble import RandomForestClassifier\n",
        "from sklearn.linear_model import LogisticRegression\n",
        "from sklearn.metrics import accuracy_score\n",
        "\n",
        "def logistic_reg_train_model(x_train,y_train,x_test,y_test):\n",
        "    log_reg = LogisticRegression(random_state=0)\n",
        "    log_reg.fit(x_train,y_train)\n",
        "    pred = log_reg.predict(x_test)\n",
        "    log_accuracy = accuracy_score(y_test,pred)\n",
        "    print (str(log_accuracy)+(\" is the accuracy of the logistic regression model\"))\n",
        "    return log_reg\n",
        "    \n",
        "def Random_forest_train_model(x_train,y_train,x_test,y_test):\n",
        "    rf = RandomForestClassifier(n_estimators=100, random_state=42)\n",
        "    rf.fit(x_train, y_train)\n",
        "    pred = rf.predict(x_test)\n",
        "    rf_accuracy= accuracy_score(y_test,pred)\n",
        "    print(str(rf_accuracy)+(\" is the accuracy of the RandomForestClassifier model\"))\n",
        "    return rf\n",
        "\n",
        "log_reg = logistic_reg_train_model(x_train,y_train,x_test,y_test)\n",
        "rf = Random_forest_train_model(x_train,y_train,x_test,y_test)"
      ],
      "metadata": {
        "colab": {
          "base_uri": "https://localhost:8080/"
        },
        "outputId": "7255cf2e-4bcd-415b-9a86-350e1ab59718",
        "id": "3x9mdaoBy8aY"
      },
      "execution_count": null,
      "outputs": [
        {
          "output_type": "stream",
          "name": "stdout",
          "text": [
            "0.868421052631579 is the accuracy of the logistic regression model\n",
            "0.8728070175438597 is the accuracy of the RandomForestClassifier model\n"
          ]
        }
      ]
    },
    {
      "cell_type": "code",
      "source": [
        "#validation\n",
        "\n",
        "def logistic_reg_val_model(x_validation,y_validation, log_reg):\n",
        "    y_pred_lr = log_reg.predict(x_validation)\n",
        "    yprob_lr = log_reg.predict_proba(x_validation)\n",
        "    log_accuracy = accuracy_score(y_validation,y_pred_lr)\n",
        "    print (str(log_accuracy)+(\" is the Val_accuracy of the logistic regression model\"))\n",
        "    return yprob_lr\n",
        "\n",
        "def random_forest_val_model(x_validation,y_validation, rf):\n",
        "    y_pred_rf = rf.predict(x_validation)\n",
        "    yprob_rf = rf.predict_proba(x_validation)\n",
        "    rf_acc= accuracy_score(y_validation,y_pred_rf)\n",
        "    print(str(rf_acc)+(\" is the Val_accuracy of the RandomForestClassifier model\"))\n",
        "    return yprob_rf\n",
        "\n",
        "yhat_lr = logistic_reg_val_model(x_validation,y_validation,log_reg)\n",
        "yhat_rf = random_forest_val_model(x_validation,y_validation,rf)"
      ],
      "metadata": {
        "colab": {
          "base_uri": "https://localhost:8080/"
        },
        "id": "iVQ41O-u1tee",
        "outputId": "39a26eaa-a01f-4396-82f4-f5318d073873"
      },
      "execution_count": null,
      "outputs": [
        {
          "output_type": "stream",
          "name": "stdout",
          "text": [
            "0.8370044052863436 is the Val_accuracy of the logistic regression model\n",
            "0.8414096916299559 is the Val_accuracy of the RandomForestClassifier model\n"
          ]
        }
      ]
    },
    {
      "cell_type": "code",
      "source": [
        "from sklearn.metrics import roc_curve, auc,precision_recall_curve,average_precision_score,plot_precision_recall_curve, accuracy_score\n",
        "import matplotlib.pyplot as plt\n",
        "\n",
        "def print_roc(y_validation,yhat_lr,yhat_rf):\n",
        "    fpr_lr, tpr_lr, threshold = roc_curve(y_validation, yhat_lr[:,1])\n",
        "    roc_auc_lr = auc(fpr_lr, tpr_lr)\n",
        "    fpr_rf, tpr_rf, threshold = roc_curve(y_validation, yhat_rf[:,1])\n",
        "    roc_auc_rf = auc(fpr_rf, tpr_rf)\n",
        "    plt.figure(figsize=(6,6))\n",
        "    plt.plot(fpr_lr, tpr_lr, label='logisticReg (area = %0.3f)' % roc_auc_lr, linewidth=2)\n",
        "    plt.plot(fpr_rf, tpr_rf, label='RandomForest (area = %0.3f)' % roc_auc_rf, linewidth=2)\n",
        "    plt.plot([0, 1], [0, 1], 'k--', linewidth=2)\n",
        "    plt.xlim([-0.05, 1.0])\n",
        "    plt.ylim([-0.05, 1.05])\n",
        "    plt.xlabel('False Positive Rate', fontsize=18)\n",
        "    plt.ylabel('True Positive Rate', fontsize=18)\n",
        "    plt.title('Receiver operating characteristic: is positive', fontsize=18)\n",
        "    plt.legend(loc=\"lower right\")\n",
        "    plt.show()"
      ],
      "metadata": {
        "id": "2AsH9iV31ajz"
      },
      "execution_count": null,
      "outputs": []
    },
    {
      "cell_type": "code",
      "source": [
        "print_roc(y_validation,yhat_lr,yhat_rf)"
      ],
      "metadata": {
        "colab": {
          "base_uri": "https://localhost:8080/",
          "height": 416
        },
        "id": "LOpGDK711f9D",
        "outputId": "229c0c2a-9171-46b3-c636-47e996a4c2e8"
      },
      "execution_count": null,
      "outputs": [
        {
          "output_type": "display_data",
          "data": {
            "text/plain": [
              "<Figure size 432x432 with 1 Axes>"
            ],
            "image/png": "[encoded data removed]"
          },
          "metadata": {
            "needs_background": "light"
          }
        }
      ]
    },
    {
      "cell_type": "code",
      "source": [
        "def print_precision_recall_curve(y_validation,yhat_lr,yhat_rf):\n",
        "    average_precision_lr = average_precision_score(y_validation, yhat_lr[:,1])\n",
        "    print('average precision Logistic Regression :%0.3f' %average_precision_lr)\n",
        "    average_precision_rf = average_precision_score(y_validation, yhat_rf[:,1])\n",
        "    print('average precision Random Forest :%0.3f' %average_precision_rf)\n",
        "    precision_lr, recall_lr, thresholds = precision_recall_curve(y_validation, yhat_lr[:,1])\n",
        "    precision_rf, recall_rf, thresholds = precision_recall_curve(y_validation, yhat_rf[:,1])\n",
        "    auc_precision_recall_lr = auc(recall_lr, precision_lr)\n",
        "    auc_precision_recall_rf = auc(recall_rf, precision_rf)\n",
        "    plt.figure(figsize=(6,6))\n",
        "    plt.xlabel('Recall', fontsize=14)\n",
        "    plt.ylabel('Precision', fontsize=14)\n",
        "    plt.title('Precision- Recall Curve', fontsize=16)\n",
        "    plt.plot(recall_lr, precision_lr,label='logisticReg (area = %0.3f)' %auc_precision_recall_lr )\n",
        "    plt.plot(recall_rf, precision_rf,label=' RandomForest (area = %0.3f)' %auc_precision_recall_rf )\n",
        "    plt.legend(loc=\"upper right\")\n",
        "    plt.show()\n",
        "\n",
        "print_precision_recall_curve(y_validation,yhat_lr,yhat_rf)"
      ],
      "metadata": {
        "colab": {
          "base_uri": "https://localhost:8080/",
          "height": 444
        },
        "id": "MAs42waEoRVS",
        "outputId": "19c3fc25-98e7-4509-d20b-7f593f57b28a"
      },
      "execution_count": null,
      "outputs": [
        {
          "output_type": "stream",
          "name": "stdout",
          "text": [
            "average precision Logistic Regression :0.928\n",
            "average precision Random Forest :0.916\n"
          ]
        },
        {
          "output_type": "display_data",
          "data": {
            "text/plain": [
              "<Figure size 432x432 with 1 Axes>"
            ],
            "image/png": "[encoded data removed]"
          },
          "metadata": {
            "needs_background": "light"
          }
        }
      ]
    },
    {
      "cell_type": "markdown",
      "source": [
        "**Based on the above results , we see the Logistic Regression performing better when it comes to the ROC and Precision Recall Curve , while the Random forest classifier has a better Val accuracy.**"
      ],
      "metadata": {
        "id": "TwYhOAOspOhj"
      }
    },
    {
      "cell_type": "markdown",
      "source": [
        "#Latent Dirichlet Allocation"
      ],
      "metadata": {
        "id": "w3vXSxex2Vv4"
      }
    },
    {
      "cell_type": "markdown",
      "source": [
        "**Topic modeling provides methods for automatically organizing, understanding, searching, and summarizing large electronic archives.**\n",
        "\n",
        "**It can help with the following:**\n",
        "\n",
        "\n",
        "*  **using the classification to organize/summarize/search the documents.**\n",
        "*  **discovering the hidden themes in the collection.**\n",
        "*  **classifying the documents into the discovered themes.**\n",
        "\n",
        "\n",
        "**Latent Dirichlet Allocation (LDA) is an example of topic model and is used to classify text in a document to a particular topic. It builds a topic per document model and words per topic model, modeled as Dirichlet distributions**"
      ],
      "metadata": {
        "id": "R_ffr2K0pjtx"
      }
    },
    {
      "cell_type": "markdown",
      "source": [
        "**Here we use the same data cleaning and data preprocessing steps as followed in the previous model.**\n",
        "\n",
        "**Now we try to predict predict the ANSWER LABEL 2 (\"Answer_2_negative\": 0, \"Answer_2_positive\": 1) for the text.**\n",
        "\n",
        "**We start with the data pre-processing and the data cleaning. We modify the dataframe so that we get the data related to Answer label 2**"
      ],
      "metadata": {
        "id": "Xs5kghMYqdJd"
      }
    },
    {
      "cell_type": "code",
      "execution_count": null,
      "metadata": {
        "colab": {
          "base_uri": "https://localhost:8080/"
        },
        "id": "YACo0XI_r9iY",
        "outputId": "6468a44e-3c93-4991-9e79-a4de5ab50db6"
      },
      "outputs": [
        {
          "output_type": "stream",
          "name": "stdout",
          "text": [
            "<class 'pandas.core.frame.DataFrame'>\n",
            "RangeIndex: 8472 entries, 0 to 8471\n",
            "Data columns (total 5 columns):\n",
            " #   Column      Non-Null Count  Dtype \n",
            "---  ------      --------------  ----- \n",
            " 0   Unnamed: 0  8472 non-null   int64 \n",
            " 1   text        8472 non-null   object\n",
            " 2   category    8472 non-null   object\n",
            " 3   stage       8472 non-null   int64 \n",
            " 4   level       8472 non-null   int64 \n",
            "dtypes: int64(3), object(2)\n",
            "memory usage: 331.1+ KB\n"
          ]
        }
      ],
      "source": [
        "df = pd.read_csv('/content/drive/My Drive/data.csv')\n",
        "df.info()\n"
      ]
    },
    {
      "cell_type": "code",
      "source": [
        "indexnames= df[df[\"category\"]==\"Question\"].index\n",
        "df.drop(indexnames,inplace=True)\n",
        "data= df[df[\"stage\"]==2]\n",
        "data.drop(columns=[\"category\",\"stage\",\"Unnamed: 0\"],axis=1 ,inplace=True)\n",
        "print(data.shape)\n",
        "data\n"
      ],
      "metadata": {
        "colab": {
          "base_uri": "https://localhost:8080/",
          "height": 528
        },
        "id": "vYa8KzmJiPcZ",
        "outputId": "6a88c711-535f-493f-8b2f-33619c92c463"
      },
      "execution_count": null,
      "outputs": [
        {
          "output_type": "stream",
          "name": "stdout",
          "text": [
            "(1516, 2)\n"
          ]
        },
        {
          "output_type": "stream",
          "name": "stderr",
          "text": [
            "/usr/local/lib/python3.7/dist-packages/pandas/core/frame.py:4913: SettingWithCopyWarning: \n",
            "A value is trying to be set on a copy of a slice from a DataFrame\n",
            "\n",
            "See the caveats in the documentation: https://pandas.pydata.org/pandas-docs/stable/user_guide/indexing.html#returning-a-view-versus-a-copy\n",
            "  errors=errors,\n"
          ]
        },
        {
          "output_type": "execute_result",
          "data": {
            "text/plain": [
              "                                                   text  level\n",
              "4      No, I think that as it relates to the one, I ...      1\n",
              "10    Well, clearly, it surpassed all of our very hi...      1\n",
              "16    I think the last few years, not only for us bu...      1\n",
              "22    The core-on-core, well, yes, I don't think the...      0\n",
              "28    There's lots of everything, Simeon. We really ...      1\n",
              "...                                                 ...    ...\n",
              "8443  Great, Tom. And I think the reason why we beli...      1\n",
              "8452  Yes, I mean, as part of our prepared remarks, ...      1\n",
              "8458  I'll touch on one, maybe in a little bit of de...      1\n",
              "8464  Yes, sure. The performance of RPO, and as we g...      1\n",
              "8470  Well, let's start with the first part of your ...      1\n",
              "\n",
              "[1516 rows x 2 columns]"
            ],
            "text/html": [
              "\n",
              "  <div id=\"df-3d9faa3b-153e-41c3-9cc0-ba3199bb7bce\">\n",
              "    <div class=\"colab-df-container\">\n",
              "      <div>\n",
              "<style scoped>\n",
              "    .dataframe tbody tr th:only-of-type {\n",
              "        vertical-align: middle;\n",
              "    }\n",
              "\n",
              "    .dataframe tbody tr th {\n",
              "        vertical-align: top;\n",
              "    }\n",
              "\n",
              "    .dataframe thead th {\n",
              "        text-align: right;\n",
              "    }\n",
              "</style>\n",
              "<table border=\"1\" class=\"dataframe\">\n",
              "  <thead>\n",
              "    <tr style=\"text-align: right;\">\n",
              "      <th></th>\n",
              "      <th>text</th>\n",
              "      <th>level</th>\n",
              "    </tr>\n",
              "  </thead>\n",
              "  <tbody>\n",
              "    <tr>\n",
              "      <th>4</th>\n",
              "      <td>No, I think that as it relates to the one, I ...</td>\n",
              "      <td>1</td>\n",
              "    </tr>\n",
              "    <tr>\n",
              "      <th>10</th>\n",
              "      <td>Well, clearly, it surpassed all of our very hi...</td>\n",
              "      <td>1</td>\n",
              "    </tr>\n",
              "    <tr>\n",
              "      <th>16</th>\n",
              "      <td>I think the last few years, not only for us bu...</td>\n",
              "      <td>1</td>\n",
              "    </tr>\n",
              "    <tr>\n",
              "      <th>22</th>\n",
              "      <td>The core-on-core, well, yes, I don't think the...</td>\n",
              "      <td>0</td>\n",
              "    </tr>\n",
              "    <tr>\n",
              "      <th>28</th>\n",
              "      <td>There's lots of everything, Simeon. We really ...</td>\n",
              "      <td>1</td>\n",
              "    </tr>\n",
              "    <tr>\n",
              "      <th>...</th>\n",
              "      <td>...</td>\n",
              "      <td>...</td>\n",
              "    </tr>\n",
              "    <tr>\n",
              "      <th>8443</th>\n",
              "      <td>Great, Tom. And I think the reason why we beli...</td>\n",
              "      <td>1</td>\n",
              "    </tr>\n",
              "    <tr>\n",
              "      <th>8452</th>\n",
              "      <td>Yes, I mean, as part of our prepared remarks, ...</td>\n",
              "      <td>1</td>\n",
              "    </tr>\n",
              "    <tr>\n",
              "      <th>8458</th>\n",
              "      <td>I'll touch on one, maybe in a little bit of de...</td>\n",
              "      <td>1</td>\n",
              "    </tr>\n",
              "    <tr>\n",
              "      <th>8464</th>\n",
              "      <td>Yes, sure. The performance of RPO, and as we g...</td>\n",
              "      <td>1</td>\n",
              "    </tr>\n",
              "    <tr>\n",
              "      <th>8470</th>\n",
              "      <td>Well, let's start with the first part of your ...</td>\n",
              "      <td>1</td>\n",
              "    </tr>\n",
              "  </tbody>\n",
              "</table>\n",
              "<p>1516 rows × 2 columns</p>\n",
              "</div>\n",
              "      <button class=\"colab-df-convert\" onclick=\"convertToInteractive('df-3d9faa3b-153e-41c3-9cc0-ba3199bb7bce')\"\n",
              "              title=\"Convert this dataframe to an interactive table.\"\n",
              "              style=\"display:none;\">\n",
              "        \n",
              "  <svg xmlns=\"http://www.w3.org/2000/svg\" height=\"24px\"viewBox=\"0 0 24 24\"\n",
              "       width=\"24px\">\n",
              "    <path d=\"M0 0h24v24H0V0z\" fill=\"none\"/>\n",
              "    <path d=\"M18.56 5.44l.94 2.06.94-2.06 2.06-.94-2.06-.94-.94-2.06-.94 2.06-2.06.94zm-11 1L8.5 8.5l.94-2.06 2.06-.94-2.06-.94L8.5 2.5l-.94 2.06-2.06.94zm10 10l.94 2.06.94-2.06 2.06-.94-2.06-.94-.94-2.06-.94 2.06-2.06.94z\"/><path d=\"M17.41 7.96l-1.37-1.37c-.4-.4-.92-.59-1.43-.59-.52 0-1.04.2-1.43.59L10.3 9.45l-7.72 7.72c-.78.78-.78 2.05 0 2.83L4 21.41c.39.39.9.59 1.41.59.51 0 1.02-.2 1.41-.59l7.78-7.78 2.81-2.81c.8-.78.8-2.07 0-2.86zM5.41 20L4 18.59l7.72-7.72 1.47 1.35L5.41 20z\"/>\n",
              "  </svg>\n",
              "      </button>\n",
              "      \n",
              "  <style>\n",
              "    .colab-df-container {\n",
              "      display:flex;\n",
              "      flex-wrap:wrap;\n",
              "      gap: 12px;\n",
              "    }\n",
              "\n",
              "    .colab-df-convert {\n",
              "      background-color: #E8F0FE;\n",
              "      border: none;\n",
              "      border-radius: 50%;\n",
              "      cursor: pointer;\n",
              "      display: none;\n",
              "      fill: #1967D2;\n",
              "      height: 32px;\n",
              "      padding: 0 0 0 0;\n",
              "      width: 32px;\n",
              "    }\n",
              "\n",
              "    .colab-df-convert:hover {\n",
              "      background-color: #E2EBFA;\n",
              "      box-shadow: 0px 1px 2px rgba(60, 64, 67, 0.3), 0px 1px 3px 1px rgba(60, 64, 67, 0.15);\n",
              "      fill: #174EA6;\n",
              "    }\n",
              "\n",
              "    [theme=dark] .colab-df-convert {\n",
              "      background-color: #3B4455;\n",
              "      fill: #D2E3FC;\n",
              "    }\n",
              "\n",
              "    [theme=dark] .colab-df-convert:hover {\n",
              "      background-color: #434B5C;\n",
              "      box-shadow: 0px 1px 3px 1px rgba(0, 0, 0, 0.15);\n",
              "      filter: drop-shadow(0px 1px 2px rgba(0, 0, 0, 0.3));\n",
              "      fill: #FFFFFF;\n",
              "    }\n",
              "  </style>\n",
              "\n",
              "      <script>\n",
              "        const buttonEl =\n",
              "          document.querySelector('#df-3d9faa3b-153e-41c3-9cc0-ba3199bb7bce button.colab-df-convert');\n",
              "        buttonEl.style.display =\n",
              "          google.colab.kernel.accessAllowed ? 'block' : 'none';\n",
              "\n",
              "        async function convertToInteractive(key) {\n",
              "          const element = document.querySelector('#df-3d9faa3b-153e-41c3-9cc0-ba3199bb7bce');\n",
              "          const dataTable =\n",
              "            await google.colab.kernel.invokeFunction('convertToInteractive',\n",
              "                                                     [key], {});\n",
              "          if (!dataTable) return;\n",
              "\n",
              "          const docLinkHtml = 'Like what you see? Visit the ' +\n",
              "            '<a target=\"_blank\" href=https://colab.research.google.com/notebooks/data_table.ipynb>data table notebook</a>'\n",
              "            + ' to learn more about interactive tables.';\n",
              "          element.innerHTML = '';\n",
              "          dataTable['output_type'] = 'display_data';\n",
              "          await google.colab.output.renderOutput(dataTable, element);\n",
              "          const docLink = document.createElement('div');\n",
              "          docLink.innerHTML = docLinkHtml;\n",
              "          element.appendChild(docLink);\n",
              "        }\n",
              "      </script>\n",
              "    </div>\n",
              "  </div>\n",
              "  "
            ]
          },
          "metadata": {},
          "execution_count": 110
        }
      ]
    },
    {
      "cell_type": "code",
      "source": [
        "import re\n",
        "import string\n",
        "import nltk\n",
        "nltk.download('stopwords')\n",
        "from nltk.corpus import stopwords"
      ],
      "metadata": {
        "colab": {
          "base_uri": "https://localhost:8080/"
        },
        "id": "v3O7udD8i-bT",
        "outputId": "557dd5cd-322f-4d83-9816-600df01d528d"
      },
      "execution_count": null,
      "outputs": [
        {
          "output_type": "stream",
          "name": "stdout",
          "text": [
            "[nltk_data] Downloading package stopwords to /root/nltk_data...\n",
            "[nltk_data]   Package stopwords is already up-to-date!\n"
          ]
        }
      ]
    },
    {
      "cell_type": "code",
      "source": [
        "snowStem = nltk.stem.SnowballStemmer('english')\n",
        "sw_nltk = stopwords.words('english')\n",
        "sw_nltk.append('however')\n",
        "\n",
        "def my_preprocessor(processed_data, remove_stopwords = False, stemming = False):\n",
        "    # remove numbers \n",
        "    processed_data = re.sub(r'\\d+', '', processed_data)\n",
        "    # remove punctuation\n",
        "    processed_data = processed_data.translate(str.maketrans('','', string.punctuation))\n",
        "    # remove spaces\n",
        "    processed_data = processed_data.strip()\n",
        "    #upper to lower\n",
        "    processed_data = processed_data.lower()\n",
        "    \n",
        "    if stemming:\n",
        "      # stemming\n",
        "      processed_data = snowStem.stem(processed_data)\n",
        "    \n",
        "    if remove_stopwords:\n",
        "        # remove stop words\n",
        "        processed_data = ' '.join([word for word in processed_data.split() if not(word in sw_nltk)])\n",
        "        \n",
        "    \n",
        "    return processed_data"
      ],
      "metadata": {
        "id": "Q4MFtTJ5jA4Z"
      },
      "execution_count": null,
      "outputs": []
    },
    {
      "cell_type": "code",
      "source": [
        "data.loc[:, 'processed_data'] = [my_preprocessor(text, remove_stopwords = True) for text in data.text]"
      ],
      "metadata": {
        "colab": {
          "base_uri": "https://localhost:8080/"
        },
        "id": "WL0puMYejI7M",
        "outputId": "48ff7b82-7600-4701-da9b-dffb8022817c"
      },
      "execution_count": null,
      "outputs": [
        {
          "output_type": "stream",
          "name": "stderr",
          "text": [
            "/usr/local/lib/python3.7/dist-packages/pandas/core/indexing.py:1667: SettingWithCopyWarning: \n",
            "A value is trying to be set on a copy of a slice from a DataFrame.\n",
            "Try using .loc[row_indexer,col_indexer] = value instead\n",
            "\n",
            "See the caveats in the documentation: https://pandas.pydata.org/pandas-docs/stable/user_guide/indexing.html#returning-a-view-versus-a-copy\n",
            "  self.obj[key] = value\n"
          ]
        }
      ]
    },
    {
      "cell_type": "code",
      "source": [
        "corpus=[]\n",
        "for text in data[\"text\"]:\n",
        "    corpus.append(my_preprocessor(text, remove_stopwords = True))"
      ],
      "metadata": {
        "id": "Vkl6y-6WjLuu"
      },
      "execution_count": null,
      "outputs": []
    },
    {
      "cell_type": "code",
      "source": [
        "target=data['level']\n",
        "\n",
        "#re-arranging the df .\n",
        "\n",
        "data = data[['text','processed_data','level']]\n",
        "data"
      ],
      "metadata": {
        "colab": {
          "base_uri": "https://localhost:8080/",
          "height": 423
        },
        "id": "HMDnw8ZAjUhf",
        "outputId": "18dea773-5b7e-43c3-a9dd-b972d1eb552b"
      },
      "execution_count": null,
      "outputs": [
        {
          "output_type": "execute_result",
          "data": {
            "text/plain": [
              "                                                   text  \\\n",
              "4      No, I think that as it relates to the one, I ...   \n",
              "10    Well, clearly, it surpassed all of our very hi...   \n",
              "16    I think the last few years, not only for us bu...   \n",
              "22    The core-on-core, well, yes, I don't think the...   \n",
              "28    There's lots of everything, Simeon. We really ...   \n",
              "...                                                 ...   \n",
              "8443  Great, Tom. And I think the reason why we beli...   \n",
              "8452  Yes, I mean, as part of our prepared remarks, ...   \n",
              "8458  I'll touch on one, maybe in a little bit of de...   \n",
              "8464  Yes, sure. The performance of RPO, and as we g...   \n",
              "8470  Well, let's start with the first part of your ...   \n",
              "\n",
              "                                         processed_data  level  \n",
              "4     think relates one think weve got currently und...      1  \n",
              "10    well clearly surpassed high expectations said ...      1  \n",
              "16    think last years us big gas retailers supermar...      1  \n",
              "22    coreoncore well yes dont think big surprises a...      0  \n",
              "28    theres lots everything simeon really dont talk...      1  \n",
              "...                                                 ...    ...  \n",
              "8443  great tom think reason believe midmarket oppor...      1  \n",
              "8452  yes mean part prepared remarks talked fact ado...      1  \n",
              "8458  ill touch one maybe little bit detail adobe ex...      1  \n",
              "8464  yes sure performance rpo go forward youll star...      1  \n",
              "8470  well lets start first part question see busine...      1  \n",
              "\n",
              "[1516 rows x 3 columns]"
            ],
            "text/html": [
              "\n",
              "  <div id=\"df-13c5a821-c5f5-4925-9687-bdd86be0ed5d\">\n",
              "    <div class=\"colab-df-container\">\n",
              "      <div>\n",
              "<style scoped>\n",
              "    .dataframe tbody tr th:only-of-type {\n",
              "        vertical-align: middle;\n",
              "    }\n",
              "\n",
              "    .dataframe tbody tr th {\n",
              "        vertical-align: top;\n",
              "    }\n",
              "\n",
              "    .dataframe thead th {\n",
              "        text-align: right;\n",
              "    }\n",
              "</style>\n",
              "<table border=\"1\" class=\"dataframe\">\n",
              "  <thead>\n",
              "    <tr style=\"text-align: right;\">\n",
              "      <th></th>\n",
              "      <th>text</th>\n",
              "      <th>processed_data</th>\n",
              "      <th>level</th>\n",
              "    </tr>\n",
              "  </thead>\n",
              "  <tbody>\n",
              "    <tr>\n",
              "      <th>4</th>\n",
              "      <td>No, I think that as it relates to the one, I ...</td>\n",
              "      <td>think relates one think weve got currently und...</td>\n",
              "      <td>1</td>\n",
              "    </tr>\n",
              "    <tr>\n",
              "      <th>10</th>\n",
              "      <td>Well, clearly, it surpassed all of our very hi...</td>\n",
              "      <td>well clearly surpassed high expectations said ...</td>\n",
              "      <td>1</td>\n",
              "    </tr>\n",
              "    <tr>\n",
              "      <th>16</th>\n",
              "      <td>I think the last few years, not only for us bu...</td>\n",
              "      <td>think last years us big gas retailers supermar...</td>\n",
              "      <td>1</td>\n",
              "    </tr>\n",
              "    <tr>\n",
              "      <th>22</th>\n",
              "      <td>The core-on-core, well, yes, I don't think the...</td>\n",
              "      <td>coreoncore well yes dont think big surprises a...</td>\n",
              "      <td>0</td>\n",
              "    </tr>\n",
              "    <tr>\n",
              "      <th>28</th>\n",
              "      <td>There's lots of everything, Simeon. We really ...</td>\n",
              "      <td>theres lots everything simeon really dont talk...</td>\n",
              "      <td>1</td>\n",
              "    </tr>\n",
              "    <tr>\n",
              "      <th>...</th>\n",
              "      <td>...</td>\n",
              "      <td>...</td>\n",
              "      <td>...</td>\n",
              "    </tr>\n",
              "    <tr>\n",
              "      <th>8443</th>\n",
              "      <td>Great, Tom. And I think the reason why we beli...</td>\n",
              "      <td>great tom think reason believe midmarket oppor...</td>\n",
              "      <td>1</td>\n",
              "    </tr>\n",
              "    <tr>\n",
              "      <th>8452</th>\n",
              "      <td>Yes, I mean, as part of our prepared remarks, ...</td>\n",
              "      <td>yes mean part prepared remarks talked fact ado...</td>\n",
              "      <td>1</td>\n",
              "    </tr>\n",
              "    <tr>\n",
              "      <th>8458</th>\n",
              "      <td>I'll touch on one, maybe in a little bit of de...</td>\n",
              "      <td>ill touch one maybe little bit detail adobe ex...</td>\n",
              "      <td>1</td>\n",
              "    </tr>\n",
              "    <tr>\n",
              "      <th>8464</th>\n",
              "      <td>Yes, sure. The performance of RPO, and as we g...</td>\n",
              "      <td>yes sure performance rpo go forward youll star...</td>\n",
              "      <td>1</td>\n",
              "    </tr>\n",
              "    <tr>\n",
              "      <th>8470</th>\n",
              "      <td>Well, let's start with the first part of your ...</td>\n",
              "      <td>well lets start first part question see busine...</td>\n",
              "      <td>1</td>\n",
              "    </tr>\n",
              "  </tbody>\n",
              "</table>\n",
              "<p>1516 rows × 3 columns</p>\n",
              "</div>\n",
              "      <button class=\"colab-df-convert\" onclick=\"convertToInteractive('df-13c5a821-c5f5-4925-9687-bdd86be0ed5d')\"\n",
              "              title=\"Convert this dataframe to an interactive table.\"\n",
              "              style=\"display:none;\">\n",
              "        \n",
              "  <svg xmlns=\"http://www.w3.org/2000/svg\" height=\"24px\"viewBox=\"0 0 24 24\"\n",
              "       width=\"24px\">\n",
              "    <path d=\"M0 0h24v24H0V0z\" fill=\"none\"/>\n",
              "    <path d=\"M18.56 5.44l.94 2.06.94-2.06 2.06-.94-2.06-.94-.94-2.06-.94 2.06-2.06.94zm-11 1L8.5 8.5l.94-2.06 2.06-.94-2.06-.94L8.5 2.5l-.94 2.06-2.06.94zm10 10l.94 2.06.94-2.06 2.06-.94-2.06-.94-.94-2.06-.94 2.06-2.06.94z\"/><path d=\"M17.41 7.96l-1.37-1.37c-.4-.4-.92-.59-1.43-.59-.52 0-1.04.2-1.43.59L10.3 9.45l-7.72 7.72c-.78.78-.78 2.05 0 2.83L4 21.41c.39.39.9.59 1.41.59.51 0 1.02-.2 1.41-.59l7.78-7.78 2.81-2.81c.8-.78.8-2.07 0-2.86zM5.41 20L4 18.59l7.72-7.72 1.47 1.35L5.41 20z\"/>\n",
              "  </svg>\n",
              "      </button>\n",
              "      \n",
              "  <style>\n",
              "    .colab-df-container {\n",
              "      display:flex;\n",
              "      flex-wrap:wrap;\n",
              "      gap: 12px;\n",
              "    }\n",
              "\n",
              "    .colab-df-convert {\n",
              "      background-color: #E8F0FE;\n",
              "      border: none;\n",
              "      border-radius: 50%;\n",
              "      cursor: pointer;\n",
              "      display: none;\n",
              "      fill: #1967D2;\n",
              "      height: 32px;\n",
              "      padding: 0 0 0 0;\n",
              "      width: 32px;\n",
              "    }\n",
              "\n",
              "    .colab-df-convert:hover {\n",
              "      background-color: #E2EBFA;\n",
              "      box-shadow: 0px 1px 2px rgba(60, 64, 67, 0.3), 0px 1px 3px 1px rgba(60, 64, 67, 0.15);\n",
              "      fill: #174EA6;\n",
              "    }\n",
              "\n",
              "    [theme=dark] .colab-df-convert {\n",
              "      background-color: #3B4455;\n",
              "      fill: #D2E3FC;\n",
              "    }\n",
              "\n",
              "    [theme=dark] .colab-df-convert:hover {\n",
              "      background-color: #434B5C;\n",
              "      box-shadow: 0px 1px 3px 1px rgba(0, 0, 0, 0.15);\n",
              "      filter: drop-shadow(0px 1px 2px rgba(0, 0, 0, 0.3));\n",
              "      fill: #FFFFFF;\n",
              "    }\n",
              "  </style>\n",
              "\n",
              "      <script>\n",
              "        const buttonEl =\n",
              "          document.querySelector('#df-13c5a821-c5f5-4925-9687-bdd86be0ed5d button.colab-df-convert');\n",
              "        buttonEl.style.display =\n",
              "          google.colab.kernel.accessAllowed ? 'block' : 'none';\n",
              "\n",
              "        async function convertToInteractive(key) {\n",
              "          const element = document.querySelector('#df-13c5a821-c5f5-4925-9687-bdd86be0ed5d');\n",
              "          const dataTable =\n",
              "            await google.colab.kernel.invokeFunction('convertToInteractive',\n",
              "                                                     [key], {});\n",
              "          if (!dataTable) return;\n",
              "\n",
              "          const docLinkHtml = 'Like what you see? Visit the ' +\n",
              "            '<a target=\"_blank\" href=https://colab.research.google.com/notebooks/data_table.ipynb>data table notebook</a>'\n",
              "            + ' to learn more about interactive tables.';\n",
              "          element.innerHTML = '';\n",
              "          dataTable['output_type'] = 'display_data';\n",
              "          await google.colab.output.renderOutput(dataTable, element);\n",
              "          const docLink = document.createElement('div');\n",
              "          docLink.innerHTML = docLinkHtml;\n",
              "          element.appendChild(docLink);\n",
              "        }\n",
              "      </script>\n",
              "    </div>\n",
              "  </div>\n",
              "  "
            ]
          },
          "metadata": {},
          "execution_count": 116
        }
      ]
    },
    {
      "cell_type": "code",
      "source": [
        "text = data['processed_data']\n",
        "level = data['level']\n"
      ],
      "metadata": {
        "id": "8RjU2srYxcgn"
      },
      "execution_count": null,
      "outputs": []
    },
    {
      "cell_type": "markdown",
      "source": [
        "**We use the LatentDirichletAllocation methof from sklearn to perform LDA.**"
      ],
      "metadata": {
        "id": "AYqwY5eMaoDI"
      }
    },
    {
      "cell_type": "code",
      "source": [
        "import os\n",
        "import pandas as pd\n",
        "from nltk.tokenize import RegexpTokenizer\n",
        "from sklearn.feature_extraction.text import TfidfVectorizer\n",
        "from sklearn.decomposition import LatentDirichletAllocation\n",
        "\n",
        "# Load Dataset\n",
        "documents_list= data['processed_data'].tolist()"
      ],
      "metadata": {
        "id": "AnCWqB2bWU-q"
      },
      "execution_count": null,
      "outputs": []
    },
    {
      "cell_type": "code",
      "source": [
        "# Initialize regex tokenizer\n",
        "tokenizer = RegexpTokenizer(r'\\w+')\n",
        "\n",
        "# Vectorize document using TF-IDF\n",
        "tfidf = TfidfVectorizer(lowercase=True,\n",
        "                        stop_words='english',\n",
        "                        ngram_range = (1,1),\n",
        "                        tokenizer = tokenizer.tokenize)\n",
        "\n",
        "# Fit and Transform the documents\n",
        "train_data = tfidf.fit_transform(documents_list) "
      ],
      "metadata": {
        "id": "zx13XsNVWerg"
      },
      "execution_count": null,
      "outputs": []
    },
    {
      "cell_type": "code",
      "source": [
        "# Define the number of topics or components\n",
        "num_components=10\n",
        "\n",
        "# Create LDA object\n",
        "model=LatentDirichletAllocation(n_components=num_components)\n",
        "\n",
        "# Fit and Transform SVD model on data\n",
        "lda_matrix = model.fit_transform(train_data)\n",
        "\n",
        "# Get Components \n",
        "lda_components=model.components_"
      ],
      "metadata": {
        "id": "mm0woNLjWjrE"
      },
      "execution_count": null,
      "outputs": []
    },
    {
      "cell_type": "code",
      "source": [
        "# Print the topics with their terms\n",
        "terms = tfidf.get_feature_names()\n",
        "\n",
        "for index, component in enumerate(lda_components):\n",
        "    zipped = zip(terms, component)\n",
        "    top_terms_key=sorted(zipped, key = lambda t: t[1], reverse=True)[:7]\n",
        "    top_terms_list=list(dict(top_terms_key).keys())\n",
        "    print(\"Topic \"+str(index)+\": \",top_terms_list)"
      ],
      "metadata": {
        "colab": {
          "base_uri": "https://localhost:8080/"
        },
        "id": "P_34rvzpWp1b",
        "outputId": "aa865e0d-1204-4bad-b9e9-8b4df7b5c719"
      },
      "execution_count": null,
      "outputs": [
        {
          "output_type": "stream",
          "name": "stdout",
          "text": [
            "Topic 0:  ['dose', 'flex', 'worse', 'utilization', 'upside', 'fitness', 'truck']\n",
            "Topic 1:  ['huawei', 'appliance', 'fiscal', 'account', 'channel', 'choose', 'likely']\n",
            "Topic 2:  ['services', 'relationship', 'home', 'argentina', 'helping', 'payers', 'training']\n",
            "Topic 3:  ['disclose', 'david', 'ladies', 'wouldnt', 'click', 'seasonal', 'hong']\n",
            "Topic 4:  ['desktop', 'memory', 'hotels', 'telco', 'scale', 'inventory', 'comparables']\n",
            "Topic 5:  ['reported', 'accelerate', 'bob', 'texas', 'postpaid', 'downturn', 'services']\n",
            "Topic 6:  ['tinder', 'logic', 'foundry', 'phase', 'novaseq', 'saar', 'memory']\n",
            "Topic 7:  ['think', 'going', 'year', 'really', 'thats', 'weve', 'quarter']\n",
            "Topic 8:  ['inflation', 'vehicles', 'electric', 'pc', 'services', 'channel', 'inventory']\n",
            "Topic 9:  ['dsd', 'medicare', 'using', 'hotels', 'airpods', 'availability', 'insulin']\n"
          ]
        },
        {
          "output_type": "stream",
          "name": "stderr",
          "text": [
            "/usr/local/lib/python3.7/dist-packages/sklearn/utils/deprecation.py:87: FutureWarning: Function get_feature_names is deprecated; get_feature_names is deprecated in 1.0 and will be removed in 1.2. Please use get_feature_names_out instead.\n",
            "  warnings.warn(msg, category=FutureWarning)\n"
          ]
        }
      ]
    },
    {
      "cell_type": "code",
      "source": [
        "from sklearn.model_selection import train_test_split\n",
        "\n",
        "SEED = 42\n",
        "x_train, x_validation_and_test, y_train, y_validation_and_test = train_test_split(lda_matrix, target, test_size=.3, random_state=SEED)\n",
        "x_validation, x_test, y_validation, y_test = train_test_split(x_validation_and_test, y_validation_and_test, test_size=.5, random_state=SEED)"
      ],
      "metadata": {
        "id": "cCcslRJf3F0i"
      },
      "execution_count": null,
      "outputs": []
    },
    {
      "cell_type": "code",
      "source": [
        "#Classification implementation\n",
        "from sklearn.ensemble import RandomForestClassifier\n",
        "from sklearn.linear_model import LogisticRegression\n",
        "from sklearn.metrics import accuracy_score\n",
        "\n",
        "def logistic_reg_train_model(x_train,y_train,x_test,y_test):\n",
        "    log_reg = LogisticRegression(random_state=0)\n",
        "    log_reg.fit(x_train,y_train)\n",
        "    pred = log_reg.predict(x_test)\n",
        "    log_accuracy = accuracy_score(y_test,pred)\n",
        "    print (str(log_accuracy)+(\" is the accuracy of the logistic regression model\"))\n",
        "    return log_reg\n",
        "    \n",
        "def Random_forest_train_model(x_train,y_train,x_test,y_test):\n",
        "    rf = RandomForestClassifier(n_estimators=100, random_state=42)\n",
        "    rf.fit(x_train, y_train)\n",
        "    pred = rf.predict(x_test)\n",
        "    rf_accuracy= accuracy_score(y_test,pred)\n",
        "    print(str(rf_accuracy)+(\" is the accuracy of the RandomForestClassifier model\"))\n",
        "    return rf\n",
        "\n",
        "log_reg = logistic_reg_train_model(x_train,y_train,x_test,y_test)\n",
        "rf = Random_forest_train_model(x_train,y_train,x_test,y_test)"
      ],
      "metadata": {
        "colab": {
          "base_uri": "https://localhost:8080/"
        },
        "outputId": "f8048ec2-dc59-41c0-d671-c6ff093812fb",
        "id": "fKg3ywB-3F0j"
      },
      "execution_count": null,
      "outputs": [
        {
          "output_type": "stream",
          "name": "stdout",
          "text": [
            "0.868421052631579 is the accuracy of the logistic regression model\n",
            "0.8201754385964912 is the accuracy of the RandomForestClassifier model\n"
          ]
        }
      ]
    },
    {
      "cell_type": "code",
      "source": [
        "#validation\n",
        "\n",
        "def logistic_reg_val_model(x_validation,y_validation, log_reg):\n",
        "    y_pred_lr = log_reg.predict(x_validation)\n",
        "    yprob_lr = log_reg.predict_proba(x_validation)\n",
        "    log_accuracy = accuracy_score(y_validation,y_pred_lr)\n",
        "    print (str(log_accuracy)+(\" is the Val_accuracy of the logistic regression model\"))\n",
        "    return yprob_lr\n",
        "\n",
        "def random_forest_val_model(x_validation,y_validation, rf):\n",
        "    y_pred_rf = rf.predict(x_validation)\n",
        "    yprob_rf = rf.predict_proba(x_validation)\n",
        "    rf_acc= accuracy_score(y_validation,y_pred_rf)\n",
        "    print(str(rf_acc)+(\" is the Val_accuracy of the RandomForestClassifier model\"))\n",
        "    return yprob_rf\n",
        "\n",
        "yhat_lr = logistic_reg_val_model(x_validation,y_validation,log_reg)\n",
        "yhat_rf = random_forest_val_model(x_validation,y_validation,rf)"
      ],
      "metadata": {
        "colab": {
          "base_uri": "https://localhost:8080/"
        },
        "outputId": "4d076596-585a-4659-b2ae-a42d02afafb9",
        "id": "ZDqj93iy3F0j"
      },
      "execution_count": null,
      "outputs": [
        {
          "output_type": "stream",
          "name": "stdout",
          "text": [
            "0.8370044052863436 is the Val_accuracy of the logistic regression model\n",
            "0.7929515418502202 is the Val_accuracy of the RandomForestClassifier model\n"
          ]
        }
      ]
    },
    {
      "cell_type": "code",
      "source": [
        "from sklearn.metrics import roc_curve, auc,precision_recall_curve,average_precision_score,plot_precision_recall_curve, accuracy_score\n",
        "import matplotlib.pyplot as plt\n",
        "\n",
        "def print_roc(y_validation,yhat_lr,yhat_rf):\n",
        "    fpr_lr, tpr_lr, threshold = roc_curve(y_validation, yhat_lr[:,1])\n",
        "    roc_auc_lr = auc(fpr_lr, tpr_lr)\n",
        "    fpr_rf, tpr_rf, threshold = roc_curve(y_validation, yhat_rf[:,1])\n",
        "    roc_auc_rf = auc(fpr_rf, tpr_rf)\n",
        "    plt.figure(figsize=(6,6))\n",
        "    plt.plot(fpr_lr, tpr_lr, label='logisticReg (area = %0.3f)' % roc_auc_lr, linewidth=2)\n",
        "    plt.plot(fpr_rf, tpr_rf, label='RandomForest (area = %0.3f)' % roc_auc_rf, linewidth=2)\n",
        "    plt.plot([0, 1], [0, 1], 'k--', linewidth=2)\n",
        "    plt.xlim([-0.05, 1.0])\n",
        "    plt.ylim([-0.05, 1.05])\n",
        "    plt.xlabel('False Positive Rate', fontsize=18)\n",
        "    plt.ylabel('True Positive Rate', fontsize=18)\n",
        "    plt.title('Receiver operating characteristic: is positive', fontsize=18)\n",
        "    plt.legend(loc=\"lower right\")\n",
        "    plt.show()"
      ],
      "metadata": {
        "id": "4hj7WTv_3F0l"
      },
      "execution_count": null,
      "outputs": []
    },
    {
      "cell_type": "code",
      "source": [
        "print_roc(y_validation,yhat_lr,yhat_rf)"
      ],
      "metadata": {
        "colab": {
          "base_uri": "https://localhost:8080/",
          "height": 416
        },
        "outputId": "95d4365c-4efc-43a1-8ad4-58e804be234b",
        "id": "nfJwdBV-3F0l"
      },
      "execution_count": null,
      "outputs": [
        {
          "output_type": "display_data",
          "data": {
            "text/plain": [
              "<Figure size 432x432 with 1 Axes>"
            ],
            "image/png": "[encoded data removed]"
          },
          "metadata": {
            "needs_background": "light"
          }
        }
      ]
    },
    {
      "cell_type": "code",
      "source": [
        "def print_precision_recall_curve(y_validation,yhat_lr,yhat_rf):\n",
        "    average_precision_lr = average_precision_score(y_validation, yhat_lr[:,1])\n",
        "    print('average precision Logistic Regression :%0.3f' %average_precision_lr)\n",
        "    average_precision_rf = average_precision_score(y_validation, yhat_rf[:,1])\n",
        "    print('average precision Random Forest :%0.3f' %average_precision_rf)\n",
        "    precision_lr, recall_lr, thresholds = precision_recall_curve(y_validation, yhat_lr[:,1])\n",
        "    precision_rf, recall_rf, thresholds = precision_recall_curve(y_validation, yhat_rf[:,1])\n",
        "    auc_precision_recall_lr = auc(recall_lr, precision_lr)\n",
        "    auc_precision_recall_rf = auc(recall_rf, precision_rf)\n",
        "    plt.figure(figsize=(6,6))\n",
        "    plt.xlabel('Recall', fontsize=14)\n",
        "    plt.ylabel('Precision', fontsize=14)\n",
        "    plt.title('Precision- Recall Curve', fontsize=16)\n",
        "    plt.plot(recall_lr, precision_lr,label='logisticReg (area = %0.3f)' %auc_precision_recall_lr )\n",
        "    plt.plot(recall_rf, precision_rf,label=' RandomForest (area = %0.3f)' %auc_precision_recall_rf )\n",
        "    plt.legend(loc=\"upper right\")\n",
        "    plt.show()\n",
        "\n",
        "print_precision_recall_curve(y_validation,yhat_lr,yhat_rf)"
      ],
      "metadata": {
        "colab": {
          "base_uri": "https://localhost:8080/",
          "height": 444
        },
        "id": "bT3kG0iQrARz",
        "outputId": "5cc78cc5-8560-4506-ca36-15842b9613bd"
      },
      "execution_count": null,
      "outputs": [
        {
          "output_type": "stream",
          "name": "stdout",
          "text": [
            "average precision Logistic Regression :0.822\n",
            "average precision Random Forest :0.813\n"
          ]
        },
        {
          "output_type": "display_data",
          "data": {
            "text/plain": [
              "<Figure size 432x432 with 1 Axes>"
            ],
            "image/png": "[encoded data removed]"
          },
          "metadata": {
            "needs_background": "light"
          }
        }
      ]
    },
    {
      "cell_type": "markdown",
      "source": [
        "**Based on the above results , we see the Logistic Regresssion performing better when it comes to the Accuracy and Precision Recall Curve , while the logistic regression has a better AUC.**"
      ],
      "metadata": {
        "id": "dlp6JG43rVFC"
      }
    },
    {
      "cell_type": "markdown",
      "source": [
        "#GloVe"
      ],
      "metadata": {
        "id": "8L1sn-QV4JlD"
      }
    },
    {
      "cell_type": "markdown",
      "source": [
        "**GloVe is an unsupervised learning algorithm for obtaining vector representations for words. Training is performed on aggregated global word-word co-occurrence statistics from a corpus, and the resulting representations showcase interesting linear substructures of the word vector space.**"
      ],
      "metadata": {
        "id": "5_nRFCVaseCs"
      }
    },
    {
      "cell_type": "markdown",
      "source": [
        "**We import all the necessary libraries.**"
      ],
      "metadata": {
        "id": "0mxDWBAysmV3"
      }
    },
    {
      "cell_type": "code",
      "source": [
        "from keras.datasets import imdb\n",
        "import pandas as pd\n",
        "import numpy as np\n",
        "import tensorflow as tf\n",
        "from keras.layers import LSTM, Activation, Dropout, Dense, Input, Conv1D, MaxPooling1D, GlobalMaxPooling1D , GRU\n",
        "from keras.layers.embeddings import Embedding\n",
        "from keras.models import Model\n",
        "import string\n",
        "import re\n",
        "from keras.preprocessing.text import Tokenizer\n",
        "from sklearn.preprocessing import LabelBinarizer\n",
        "from keras.preprocessing.sequence import pad_sequences\n",
        "import keras\n",
        "from sklearn.model_selection import train_test_split"
      ],
      "metadata": {
        "id": "PdR8NGA9sQpT"
      },
      "execution_count": null,
      "outputs": []
    },
    {
      "cell_type": "markdown",
      "source": [
        "**Here we use the same data cleaning and data preprocessing steps as followed in the previous model.**\n",
        "\n",
        "**Now we try to predict predict the ANSWER LABEL 2 (\"Answer_2_negative\": 0, \"Answer_2_positive\": 1) for the text.**\n",
        "\n",
        "**We start with the data pre-processing and the data cleaning. We modify the dataframe so that we get the data related to Answer label 2**"
      ],
      "metadata": {
        "id": "FJtsufEjswOp"
      }
    },
    {
      "cell_type": "code",
      "execution_count": null,
      "metadata": {
        "colab": {
          "base_uri": "https://localhost:8080/"
        },
        "outputId": "c589234f-74b9-407a-fb32-0cfe6971a07f",
        "id": "eTRjVaDy4d8O"
      },
      "outputs": [
        {
          "output_type": "stream",
          "name": "stdout",
          "text": [
            "<class 'pandas.core.frame.DataFrame'>\n",
            "RangeIndex: 8472 entries, 0 to 8471\n",
            "Data columns (total 5 columns):\n",
            " #   Column      Non-Null Count  Dtype \n",
            "---  ------      --------------  ----- \n",
            " 0   Unnamed: 0  8472 non-null   int64 \n",
            " 1   text        8472 non-null   object\n",
            " 2   category    8472 non-null   object\n",
            " 3   stage       8472 non-null   int64 \n",
            " 4   level       8472 non-null   int64 \n",
            "dtypes: int64(3), object(2)\n",
            "memory usage: 331.1+ KB\n"
          ]
        }
      ],
      "source": [
        "df = pd.read_csv('/content/drive/My Drive/data.csv')\n",
        "df.info()\n"
      ]
    },
    {
      "cell_type": "code",
      "source": [
        "indexnames= df[df[\"category\"]==\"Question\"].index\n",
        "df.drop(indexnames,inplace=True)\n",
        "data= df[df[\"stage\"]==2]\n",
        "data.drop(columns=[\"category\",\"stage\",\"Unnamed: 0\"],axis=1 ,inplace=True)\n",
        "print(data.shape)\n",
        "data\n"
      ],
      "metadata": {
        "colab": {
          "base_uri": "https://localhost:8080/",
          "height": 528
        },
        "outputId": "8b6fc2fa-dc58-4369-853b-86145ed03c63",
        "id": "mDAZL2v54d8P"
      },
      "execution_count": null,
      "outputs": [
        {
          "output_type": "stream",
          "name": "stdout",
          "text": [
            "(1516, 2)\n"
          ]
        },
        {
          "output_type": "stream",
          "name": "stderr",
          "text": [
            "/usr/local/lib/python3.7/dist-packages/pandas/core/frame.py:4913: SettingWithCopyWarning: \n",
            "A value is trying to be set on a copy of a slice from a DataFrame\n",
            "\n",
            "See the caveats in the documentation: https://pandas.pydata.org/pandas-docs/stable/user_guide/indexing.html#returning-a-view-versus-a-copy\n",
            "  errors=errors,\n"
          ]
        },
        {
          "output_type": "execute_result",
          "data": {
            "text/plain": [
              "                                                   text  level\n",
              "4      No, I think that as it relates to the one, I ...      1\n",
              "10    Well, clearly, it surpassed all of our very hi...      1\n",
              "16    I think the last few years, not only for us bu...      1\n",
              "22    The core-on-core, well, yes, I don't think the...      0\n",
              "28    There's lots of everything, Simeon. We really ...      1\n",
              "...                                                 ...    ...\n",
              "8443  Great, Tom. And I think the reason why we beli...      1\n",
              "8452  Yes, I mean, as part of our prepared remarks, ...      1\n",
              "8458  I'll touch on one, maybe in a little bit of de...      1\n",
              "8464  Yes, sure. The performance of RPO, and as we g...      1\n",
              "8470  Well, let's start with the first part of your ...      1\n",
              "\n",
              "[1516 rows x 2 columns]"
            ],
            "text/html": [
              "\n",
              "  <div id=\"df-784e6461-c328-4125-8886-79fa36e13ba8\">\n",
              "    <div class=\"colab-df-container\">\n",
              "      <div>\n",
              "<style scoped>\n",
              "    .dataframe tbody tr th:only-of-type {\n",
              "        vertical-align: middle;\n",
              "    }\n",
              "\n",
              "    .dataframe tbody tr th {\n",
              "        vertical-align: top;\n",
              "    }\n",
              "\n",
              "    .dataframe thead th {\n",
              "        text-align: right;\n",
              "    }\n",
              "</style>\n",
              "<table border=\"1\" class=\"dataframe\">\n",
              "  <thead>\n",
              "    <tr style=\"text-align: right;\">\n",
              "      <th></th>\n",
              "      <th>text</th>\n",
              "      <th>level</th>\n",
              "    </tr>\n",
              "  </thead>\n",
              "  <tbody>\n",
              "    <tr>\n",
              "      <th>4</th>\n",
              "      <td>No, I think that as it relates to the one, I ...</td>\n",
              "      <td>1</td>\n",
              "    </tr>\n",
              "    <tr>\n",
              "      <th>10</th>\n",
              "      <td>Well, clearly, it surpassed all of our very hi...</td>\n",
              "      <td>1</td>\n",
              "    </tr>\n",
              "    <tr>\n",
              "      <th>16</th>\n",
              "      <td>I think the last few years, not only for us bu...</td>\n",
              "      <td>1</td>\n",
              "    </tr>\n",
              "    <tr>\n",
              "      <th>22</th>\n",
              "      <td>The core-on-core, well, yes, I don't think the...</td>\n",
              "      <td>0</td>\n",
              "    </tr>\n",
              "    <tr>\n",
              "      <th>28</th>\n",
              "      <td>There's lots of everything, Simeon. We really ...</td>\n",
              "      <td>1</td>\n",
              "    </tr>\n",
              "    <tr>\n",
              "      <th>...</th>\n",
              "      <td>...</td>\n",
              "      <td>...</td>\n",
              "    </tr>\n",
              "    <tr>\n",
              "      <th>8443</th>\n",
              "      <td>Great, Tom. And I think the reason why we beli...</td>\n",
              "      <td>1</td>\n",
              "    </tr>\n",
              "    <tr>\n",
              "      <th>8452</th>\n",
              "      <td>Yes, I mean, as part of our prepared remarks, ...</td>\n",
              "      <td>1</td>\n",
              "    </tr>\n",
              "    <tr>\n",
              "      <th>8458</th>\n",
              "      <td>I'll touch on one, maybe in a little bit of de...</td>\n",
              "      <td>1</td>\n",
              "    </tr>\n",
              "    <tr>\n",
              "      <th>8464</th>\n",
              "      <td>Yes, sure. The performance of RPO, and as we g...</td>\n",
              "      <td>1</td>\n",
              "    </tr>\n",
              "    <tr>\n",
              "      <th>8470</th>\n",
              "      <td>Well, let's start with the first part of your ...</td>\n",
              "      <td>1</td>\n",
              "    </tr>\n",
              "  </tbody>\n",
              "</table>\n",
              "<p>1516 rows × 2 columns</p>\n",
              "</div>\n",
              "      <button class=\"colab-df-convert\" onclick=\"convertToInteractive('df-784e6461-c328-4125-8886-79fa36e13ba8')\"\n",
              "              title=\"Convert this dataframe to an interactive table.\"\n",
              "              style=\"display:none;\">\n",
              "        \n",
              "  <svg xmlns=\"http://www.w3.org/2000/svg\" height=\"24px\"viewBox=\"0 0 24 24\"\n",
              "       width=\"24px\">\n",
              "    <path d=\"M0 0h24v24H0V0z\" fill=\"none\"/>\n",
              "    <path d=\"M18.56 5.44l.94 2.06.94-2.06 2.06-.94-2.06-.94-.94-2.06-.94 2.06-2.06.94zm-11 1L8.5 8.5l.94-2.06 2.06-.94-2.06-.94L8.5 2.5l-.94 2.06-2.06.94zm10 10l.94 2.06.94-2.06 2.06-.94-2.06-.94-.94-2.06-.94 2.06-2.06.94z\"/><path d=\"M17.41 7.96l-1.37-1.37c-.4-.4-.92-.59-1.43-.59-.52 0-1.04.2-1.43.59L10.3 9.45l-7.72 7.72c-.78.78-.78 2.05 0 2.83L4 21.41c.39.39.9.59 1.41.59.51 0 1.02-.2 1.41-.59l7.78-7.78 2.81-2.81c.8-.78.8-2.07 0-2.86zM5.41 20L4 18.59l7.72-7.72 1.47 1.35L5.41 20z\"/>\n",
              "  </svg>\n",
              "      </button>\n",
              "      \n",
              "  <style>\n",
              "    .colab-df-container {\n",
              "      display:flex;\n",
              "      flex-wrap:wrap;\n",
              "      gap: 12px;\n",
              "    }\n",
              "\n",
              "    .colab-df-convert {\n",
              "      background-color: #E8F0FE;\n",
              "      border: none;\n",
              "      border-radius: 50%;\n",
              "      cursor: pointer;\n",
              "      display: none;\n",
              "      fill: #1967D2;\n",
              "      height: 32px;\n",
              "      padding: 0 0 0 0;\n",
              "      width: 32px;\n",
              "    }\n",
              "\n",
              "    .colab-df-convert:hover {\n",
              "      background-color: #E2EBFA;\n",
              "      box-shadow: 0px 1px 2px rgba(60, 64, 67, 0.3), 0px 1px 3px 1px rgba(60, 64, 67, 0.15);\n",
              "      fill: #174EA6;\n",
              "    }\n",
              "\n",
              "    [theme=dark] .colab-df-convert {\n",
              "      background-color: #3B4455;\n",
              "      fill: #D2E3FC;\n",
              "    }\n",
              "\n",
              "    [theme=dark] .colab-df-convert:hover {\n",
              "      background-color: #434B5C;\n",
              "      box-shadow: 0px 1px 3px 1px rgba(0, 0, 0, 0.15);\n",
              "      filter: drop-shadow(0px 1px 2px rgba(0, 0, 0, 0.3));\n",
              "      fill: #FFFFFF;\n",
              "    }\n",
              "  </style>\n",
              "\n",
              "      <script>\n",
              "        const buttonEl =\n",
              "          document.querySelector('#df-784e6461-c328-4125-8886-79fa36e13ba8 button.colab-df-convert');\n",
              "        buttonEl.style.display =\n",
              "          google.colab.kernel.accessAllowed ? 'block' : 'none';\n",
              "\n",
              "        async function convertToInteractive(key) {\n",
              "          const element = document.querySelector('#df-784e6461-c328-4125-8886-79fa36e13ba8');\n",
              "          const dataTable =\n",
              "            await google.colab.kernel.invokeFunction('convertToInteractive',\n",
              "                                                     [key], {});\n",
              "          if (!dataTable) return;\n",
              "\n",
              "          const docLinkHtml = 'Like what you see? Visit the ' +\n",
              "            '<a target=\"_blank\" href=https://colab.research.google.com/notebooks/data_table.ipynb>data table notebook</a>'\n",
              "            + ' to learn more about interactive tables.';\n",
              "          element.innerHTML = '';\n",
              "          dataTable['output_type'] = 'display_data';\n",
              "          await google.colab.output.renderOutput(dataTable, element);\n",
              "          const docLink = document.createElement('div');\n",
              "          docLink.innerHTML = docLinkHtml;\n",
              "          element.appendChild(docLink);\n",
              "        }\n",
              "      </script>\n",
              "    </div>\n",
              "  </div>\n",
              "  "
            ]
          },
          "metadata": {},
          "execution_count": 6
        }
      ]
    },
    {
      "cell_type": "code",
      "source": [
        "import re\n",
        "import string\n",
        "import nltk\n",
        "nltk.download('stopwords')\n",
        "from nltk.corpus import stopwords"
      ],
      "metadata": {
        "colab": {
          "base_uri": "https://localhost:8080/"
        },
        "outputId": "ce014251-74c9-47f5-cb8f-ed5175f4873a",
        "id": "1WWpBQmC4d8Q"
      },
      "execution_count": null,
      "outputs": [
        {
          "output_type": "stream",
          "name": "stdout",
          "text": [
            "[nltk_data] Downloading package stopwords to /root/nltk_data...\n",
            "[nltk_data]   Unzipping corpora/stopwords.zip.\n"
          ]
        }
      ]
    },
    {
      "cell_type": "code",
      "source": [
        "snowStem = nltk.stem.SnowballStemmer('english')\n",
        "sw_nltk = stopwords.words('english')\n",
        "sw_nltk.append('however')\n",
        "\n",
        "def my_preprocessor(processed_data, remove_stopwords = False, stemming = False):\n",
        "    # remove numbers \n",
        "    processed_data = re.sub(r'\\d+', '', processed_data)\n",
        "    # remove punctuation\n",
        "    processed_data = processed_data.translate(str.maketrans('','', string.punctuation))\n",
        "    # remove spaces\n",
        "    processed_data = processed_data.strip()\n",
        "    #upper to lower\n",
        "    processed_data = processed_data.lower()\n",
        "    \n",
        "    if stemming:\n",
        "      # stemming\n",
        "      processed_data = snowStem.stem(processed_data)\n",
        "    \n",
        "    if remove_stopwords:\n",
        "        # remove stop words\n",
        "        processed_data = ' '.join([word for word in processed_data.split() if not(word in sw_nltk)])\n",
        "        \n",
        "    \n",
        "    return processed_data"
      ],
      "metadata": {
        "id": "A3ESiPg84d8Q"
      },
      "execution_count": null,
      "outputs": []
    },
    {
      "cell_type": "code",
      "source": [
        "data.loc[:, 'processed_data'] = [my_preprocessor(text, remove_stopwords = True) for text in data.text]"
      ],
      "metadata": {
        "colab": {
          "base_uri": "https://localhost:8080/"
        },
        "outputId": "425fac08-78fa-4d8a-a6b0-7adea2b1da47",
        "id": "4ZPHvzp-4d8Q"
      },
      "execution_count": null,
      "outputs": [
        {
          "output_type": "stream",
          "name": "stderr",
          "text": [
            "/usr/local/lib/python3.7/dist-packages/pandas/core/indexing.py:1667: SettingWithCopyWarning: \n",
            "A value is trying to be set on a copy of a slice from a DataFrame.\n",
            "Try using .loc[row_indexer,col_indexer] = value instead\n",
            "\n",
            "See the caveats in the documentation: https://pandas.pydata.org/pandas-docs/stable/user_guide/indexing.html#returning-a-view-versus-a-copy\n",
            "  self.obj[key] = value\n"
          ]
        }
      ]
    },
    {
      "cell_type": "code",
      "source": [
        "corpus=[]\n",
        "for text in data[\"text\"]:\n",
        "    corpus.append(my_preprocessor(text, remove_stopwords = True))"
      ],
      "metadata": {
        "id": "-Lv5trii4d8R"
      },
      "execution_count": null,
      "outputs": []
    },
    {
      "cell_type": "code",
      "source": [
        "target=data['level']\n",
        "\n",
        "#re-arranging the df .\n",
        "\n",
        "data = data[['text','processed_data','level']]\n",
        "data"
      ],
      "metadata": {
        "colab": {
          "base_uri": "https://localhost:8080/",
          "height": 423
        },
        "outputId": "e2225dbd-d028-4c69-a048-8c26e0431ac8",
        "id": "W-pPR_Pz4d8S"
      },
      "execution_count": null,
      "outputs": [
        {
          "output_type": "execute_result",
          "data": {
            "text/plain": [
              "                                                   text  \\\n",
              "4      No, I think that as it relates to the one, I ...   \n",
              "10    Well, clearly, it surpassed all of our very hi...   \n",
              "16    I think the last few years, not only for us bu...   \n",
              "22    The core-on-core, well, yes, I don't think the...   \n",
              "28    There's lots of everything, Simeon. We really ...   \n",
              "...                                                 ...   \n",
              "8443  Great, Tom. And I think the reason why we beli...   \n",
              "8452  Yes, I mean, as part of our prepared remarks, ...   \n",
              "8458  I'll touch on one, maybe in a little bit of de...   \n",
              "8464  Yes, sure. The performance of RPO, and as we g...   \n",
              "8470  Well, let's start with the first part of your ...   \n",
              "\n",
              "                                         processed_data  level  \n",
              "4     think relates one think weve got currently und...      1  \n",
              "10    well clearly surpassed high expectations said ...      1  \n",
              "16    think last years us big gas retailers supermar...      1  \n",
              "22    coreoncore well yes dont think big surprises a...      0  \n",
              "28    theres lots everything simeon really dont talk...      1  \n",
              "...                                                 ...    ...  \n",
              "8443  great tom think reason believe midmarket oppor...      1  \n",
              "8452  yes mean part prepared remarks talked fact ado...      1  \n",
              "8458  ill touch one maybe little bit detail adobe ex...      1  \n",
              "8464  yes sure performance rpo go forward youll star...      1  \n",
              "8470  well lets start first part question see busine...      1  \n",
              "\n",
              "[1516 rows x 3 columns]"
            ],
            "text/html": [
              "\n",
              "  <div id=\"df-6637f1ec-1f5b-44e9-8509-0b5e277d8864\">\n",
              "    <div class=\"colab-df-container\">\n",
              "      <div>\n",
              "<style scoped>\n",
              "    .dataframe tbody tr th:only-of-type {\n",
              "        vertical-align: middle;\n",
              "    }\n",
              "\n",
              "    .dataframe tbody tr th {\n",
              "        vertical-align: top;\n",
              "    }\n",
              "\n",
              "    .dataframe thead th {\n",
              "        text-align: right;\n",
              "    }\n",
              "</style>\n",
              "<table border=\"1\" class=\"dataframe\">\n",
              "  <thead>\n",
              "    <tr style=\"text-align: right;\">\n",
              "      <th></th>\n",
              "      <th>text</th>\n",
              "      <th>processed_data</th>\n",
              "      <th>level</th>\n",
              "    </tr>\n",
              "  </thead>\n",
              "  <tbody>\n",
              "    <tr>\n",
              "      <th>4</th>\n",
              "      <td>No, I think that as it relates to the one, I ...</td>\n",
              "      <td>think relates one think weve got currently und...</td>\n",
              "      <td>1</td>\n",
              "    </tr>\n",
              "    <tr>\n",
              "      <th>10</th>\n",
              "      <td>Well, clearly, it surpassed all of our very hi...</td>\n",
              "      <td>well clearly surpassed high expectations said ...</td>\n",
              "      <td>1</td>\n",
              "    </tr>\n",
              "    <tr>\n",
              "      <th>16</th>\n",
              "      <td>I think the last few years, not only for us bu...</td>\n",
              "      <td>think last years us big gas retailers supermar...</td>\n",
              "      <td>1</td>\n",
              "    </tr>\n",
              "    <tr>\n",
              "      <th>22</th>\n",
              "      <td>The core-on-core, well, yes, I don't think the...</td>\n",
              "      <td>coreoncore well yes dont think big surprises a...</td>\n",
              "      <td>0</td>\n",
              "    </tr>\n",
              "    <tr>\n",
              "      <th>28</th>\n",
              "      <td>There's lots of everything, Simeon. We really ...</td>\n",
              "      <td>theres lots everything simeon really dont talk...</td>\n",
              "      <td>1</td>\n",
              "    </tr>\n",
              "    <tr>\n",
              "      <th>...</th>\n",
              "      <td>...</td>\n",
              "      <td>...</td>\n",
              "      <td>...</td>\n",
              "    </tr>\n",
              "    <tr>\n",
              "      <th>8443</th>\n",
              "      <td>Great, Tom. And I think the reason why we beli...</td>\n",
              "      <td>great tom think reason believe midmarket oppor...</td>\n",
              "      <td>1</td>\n",
              "    </tr>\n",
              "    <tr>\n",
              "      <th>8452</th>\n",
              "      <td>Yes, I mean, as part of our prepared remarks, ...</td>\n",
              "      <td>yes mean part prepared remarks talked fact ado...</td>\n",
              "      <td>1</td>\n",
              "    </tr>\n",
              "    <tr>\n",
              "      <th>8458</th>\n",
              "      <td>I'll touch on one, maybe in a little bit of de...</td>\n",
              "      <td>ill touch one maybe little bit detail adobe ex...</td>\n",
              "      <td>1</td>\n",
              "    </tr>\n",
              "    <tr>\n",
              "      <th>8464</th>\n",
              "      <td>Yes, sure. The performance of RPO, and as we g...</td>\n",
              "      <td>yes sure performance rpo go forward youll star...</td>\n",
              "      <td>1</td>\n",
              "    </tr>\n",
              "    <tr>\n",
              "      <th>8470</th>\n",
              "      <td>Well, let's start with the first part of your ...</td>\n",
              "      <td>well lets start first part question see busine...</td>\n",
              "      <td>1</td>\n",
              "    </tr>\n",
              "  </tbody>\n",
              "</table>\n",
              "<p>1516 rows × 3 columns</p>\n",
              "</div>\n",
              "      <button class=\"colab-df-convert\" onclick=\"convertToInteractive('df-6637f1ec-1f5b-44e9-8509-0b5e277d8864')\"\n",
              "              title=\"Convert this dataframe to an interactive table.\"\n",
              "              style=\"display:none;\">\n",
              "        \n",
              "  <svg xmlns=\"http://www.w3.org/2000/svg\" height=\"24px\"viewBox=\"0 0 24 24\"\n",
              "       width=\"24px\">\n",
              "    <path d=\"M0 0h24v24H0V0z\" fill=\"none\"/>\n",
              "    <path d=\"M18.56 5.44l.94 2.06.94-2.06 2.06-.94-2.06-.94-.94-2.06-.94 2.06-2.06.94zm-11 1L8.5 8.5l.94-2.06 2.06-.94-2.06-.94L8.5 2.5l-.94 2.06-2.06.94zm10 10l.94 2.06.94-2.06 2.06-.94-2.06-.94-.94-2.06-.94 2.06-2.06.94z\"/><path d=\"M17.41 7.96l-1.37-1.37c-.4-.4-.92-.59-1.43-.59-.52 0-1.04.2-1.43.59L10.3 9.45l-7.72 7.72c-.78.78-.78 2.05 0 2.83L4 21.41c.39.39.9.59 1.41.59.51 0 1.02-.2 1.41-.59l7.78-7.78 2.81-2.81c.8-.78.8-2.07 0-2.86zM5.41 20L4 18.59l7.72-7.72 1.47 1.35L5.41 20z\"/>\n",
              "  </svg>\n",
              "      </button>\n",
              "      \n",
              "  <style>\n",
              "    .colab-df-container {\n",
              "      display:flex;\n",
              "      flex-wrap:wrap;\n",
              "      gap: 12px;\n",
              "    }\n",
              "\n",
              "    .colab-df-convert {\n",
              "      background-color: #E8F0FE;\n",
              "      border: none;\n",
              "      border-radius: 50%;\n",
              "      cursor: pointer;\n",
              "      display: none;\n",
              "      fill: #1967D2;\n",
              "      height: 32px;\n",
              "      padding: 0 0 0 0;\n",
              "      width: 32px;\n",
              "    }\n",
              "\n",
              "    .colab-df-convert:hover {\n",
              "      background-color: #E2EBFA;\n",
              "      box-shadow: 0px 1px 2px rgba(60, 64, 67, 0.3), 0px 1px 3px 1px rgba(60, 64, 67, 0.15);\n",
              "      fill: #174EA6;\n",
              "    }\n",
              "\n",
              "    [theme=dark] .colab-df-convert {\n",
              "      background-color: #3B4455;\n",
              "      fill: #D2E3FC;\n",
              "    }\n",
              "\n",
              "    [theme=dark] .colab-df-convert:hover {\n",
              "      background-color: #434B5C;\n",
              "      box-shadow: 0px 1px 3px 1px rgba(0, 0, 0, 0.15);\n",
              "      filter: drop-shadow(0px 1px 2px rgba(0, 0, 0, 0.3));\n",
              "      fill: #FFFFFF;\n",
              "    }\n",
              "  </style>\n",
              "\n",
              "      <script>\n",
              "        const buttonEl =\n",
              "          document.querySelector('#df-6637f1ec-1f5b-44e9-8509-0b5e277d8864 button.colab-df-convert');\n",
              "        buttonEl.style.display =\n",
              "          google.colab.kernel.accessAllowed ? 'block' : 'none';\n",
              "\n",
              "        async function convertToInteractive(key) {\n",
              "          const element = document.querySelector('#df-6637f1ec-1f5b-44e9-8509-0b5e277d8864');\n",
              "          const dataTable =\n",
              "            await google.colab.kernel.invokeFunction('convertToInteractive',\n",
              "                                                     [key], {});\n",
              "          if (!dataTable) return;\n",
              "\n",
              "          const docLinkHtml = 'Like what you see? Visit the ' +\n",
              "            '<a target=\"_blank\" href=https://colab.research.google.com/notebooks/data_table.ipynb>data table notebook</a>'\n",
              "            + ' to learn more about interactive tables.';\n",
              "          element.innerHTML = '';\n",
              "          dataTable['output_type'] = 'display_data';\n",
              "          await google.colab.output.renderOutput(dataTable, element);\n",
              "          const docLink = document.createElement('div');\n",
              "          docLink.innerHTML = docLinkHtml;\n",
              "          element.appendChild(docLink);\n",
              "        }\n",
              "      </script>\n",
              "    </div>\n",
              "  </div>\n",
              "  "
            ]
          },
          "metadata": {},
          "execution_count": 11
        }
      ]
    },
    {
      "cell_type": "code",
      "source": [
        "text = data['processed_data']\n",
        "level = data['level']\n"
      ],
      "metadata": {
        "id": "5zZ7bciH4d8S"
      },
      "execution_count": null,
      "outputs": []
    },
    {
      "cell_type": "code",
      "source": [
        "X_train, X_test,Y_train, Y_test = train_test_split(text, level, test_size=0.2, random_state = 42)"
      ],
      "metadata": {
        "id": "TbiwQvA_yOiE"
      },
      "execution_count": null,
      "outputs": []
    },
    {
      "cell_type": "markdown",
      "source": [
        "**Now we will tokenize all the words in the train set, so the Tokenizer basically indexes all the words in the text and each word gets a unique index. This helps in creating dictionary mapping words to an index which will be very necessary to us later.**"
      ],
      "metadata": {
        "id": "yNr14MBxtVMl"
      }
    },
    {
      "cell_type": "code",
      "source": [
        "tokenizer = Tokenizer(num_words=5000)\n",
        "tokenizer.fit_on_texts(X_train)\n",
        "\n",
        "words_to_index = tokenizer.word_index"
      ],
      "metadata": {
        "id": "ti7p2sa4ybDw"
      },
      "execution_count": null,
      "outputs": []
    },
    {
      "cell_type": "markdown",
      "source": [
        "**Now we will write a function to read the contents of the GloVe Vector file, which returns us a dictionary that maps the words to their respective word embeddings.**"
      ],
      "metadata": {
        "id": "HURWH0BYtbMe"
      }
    },
    {
      "cell_type": "code",
      "source": [
        "def read_glove_vector(glove_vec):\n",
        "  with open(glove_vec, 'r', encoding='UTF-8') as f:\n",
        "    words = set()\n",
        "    word_to_vec_map = {}\n",
        "    for line in f:\n",
        "      w_line = line.split()\n",
        "      curr_word = w_line[0]\n",
        "      word_to_vec_map[curr_word] = np.array(w_line[1:], dtype=np.float64)\n",
        "\n",
        "\n",
        "\n",
        "  return word_to_vec_map"
      ],
      "metadata": {
        "id": "f7CDzGDRyoyK"
      },
      "execution_count": null,
      "outputs": []
    },
    {
      "cell_type": "markdown",
      "source": [
        "**We define maxLen which is the maximum length of one review we will use for our training, I have kept the value to be 150, we will pad this later so all the inputs have the same.**"
      ],
      "metadata": {
        "id": "TgmQ2v12ti9S"
      }
    },
    {
      "cell_type": "code",
      "source": [
        "word_to_vec_map = read_glove_vector('/content/drive/My Drive/glove.6B.50d.txt')\n",
        "\n",
        "maxLen = 150"
      ],
      "metadata": {
        "id": "bEJphL7zy8BR"
      },
      "execution_count": null,
      "outputs": []
    },
    {
      "cell_type": "markdown",
      "source": [
        "**We defined the embedding matrix here, where all the words which are not in the GloVe dictionary being assigned a zero vector.**"
      ],
      "metadata": {
        "id": "8iA2ysvRttOz"
      }
    },
    {
      "cell_type": "code",
      "source": [
        "vocab_len = len(words_to_index)\n",
        "embed_vector_len = word_to_vec_map['apple'].shape[0]\n",
        "\n",
        "emb_matrix = np.zeros((vocab_len, embed_vector_len))\n",
        "\n",
        "words_to_index.items()\n",
        "\n",
        "for word, index in words_to_index.items():\n",
        "  embedding_vector = word_to_vec_map.get(word)\n",
        "  if embedding_vector is not None:\n",
        "    emb_matrix[index - 1, :] = embedding_vector\n",
        "\n",
        "embedding_layer = Embedding(input_dim=vocab_len, output_dim=embed_vector_len, input_length=maxLen, weights = [emb_matrix], trainable=False)"
      ],
      "metadata": {
        "id": "54xI_6OTcJ2a"
      },
      "execution_count": null,
      "outputs": []
    },
    {
      "cell_type": "markdown",
      "source": [
        "**We also defined the embedding layer using the built-in Keras Embedding layer. The embedding layer maps the words to their embedding vectors from the embedding matrix. We can keep this layer as trainable, which will learn the word embedding itself but as we are using GloVe Embeddings, we won’t keep the layer as trainable.**\n",
        "**We will use this layer to define our model architecture.**\n",
        "\n",
        "**We define two models , one using Convolutions and the other one using LSTM.**"
      ],
      "metadata": {
        "id": "xCdPcYIct02P"
      }
    },
    {
      "cell_type": "code",
      "source": [
        "def conv1d_model(input_shape):\n",
        "\n",
        "  X_indices = Input(input_shape)\n",
        "\n",
        "  embeddings = embedding_layer(X_indices)\n",
        "\n",
        "  X = Conv1D(512,3,activation='relu')(embeddings)\n",
        "  \n",
        "  X = MaxPooling1D(3)(X)\n",
        "\n",
        "  X = Conv1D(256,3,activation='relu')(X)\n",
        "  \n",
        "  X = MaxPooling1D(3)(X)\n",
        "\n",
        "  X = Conv1D(256,3,activation='relu')(X)\n",
        "  X = Dropout(0.8)(X)\n",
        "  X = MaxPooling1D(3)(X)\n",
        "\n",
        "  X = GlobalMaxPooling1D()(X)\n",
        "\n",
        "  X = Dense(256, activation='relu')(X)\n",
        "  X = Dense(1, activation='sigmoid')(X)\n",
        "\n",
        "  model = Model(inputs=X_indices, outputs=X)\n",
        "\n",
        "  return model\n",
        "                "
      ],
      "metadata": {
        "id": "E47mmpiqhEQ5"
      },
      "execution_count": null,
      "outputs": []
    },
    {
      "cell_type": "code",
      "source": [
        "model_1d = conv1d_model((maxLen,))\n",
        "model_1d.summary()"
      ],
      "metadata": {
        "colab": {
          "base_uri": "https://localhost:8080/"
        },
        "id": "j9syhdgP34_q",
        "outputId": "53792a5d-f548-4f4d-feea-aad6570fcef3"
      },
      "execution_count": null,
      "outputs": [
        {
          "output_type": "stream",
          "name": "stdout",
          "text": [
            "Model: \"model_1\"\n",
            "_________________________________________________________________\n",
            " Layer (type)                Output Shape              Param #   \n",
            "=================================================================\n",
            " input_2 (InputLayer)        [(None, 150)]             0         \n",
            "                                                                 \n",
            " embedding_1 (Embedding)     (None, 150, 50)           456550    \n",
            "                                                                 \n",
            " conv1d (Conv1D)             (None, 148, 512)          77312     \n",
            "                                                                 \n",
            " max_pooling1d (MaxPooling1D  (None, 49, 512)          0         \n",
            " )                                                               \n",
            "                                                                 \n",
            " conv1d_1 (Conv1D)           (None, 47, 256)           393472    \n",
            "                                                                 \n",
            " max_pooling1d_1 (MaxPooling  (None, 15, 256)          0         \n",
            " 1D)                                                             \n",
            "                                                                 \n",
            " conv1d_2 (Conv1D)           (None, 13, 256)           196864    \n",
            "                                                                 \n",
            " dropout_2 (Dropout)         (None, 13, 256)           0         \n",
            "                                                                 \n",
            " max_pooling1d_2 (MaxPooling  (None, 4, 256)           0         \n",
            " 1D)                                                             \n",
            "                                                                 \n",
            " global_max_pooling1d (Globa  (None, 256)              0         \n",
            " lMaxPooling1D)                                                  \n",
            "                                                                 \n",
            " dense_1 (Dense)             (None, 256)               65792     \n",
            "                                                                 \n",
            " dense_2 (Dense)             (None, 1)                 257       \n",
            "                                                                 \n",
            "=================================================================\n",
            "Total params: 1,190,247\n",
            "Trainable params: 733,697\n",
            "Non-trainable params: 456,550\n",
            "_________________________________________________________________\n"
          ]
        }
      ]
    },
    {
      "cell_type": "markdown",
      "source": [
        "**We pad the sequences so that all data is of the same length.**"
      ],
      "metadata": {
        "id": "H41qvbq1u0tJ"
      }
    },
    {
      "cell_type": "code",
      "source": [
        "X_train_indices = tokenizer.texts_to_sequences(X_train)\n",
        "X_train_indices = pad_sequences(X_train_indices, maxlen=maxLen, padding='post')\n",
        "X_train_indices.shape"
      ],
      "metadata": {
        "colab": {
          "base_uri": "https://localhost:8080/"
        },
        "id": "I1SFmnyR4NaC",
        "outputId": "dfe229d7-1805-4185-d7d6-a8a56038d0ef"
      },
      "execution_count": null,
      "outputs": [
        {
          "output_type": "execute_result",
          "data": {
            "text/plain": [
              "(1212, 150)"
            ]
          },
          "metadata": {},
          "execution_count": 34
        }
      ]
    },
    {
      "cell_type": "code",
      "source": [
        "adam = tf.keras.optimizers.Adam(learning_rate = 0.01)\n",
        "model_1d.compile(optimizer=adam, loss='binary_crossentropy', metrics=['accuracy'])\n",
        "model_1d.fit(X_train_indices, Y_train, batch_size=64, epochs=10)"
      ],
      "metadata": {
        "colab": {
          "base_uri": "https://localhost:8080/"
        },
        "id": "VZSh6EYj4Zcu",
        "outputId": "6b47c0f4-2b99-4f65-d593-2cb4e7dbea3d"
      },
      "execution_count": null,
      "outputs": [
        {
          "output_type": "stream",
          "name": "stdout",
          "text": [
            "Epoch 1/10\n",
            "19/19 [==============================] - 13s 549ms/step - loss: 13.1240 - accuracy: 0.7814\n",
            "Epoch 2/10\n",
            "19/19 [==============================] - 6s 317ms/step - loss: 0.4751 - accuracy: 0.8218\n",
            "Epoch 3/10\n",
            "19/19 [==============================] - 6s 317ms/step - loss: 0.4785 - accuracy: 0.8193\n",
            "Epoch 4/10\n",
            "19/19 [==============================] - 6s 313ms/step - loss: 0.4585 - accuracy: 0.8226\n",
            "Epoch 5/10\n",
            "19/19 [==============================] - 6s 315ms/step - loss: 0.4313 - accuracy: 0.8243\n",
            "Epoch 6/10\n",
            "19/19 [==============================] - 6s 314ms/step - loss: 0.4099 - accuracy: 0.8300\n",
            "Epoch 7/10\n",
            "19/19 [==============================] - 6s 313ms/step - loss: 0.3616 - accuracy: 0.8465\n",
            "Epoch 8/10\n",
            "19/19 [==============================] - 6s 317ms/step - loss: 0.3198 - accuracy: 0.8738\n",
            "Epoch 9/10\n",
            "19/19 [==============================] - 6s 316ms/step - loss: 0.2483 - accuracy: 0.8960\n",
            "Epoch 10/10\n",
            "19/19 [==============================] - 6s 316ms/step - loss: 0.2109 - accuracy: 0.9142\n"
          ]
        },
        {
          "output_type": "execute_result",
          "data": {
            "text/plain": [
              "<keras.callbacks.History at 0x7f336dd9b2d0>"
            ]
          },
          "metadata": {},
          "execution_count": 35
        }
      ]
    },
    {
      "cell_type": "markdown",
      "source": [
        "**The Convolution neural network performed extremely well with a accuracy of 91%.**\n"
      ],
      "metadata": {
        "id": "-kUqUiDxuaPX"
      }
    },
    {
      "cell_type": "code",
      "source": [
        "#definition of LSTM model:\n",
        "\n",
        "def lstm(input_shape):\n",
        "\n",
        "  X_indices = Input(input_shape)\n",
        "\n",
        "  embeddings = embedding_layer(X_indices)\n",
        "\n",
        "  X = LSTM(128, return_sequences=True)(embeddings)\n",
        "\n",
        "  X = Dropout(0.5)(X)\n",
        "\n",
        "  X = LSTM(128, return_sequences=True)(X)\n",
        "\n",
        "  X = Dropout(0.5)(X)\n",
        "\n",
        "  X = LSTM(128)(X)\n",
        "\n",
        "  X = Dense(128, activation='relu')(X)\n",
        "\n",
        "  X = Dense(1, activation='sigmoid')(X)\n",
        "\n",
        "  model = Model(inputs=X_indices, outputs=X)\n",
        "\n",
        "  return model"
      ],
      "metadata": {
        "id": "sWWBXoci5uHw"
      },
      "execution_count": null,
      "outputs": []
    },
    {
      "cell_type": "code",
      "source": [
        "model_lstm = lstm((maxLen,))\n",
        "model_lstm.summary()"
      ],
      "metadata": {
        "colab": {
          "base_uri": "https://localhost:8080/"
        },
        "id": "B6jAVhKL55n8",
        "outputId": "6419d744-85a1-4035-d1e9-43eaa3ec8099"
      },
      "execution_count": null,
      "outputs": [
        {
          "output_type": "stream",
          "name": "stdout",
          "text": [
            "Model: \"model_13\"\n",
            "_________________________________________________________________\n",
            " Layer (type)                Output Shape              Param #   \n",
            "=================================================================\n",
            " input_15 (InputLayer)       [(None, 150)]             0         \n",
            "                                                                 \n",
            " embedding_1 (Embedding)     (None, 150, 50)           456550    \n",
            "                                                                 \n",
            " gru_8 (GRU)                 (None, 150, 128)          69120     \n",
            "                                                                 \n",
            " dropout_19 (Dropout)        (None, 150, 128)          0         \n",
            "                                                                 \n",
            " gru_9 (GRU)                 (None, 150, 128)          99072     \n",
            "                                                                 \n",
            " dropout_20 (Dropout)        (None, 150, 128)          0         \n",
            "                                                                 \n",
            " lstm_15 (LSTM)              (None, 128)               131584    \n",
            "                                                                 \n",
            " dense_20 (Dense)            (None, 128)               16512     \n",
            "                                                                 \n",
            " dense_21 (Dense)            (None, 1)                 129       \n",
            "                                                                 \n",
            "=================================================================\n",
            "Total params: 772,967\n",
            "Trainable params: 316,417\n",
            "Non-trainable params: 456,550\n",
            "_________________________________________________________________\n"
          ]
        }
      ]
    },
    {
      "cell_type": "markdown",
      "source": [
        "**Padding to make sentences of equal length.**"
      ],
      "metadata": {
        "id": "JVtc1MDyZov4"
      }
    },
    {
      "cell_type": "code",
      "source": [
        "X_train_indices = tokenizer.texts_to_sequences(X_train)\n",
        "X_train_indices = pad_sequences(X_train_indices, maxlen=maxLen, padding='post')\n",
        "X_train_indices.shape"
      ],
      "metadata": {
        "colab": {
          "base_uri": "https://localhost:8080/"
        },
        "id": "AtW3t00u6EUt",
        "outputId": "6bce2dc7-0ed1-4a5f-f98f-9e0f123bf6e9"
      },
      "execution_count": null,
      "outputs": [
        {
          "output_type": "execute_result",
          "data": {
            "text/plain": [
              "(1212, 150)"
            ]
          },
          "metadata": {},
          "execution_count": 94
        }
      ]
    },
    {
      "cell_type": "markdown",
      "source": [
        "**A bunch of hyperparamter tuning was done with the LSTM model but the accuracy doesnt seem to improve after it reaches 82.26**"
      ],
      "metadata": {
        "id": "wl9a-eF5vCWL"
      }
    },
    {
      "cell_type": "code",
      "source": [
        "adam = tf.keras.optimizers.SGD(learning_rate = 0.0001)\n",
        "model_lstm.compile(optimizer=adam, loss='binary_crossentropy', metrics=['accuracy'])\n",
        "model_lstm.fit(X_train_indices, Y_train, batch_size=64, epochs=40)"
      ],
      "metadata": {
        "colab": {
          "base_uri": "https://localhost:8080/"
        },
        "id": "gWs3e0iU6LIS",
        "outputId": "28cff03c-e01f-49a7-d6f0-e865eee97a7c"
      },
      "execution_count": null,
      "outputs": [
        {
          "output_type": "stream",
          "name": "stdout",
          "text": [
            "Epoch 1/40\n",
            "19/19 [==============================] - 8s 302ms/step - loss: 0.6238 - accuracy: 0.7422\n",
            "Epoch 2/40\n",
            "19/19 [==============================] - 6s 302ms/step - loss: 0.6218 - accuracy: 0.7478\n",
            "Epoch 3/40\n",
            "19/19 [==============================] - 6s 303ms/step - loss: 0.6192 - accuracy: 0.7529\n",
            "Epoch 4/40\n",
            "19/19 [==============================] - 6s 304ms/step - loss: 0.6171 - accuracy: 0.7562\n",
            "Epoch 5/40\n",
            "19/19 [==============================] - 6s 301ms/step - loss: 0.6149 - accuracy: 0.7615\n",
            "Epoch 6/40\n",
            "19/19 [==============================] - 6s 303ms/step - loss: 0.6129 - accuracy: 0.7654\n",
            "Epoch 7/40\n",
            "19/19 [==============================] - 6s 302ms/step - loss: 0.6106 - accuracy: 0.7695\n",
            "Epoch 8/40\n",
            "19/19 [==============================] - 6s 302ms/step - loss: 0.6087 - accuracy: 0.7722\n",
            "Epoch 9/40\n",
            "19/19 [==============================] - 6s 303ms/step - loss: 0.6068 - accuracy: 0.7750\n",
            "Epoch 10/40\n",
            "19/19 [==============================] - 6s 306ms/step - loss: 0.6051 - accuracy: 0.7788\n",
            "Epoch 11/40\n",
            "19/19 [==============================] - 6s 304ms/step - loss: 0.6023 - accuracy: 0.7816\n",
            "Epoch 12/40\n",
            "19/19 [==============================] - 6s 304ms/step - loss: 0.6012 - accuracy: 0.7834\n",
            "Epoch 13/40\n",
            "19/19 [==============================] - 6s 304ms/step - loss: 0.5991 - accuracy: 0.7868\n",
            "Epoch 14/40\n",
            "19/19 [==============================] - 6s 304ms/step - loss: 0.5977 - accuracy: 0.7889\n",
            "Epoch 15/40\n",
            "19/19 [==============================] - 6s 304ms/step - loss: 0.5957 - accuracy: 0.7919\n",
            "Epoch 16/40\n",
            "19/19 [==============================] - 6s 306ms/step - loss: 0.5933 - accuracy: 0.7940\n",
            "Epoch 17/40\n",
            "19/19 [==============================] - 6s 303ms/step - loss: 0.5924 - accuracy: 0.7951\n",
            "Epoch 18/40\n",
            "19/19 [==============================] - 6s 303ms/step - loss: 0.5902 - accuracy: 0.7977\n",
            "Epoch 19/40\n",
            "19/19 [==============================] - 6s 302ms/step - loss: 0.5889 - accuracy: 0.7985\n",
            "Epoch 20/40\n",
            "19/19 [==============================] - 6s 306ms/step - loss: 0.5871 - accuracy: 0.8003\n",
            "Epoch 21/40\n",
            "19/19 [==============================] - 6s 306ms/step - loss: 0.5855 - accuracy: 0.8020\n",
            "Epoch 22/40\n",
            "19/19 [==============================] - 6s 305ms/step - loss: 0.5842 - accuracy: 0.8028\n",
            "Epoch 23/40\n",
            "19/19 [==============================] - 6s 305ms/step - loss: 0.5823 - accuracy: 0.8047\n",
            "Epoch 24/40\n",
            "19/19 [==============================] - 6s 304ms/step - loss: 0.5810 - accuracy: 0.8056\n",
            "Epoch 25/40\n",
            "19/19 [==============================] - 6s 304ms/step - loss: 0.5794 - accuracy: 0.8071\n",
            "Epoch 26/40\n",
            "19/19 [==============================] - 6s 303ms/step - loss: 0.5781 - accuracy: 0.8078\n",
            "Epoch 27/40\n",
            "19/19 [==============================] - 6s 303ms/step - loss: 0.5766 - accuracy: 0.8090\n",
            "Epoch 28/40\n",
            "19/19 [==============================] - 6s 302ms/step - loss: 0.5754 - accuracy: 0.8097\n",
            "Epoch 29/40\n",
            "19/19 [==============================] - 6s 302ms/step - loss: 0.5739 - accuracy: 0.8113\n",
            "Epoch 30/40\n",
            "19/19 [==============================] - 6s 305ms/step - loss: 0.5720 - accuracy: 0.8118\n",
            "Epoch 31/40\n",
            "19/19 [==============================] - 6s 307ms/step - loss: 0.5709 - accuracy: 0.8119\n",
            "Epoch 32/40\n",
            "19/19 [==============================] - 6s 303ms/step - loss: 0.5698 - accuracy: 0.8127\n",
            "Epoch 33/40\n",
            "19/19 [==============================] - 6s 305ms/step - loss: 0.5683 - accuracy: 0.8136\n",
            "Epoch 34/40\n",
            "19/19 [==============================] - 6s 305ms/step - loss: 0.5673 - accuracy: 0.8141\n",
            "Epoch 35/40\n",
            "19/19 [==============================] - 6s 303ms/step - loss: 0.5661 - accuracy: 0.8146\n",
            "Epoch 36/40\n",
            "19/19 [==============================] - 6s 305ms/step - loss: 0.5648 - accuracy: 0.8151\n",
            "Epoch 37/40\n",
            "19/19 [==============================] - 6s 303ms/step - loss: 0.5639 - accuracy: 0.8158\n",
            "Epoch 38/40\n",
            "19/19 [==============================] - 6s 306ms/step - loss: 0.5627 - accuracy: 0.8162\n",
            "Epoch 39/40\n",
            "19/19 [==============================] - 6s 304ms/step - loss: 0.5615 - accuracy: 0.8165\n",
            "Epoch 40/40\n",
            "19/19 [==============================] - 6s 301ms/step - loss: 0.5602 - accuracy: 0.8169\n"
          ]
        }
      ]
    },
    {
      "cell_type": "code",
      "source": [
        "adam = tf.keras.optimizers.SGD(learning_rate = 0.0001)\n",
        "model_lstm.compile(optimizer=adam, loss='binary_crossentropy', metrics=['accuracy'])\n",
        "model_lstm.fit(X_train_indices, Y_train, batch_size=64, epochs=50)"
      ],
      "metadata": {
        "colab": {
          "base_uri": "https://localhost:8080/"
        },
        "outputId": "71e28a96-996a-42d5-a877-da2ec664013e",
        "id": "VD--AtaGENv7"
      },
      "execution_count": null,
      "outputs": [
        {
          "output_type": "stream",
          "name": "stdout",
          "text": [
            "Epoch 1/50\n",
            "19/19 [==============================] - 51s 305ms/step - loss: 0.7380 - accuracy: 0.3578\n",
            "Epoch 2/50\n",
            "19/19 [==============================] - 6s 306ms/step - loss: 0.7345 - accuracy: 0.3678\n",
            "Epoch 3/50\n",
            "19/19 [==============================] - 6s 305ms/step - loss: 0.7309 - accuracy: 0.3799\n",
            "Epoch 4/50\n",
            "19/19 [==============================] - 6s 304ms/step - loss: 0.7278 - accuracy: 0.3889\n",
            "Epoch 5/50\n",
            "19/19 [==============================] - 6s 304ms/step - loss: 0.7250 - accuracy: 0.3992\n",
            "Epoch 6/50\n",
            "19/19 [==============================] - 6s 305ms/step - loss: 0.7215 - accuracy: 0.4113\n",
            "Epoch 7/50\n",
            "19/19 [==============================] - 6s 302ms/step - loss: 0.7187 - accuracy: 0.4208\n",
            "Epoch 8/50\n",
            "19/19 [==============================] - 6s 303ms/step - loss: 0.7160 - accuracy: 0.4308\n",
            "Epoch 9/50\n",
            "19/19 [==============================] - 6s 301ms/step - loss: 0.7131 - accuracy: 0.4417\n",
            "Epoch 10/50\n",
            "19/19 [==============================] - 6s 304ms/step - loss: 0.7100 - accuracy: 0.4535\n",
            "Epoch 11/50\n",
            "19/19 [==============================] - 6s 306ms/step - loss: 0.7068 - accuracy: 0.4660\n",
            "Epoch 12/50\n",
            "19/19 [==============================] - 6s 302ms/step - loss: 0.7039 - accuracy: 0.4759\n",
            "Epoch 13/50\n",
            "19/19 [==============================] - 6s 304ms/step - loss: 0.7013 - accuracy: 0.4877\n",
            "Epoch 14/50\n",
            "19/19 [==============================] - 6s 304ms/step - loss: 0.6987 - accuracy: 0.4954\n",
            "Epoch 15/50\n",
            "19/19 [==============================] - 6s 308ms/step - loss: 0.6955 - accuracy: 0.5086\n",
            "Epoch 16/50\n",
            "19/19 [==============================] - 6s 305ms/step - loss: 0.6930 - accuracy: 0.5187\n",
            "Epoch 17/50\n",
            "19/19 [==============================] - 6s 302ms/step - loss: 0.6908 - accuracy: 0.5282\n",
            "Epoch 18/50\n",
            "19/19 [==============================] - 6s 299ms/step - loss: 0.6873 - accuracy: 0.5424\n",
            "Epoch 19/50\n",
            "19/19 [==============================] - 6s 298ms/step - loss: 0.6851 - accuracy: 0.5520\n",
            "Epoch 20/50\n",
            "19/19 [==============================] - 6s 300ms/step - loss: 0.6829 - accuracy: 0.5604\n",
            "Epoch 21/50\n",
            "19/19 [==============================] - 6s 304ms/step - loss: 0.6802 - accuracy: 0.5704\n",
            "Epoch 22/50\n",
            "19/19 [==============================] - 6s 301ms/step - loss: 0.6772 - accuracy: 0.5829\n",
            "Epoch 23/50\n",
            "19/19 [==============================] - 6s 304ms/step - loss: 0.6748 - accuracy: 0.5921\n",
            "Epoch 24/50\n",
            "19/19 [==============================] - 6s 299ms/step - loss: 0.6725 - accuracy: 0.6013\n",
            "Epoch 25/50\n",
            "19/19 [==============================] - 6s 299ms/step - loss: 0.6701 - accuracy: 0.6103\n",
            "Epoch 26/50\n",
            "19/19 [==============================] - 6s 302ms/step - loss: 0.6681 - accuracy: 0.6190\n",
            "Epoch 27/50\n",
            "19/19 [==============================] - 6s 299ms/step - loss: 0.6656 - accuracy: 0.6282\n",
            "Epoch 28/50\n",
            "19/19 [==============================] - 6s 302ms/step - loss: 0.6630 - accuracy: 0.6374\n",
            "Epoch 29/50\n",
            "19/19 [==============================] - 6s 301ms/step - loss: 0.6609 - accuracy: 0.6457\n",
            "Epoch 30/50\n",
            "19/19 [==============================] - 6s 303ms/step - loss: 0.6587 - accuracy: 0.6541\n",
            "Epoch 31/50\n",
            "19/19 [==============================] - 6s 303ms/step - loss: 0.6561 - accuracy: 0.6633\n",
            "Epoch 32/50\n",
            "19/19 [==============================] - 6s 302ms/step - loss: 0.6541 - accuracy: 0.6692\n",
            "Epoch 33/50\n",
            "19/19 [==============================] - 6s 303ms/step - loss: 0.6523 - accuracy: 0.6764\n",
            "Epoch 34/50\n",
            "19/19 [==============================] - 6s 301ms/step - loss: 0.6504 - accuracy: 0.6828\n",
            "Epoch 35/50\n",
            "19/19 [==============================] - 6s 304ms/step - loss: 0.6478 - accuracy: 0.6922\n",
            "Epoch 36/50\n",
            "19/19 [==============================] - 6s 303ms/step - loss: 0.6462 - accuracy: 0.6946\n",
            "Epoch 37/50\n",
            "19/19 [==============================] - 6s 303ms/step - loss: 0.6437 - accuracy: 0.7044\n",
            "Epoch 38/50\n",
            "19/19 [==============================] - 6s 304ms/step - loss: 0.6416 - accuracy: 0.7093\n",
            "Epoch 39/50\n",
            "19/19 [==============================] - 6s 303ms/step - loss: 0.6396 - accuracy: 0.7164\n",
            "Epoch 40/50\n",
            "19/19 [==============================] - 6s 304ms/step - loss: 0.6374 - accuracy: 0.7240\n",
            "Epoch 41/50\n",
            "19/19 [==============================] - 6s 306ms/step - loss: 0.6358 - accuracy: 0.7281\n",
            "Epoch 42/50\n",
            "19/19 [==============================] - 6s 306ms/step - loss: 0.6339 - accuracy: 0.7306\n",
            "Epoch 43/50\n",
            "19/19 [==============================] - 6s 305ms/step - loss: 0.6322 - accuracy: 0.7371\n",
            "Epoch 44/50\n",
            "19/19 [==============================] - 6s 302ms/step - loss: 0.6303 - accuracy: 0.7426\n",
            "Epoch 45/50\n",
            "19/19 [==============================] - 6s 306ms/step - loss: 0.6285 - accuracy: 0.7461\n",
            "Epoch 46/50\n",
            "19/19 [==============================] - 6s 305ms/step - loss: 0.6267 - accuracy: 0.7502\n",
            "Epoch 47/50\n",
            "19/19 [==============================] - 6s 304ms/step - loss: 0.6247 - accuracy: 0.7546\n",
            "Epoch 48/50\n",
            "19/19 [==============================] - 6s 302ms/step - loss: 0.6230 - accuracy: 0.7589\n",
            "Epoch 49/50\n",
            "19/19 [==============================] - 6s 302ms/step - loss: 0.6214 - accuracy: 0.7618\n",
            "Epoch 50/50\n",
            "19/19 [==============================] - 6s 302ms/step - loss: 0.6195 - accuracy: 0.7656\n"
          ]
        }
      ]
    },
    {
      "cell_type": "code",
      "source": [
        "adam = tf.keras.optimizers.SGD(learning_rate = 0.01)\n",
        "model_lstm.compile(optimizer=adam, loss='binary_crossentropy', metrics=['accuracy'])\n",
        "model_lstm.fit(X_train_indices, Y_train, batch_size=64, epochs=10)"
      ],
      "metadata": {
        "colab": {
          "base_uri": "https://localhost:8080/"
        },
        "outputId": "53674cb1-f3ca-4e8b-9124-b3fd16cb3723",
        "id": "opU39atoGCxh"
      },
      "execution_count": null,
      "outputs": [
        {
          "output_type": "stream",
          "name": "stdout",
          "text": [
            "Epoch 1/10\n",
            "19/19 [==============================] - 22s 884ms/step - loss: 0.5843 - accuracy: 0.8045\n",
            "Epoch 2/10\n",
            "19/19 [==============================] - 17s 879ms/step - loss: 0.4986 - accuracy: 0.8226\n",
            "Epoch 3/10\n",
            "19/19 [==============================] - 17s 882ms/step - loss: 0.4789 - accuracy: 0.8226\n",
            "Epoch 4/10\n",
            "19/19 [==============================] - 17s 880ms/step - loss: 0.4763 - accuracy: 0.8226\n",
            "Epoch 5/10\n",
            "19/19 [==============================] - 17s 882ms/step - loss: 0.4733 - accuracy: 0.8226\n",
            "Epoch 6/10\n",
            "19/19 [==============================] - 17s 876ms/step - loss: 0.4742 - accuracy: 0.8226\n",
            "Epoch 7/10\n",
            "19/19 [==============================] - 17s 878ms/step - loss: 0.4726 - accuracy: 0.8226\n",
            "Epoch 8/10\n",
            "19/19 [==============================] - 17s 875ms/step - loss: 0.4712 - accuracy: 0.8226\n",
            "Epoch 9/10\n",
            "19/19 [==============================] - 17s 876ms/step - loss: 0.4727 - accuracy: 0.8226\n",
            "Epoch 10/10\n",
            "19/19 [==============================] - 17s 874ms/step - loss: 0.4713 - accuracy: 0.8226\n"
          ]
        },
        {
          "output_type": "execute_result",
          "data": {
            "text/plain": [
              "<keras.callbacks.History at 0x7f335c7b5350>"
            ]
          },
          "metadata": {},
          "execution_count": 91
        }
      ]
    },
    {
      "cell_type": "code",
      "source": [
        "adam = tf.keras.optimizers.SGD(learning_rate = 0.0001)\n",
        "model_lstm.compile(optimizer=adam, loss='binary_crossentropy', metrics=['accuracy'])\n",
        "model_lstm.fit(X_train_indices, Y_train, batch_size=64, epochs=100)"
      ],
      "metadata": {
        "colab": {
          "base_uri": "https://localhost:8080/"
        },
        "outputId": "246aea93-4dc1-4cdc-8c80-f22e16f8b9c4",
        "id": "W5ggJ0Y641Vl"
      },
      "execution_count": null,
      "outputs": [
        {
          "output_type": "stream",
          "name": "stdout",
          "text": [
            "Epoch 1/100\n",
            "19/19 [==============================] - 22s 873ms/step - loss: 0.7223 - accuracy: 0.2682\n",
            "Epoch 2/100\n",
            "19/19 [==============================] - 17s 868ms/step - loss: 0.7172 - accuracy: 0.3069\n",
            "Epoch 3/100\n",
            "19/19 [==============================] - 17s 872ms/step - loss: 0.7122 - accuracy: 0.3292\n",
            "Epoch 4/100\n",
            "19/19 [==============================] - 17s 870ms/step - loss: 0.7099 - accuracy: 0.3564\n",
            "Epoch 5/100\n",
            "19/19 [==============================] - 17s 875ms/step - loss: 0.7042 - accuracy: 0.4051\n",
            "Epoch 6/100\n",
            "19/19 [==============================] - 17s 871ms/step - loss: 0.7015 - accuracy: 0.4323\n",
            "Epoch 7/100\n",
            "19/19 [==============================] - 17s 873ms/step - loss: 0.6996 - accuracy: 0.4464\n",
            "Epoch 8/100\n",
            "19/19 [==============================] - 17s 873ms/step - loss: 0.6947 - accuracy: 0.4851\n",
            "Epoch 9/100\n",
            "19/19 [==============================] - 17s 874ms/step - loss: 0.6905 - accuracy: 0.5206\n",
            "Epoch 10/100\n",
            "19/19 [==============================] - 17s 869ms/step - loss: 0.6859 - accuracy: 0.5718\n",
            "Epoch 11/100\n",
            "19/19 [==============================] - 17s 879ms/step - loss: 0.6829 - accuracy: 0.5949\n",
            "Epoch 12/100\n",
            "19/19 [==============================] - 17s 880ms/step - loss: 0.6790 - accuracy: 0.6436\n",
            "Epoch 13/100\n",
            "19/19 [==============================] - 17s 870ms/step - loss: 0.6757 - accuracy: 0.6667\n",
            "Epoch 14/100\n",
            "19/19 [==============================] - 17s 879ms/step - loss: 0.6709 - accuracy: 0.6980\n",
            "Epoch 15/100\n",
            "19/19 [==============================] - 17s 879ms/step - loss: 0.6666 - accuracy: 0.7211\n",
            "Epoch 16/100\n",
            "19/19 [==============================] - 17s 873ms/step - loss: 0.6661 - accuracy: 0.7228\n",
            "Epoch 17/100\n",
            "19/19 [==============================] - 17s 874ms/step - loss: 0.6591 - accuracy: 0.7640\n",
            "Epoch 18/100\n",
            "19/19 [==============================] - 17s 873ms/step - loss: 0.6578 - accuracy: 0.7731\n",
            "Epoch 19/100\n",
            "19/19 [==============================] - 17s 872ms/step - loss: 0.6542 - accuracy: 0.7896\n",
            "Epoch 20/100\n",
            "19/19 [==============================] - 17s 873ms/step - loss: 0.6523 - accuracy: 0.8012\n",
            "Epoch 21/100\n",
            "19/19 [==============================] - 17s 872ms/step - loss: 0.6475 - accuracy: 0.7937\n",
            "Epoch 22/100\n",
            "19/19 [==============================] - 17s 872ms/step - loss: 0.6448 - accuracy: 0.8094\n",
            "Epoch 23/100\n",
            "19/19 [==============================] - 17s 875ms/step - loss: 0.6410 - accuracy: 0.8119\n",
            "Epoch 24/100\n",
            "19/19 [==============================] - 17s 870ms/step - loss: 0.6379 - accuracy: 0.8144\n",
            "Epoch 25/100\n",
            "19/19 [==============================] - 17s 876ms/step - loss: 0.6337 - accuracy: 0.8160\n",
            "Epoch 26/100\n",
            "19/19 [==============================] - 17s 873ms/step - loss: 0.6313 - accuracy: 0.8152\n",
            "Epoch 27/100\n",
            "19/19 [==============================] - 17s 873ms/step - loss: 0.6278 - accuracy: 0.8226\n",
            "Epoch 28/100\n",
            "19/19 [==============================] - 17s 869ms/step - loss: 0.6258 - accuracy: 0.8226\n",
            "Epoch 29/100\n",
            "19/19 [==============================] - 17s 870ms/step - loss: 0.6237 - accuracy: 0.8201\n",
            "Epoch 30/100\n",
            "19/19 [==============================] - 17s 874ms/step - loss: 0.6207 - accuracy: 0.8218\n",
            "Epoch 31/100\n",
            "19/19 [==============================] - 17s 869ms/step - loss: 0.6174 - accuracy: 0.8201\n",
            "Epoch 32/100\n",
            "19/19 [==============================] - 17s 874ms/step - loss: 0.6146 - accuracy: 0.8234\n",
            "Epoch 33/100\n",
            "19/19 [==============================] - 17s 871ms/step - loss: 0.6120 - accuracy: 0.8226\n",
            "Epoch 34/100\n",
            "19/19 [==============================] - 17s 871ms/step - loss: 0.6102 - accuracy: 0.8226\n",
            "Epoch 35/100\n",
            "19/19 [==============================] - 17s 868ms/step - loss: 0.6042 - accuracy: 0.8226\n",
            "Epoch 36/100\n",
            "19/19 [==============================] - 17s 872ms/step - loss: 0.6042 - accuracy: 0.8218\n",
            "Epoch 37/100\n",
            "19/19 [==============================] - 17s 876ms/step - loss: 0.6008 - accuracy: 0.8226\n",
            "Epoch 38/100\n",
            "19/19 [==============================] - 17s 875ms/step - loss: 0.5997 - accuracy: 0.8226\n",
            "Epoch 39/100\n",
            "19/19 [==============================] - 16s 867ms/step - loss: 0.5970 - accuracy: 0.8226\n",
            "Epoch 40/100\n",
            "19/19 [==============================] - 17s 870ms/step - loss: 0.5935 - accuracy: 0.8226\n",
            "Epoch 41/100\n",
            "19/19 [==============================] - 17s 870ms/step - loss: 0.5922 - accuracy: 0.8226\n",
            "Epoch 42/100\n",
            "19/19 [==============================] - 17s 868ms/step - loss: 0.5880 - accuracy: 0.8226\n",
            "Epoch 43/100\n",
            "19/19 [==============================] - 17s 871ms/step - loss: 0.5880 - accuracy: 0.8226\n",
            "Epoch 44/100\n",
            "19/19 [==============================] - 17s 869ms/step - loss: 0.5861 - accuracy: 0.8226\n",
            "Epoch 45/100\n",
            "19/19 [==============================] - 17s 870ms/step - loss: 0.5833 - accuracy: 0.8226\n",
            "Epoch 46/100\n",
            "19/19 [==============================] - 17s 870ms/step - loss: 0.5817 - accuracy: 0.8226\n",
            "Epoch 47/100\n",
            "19/19 [==============================] - 17s 869ms/step - loss: 0.5810 - accuracy: 0.8226\n",
            "Epoch 48/100\n",
            "19/19 [==============================] - 16s 867ms/step - loss: 0.5763 - accuracy: 0.8226\n",
            "Epoch 49/100\n",
            "19/19 [==============================] - 17s 868ms/step - loss: 0.5783 - accuracy: 0.8226\n",
            "Epoch 50/100\n",
            "19/19 [==============================] - 16s 866ms/step - loss: 0.5724 - accuracy: 0.8226\n",
            "Epoch 51/100\n",
            "19/19 [==============================] - 17s 870ms/step - loss: 0.5739 - accuracy: 0.8226\n",
            "Epoch 52/100\n",
            "19/19 [==============================] - 17s 873ms/step - loss: 0.5706 - accuracy: 0.8226\n",
            "Epoch 53/100\n",
            "19/19 [==============================] - 16s 865ms/step - loss: 0.5666 - accuracy: 0.8226\n",
            "Epoch 54/100\n",
            "19/19 [==============================] - 17s 870ms/step - loss: 0.5686 - accuracy: 0.8226\n",
            "Epoch 55/100\n",
            "19/19 [==============================] - 16s 868ms/step - loss: 0.5643 - accuracy: 0.8226\n",
            "Epoch 56/100\n",
            "19/19 [==============================] - 16s 864ms/step - loss: 0.5630 - accuracy: 0.8226\n",
            "Epoch 57/100\n",
            "19/19 [==============================] - 16s 865ms/step - loss: 0.5623 - accuracy: 0.8226\n",
            "Epoch 58/100\n",
            "19/19 [==============================] - 16s 865ms/step - loss: 0.5589 - accuracy: 0.8226\n",
            "Epoch 59/100\n",
            "19/19 [==============================] - 16s 867ms/step - loss: 0.5602 - accuracy: 0.8226\n",
            "Epoch 60/100\n",
            "19/19 [==============================] - 16s 867ms/step - loss: 0.5572 - accuracy: 0.8226\n",
            "Epoch 61/100\n",
            "19/19 [==============================] - 16s 864ms/step - loss: 0.5528 - accuracy: 0.8226\n",
            "Epoch 62/100\n",
            "19/19 [==============================] - 16s 866ms/step - loss: 0.5541 - accuracy: 0.8226\n",
            "Epoch 63/100\n",
            "19/19 [==============================] - 17s 872ms/step - loss: 0.5544 - accuracy: 0.8226\n",
            "Epoch 64/100\n",
            "19/19 [==============================] - 16s 864ms/step - loss: 0.5512 - accuracy: 0.8226\n",
            "Epoch 65/100\n",
            "19/19 [==============================] - 17s 868ms/step - loss: 0.5509 - accuracy: 0.8226\n",
            "Epoch 66/100\n",
            "19/19 [==============================] - 16s 867ms/step - loss: 0.5497 - accuracy: 0.8226\n",
            "Epoch 67/100\n",
            "19/19 [==============================] - 16s 866ms/step - loss: 0.5476 - accuracy: 0.8226\n",
            "Epoch 68/100\n",
            "19/19 [==============================] - 17s 870ms/step - loss: 0.5447 - accuracy: 0.8226\n",
            "Epoch 69/100\n",
            "19/19 [==============================] - 16s 866ms/step - loss: 0.5454 - accuracy: 0.8226\n",
            "Epoch 70/100\n",
            "19/19 [==============================] - 17s 871ms/step - loss: 0.5411 - accuracy: 0.8226\n",
            "Epoch 71/100\n",
            "19/19 [==============================] - 17s 874ms/step - loss: 0.5410 - accuracy: 0.8226\n",
            "Epoch 72/100\n",
            "19/19 [==============================] - 17s 873ms/step - loss: 0.5408 - accuracy: 0.8226\n",
            "Epoch 73/100\n",
            "19/19 [==============================] - 17s 873ms/step - loss: 0.5385 - accuracy: 0.8226\n",
            "Epoch 74/100\n",
            "19/19 [==============================] - 16s 868ms/step - loss: 0.5388 - accuracy: 0.8226\n",
            "Epoch 75/100\n",
            "19/19 [==============================] - 17s 873ms/step - loss: 0.5378 - accuracy: 0.8226\n",
            "Epoch 76/100\n",
            "19/19 [==============================] - 17s 870ms/step - loss: 0.5354 - accuracy: 0.8226\n",
            "Epoch 77/100\n",
            "19/19 [==============================] - 17s 870ms/step - loss: 0.5354 - accuracy: 0.8226\n",
            "Epoch 78/100\n",
            "19/19 [==============================] - 17s 871ms/step - loss: 0.5322 - accuracy: 0.8226\n",
            "Epoch 79/100\n",
            "19/19 [==============================] - 17s 869ms/step - loss: 0.5326 - accuracy: 0.8226\n",
            "Epoch 80/100\n",
            "19/19 [==============================] - 17s 869ms/step - loss: 0.5333 - accuracy: 0.8226\n",
            "Epoch 81/100\n",
            "19/19 [==============================] - 17s 871ms/step - loss: 0.5315 - accuracy: 0.8226\n",
            "Epoch 82/100\n",
            "19/19 [==============================] - 17s 869ms/step - loss: 0.5283 - accuracy: 0.8226\n",
            "Epoch 83/100\n",
            "19/19 [==============================] - 16s 868ms/step - loss: 0.5285 - accuracy: 0.8226\n",
            "Epoch 84/100\n",
            "19/19 [==============================] - 17s 870ms/step - loss: 0.5268 - accuracy: 0.8226\n",
            "Epoch 85/100\n",
            "19/19 [==============================] - 17s 870ms/step - loss: 0.5270 - accuracy: 0.8226\n",
            "Epoch 86/100\n",
            "19/19 [==============================] - 16s 867ms/step - loss: 0.5262 - accuracy: 0.8226\n",
            "Epoch 87/100\n",
            "19/19 [==============================] - 16s 867ms/step - loss: 0.5254 - accuracy: 0.8226\n",
            "Epoch 88/100\n",
            "19/19 [==============================] - 17s 869ms/step - loss: 0.5227 - accuracy: 0.8226\n",
            "Epoch 89/100\n",
            "19/19 [==============================] - 16s 867ms/step - loss: 0.5238 - accuracy: 0.8226\n",
            "Epoch 90/100\n",
            "19/19 [==============================] - 17s 871ms/step - loss: 0.5220 - accuracy: 0.8226\n",
            "Epoch 91/100\n",
            "19/19 [==============================] - 17s 870ms/step - loss: 0.5220 - accuracy: 0.8226\n",
            "Epoch 92/100\n",
            "19/19 [==============================] - 16s 867ms/step - loss: 0.5206 - accuracy: 0.8226\n",
            "Epoch 93/100\n",
            "19/19 [==============================] - 16s 865ms/step - loss: 0.5216 - accuracy: 0.8226\n",
            "Epoch 94/100\n",
            "19/19 [==============================] - 17s 869ms/step - loss: 0.5188 - accuracy: 0.8226\n",
            "Epoch 95/100\n",
            "19/19 [==============================] - 16s 866ms/step - loss: 0.5182 - accuracy: 0.8226\n",
            "Epoch 96/100\n",
            "19/19 [==============================] - 17s 870ms/step - loss: 0.5160 - accuracy: 0.8226\n",
            "Epoch 97/100\n",
            "19/19 [==============================] - 16s 863ms/step - loss: 0.5167 - accuracy: 0.8226\n",
            "Epoch 98/100\n",
            "19/19 [==============================] - 16s 865ms/step - loss: 0.5137 - accuracy: 0.8226\n",
            "Epoch 99/100\n",
            "19/19 [==============================] - 16s 865ms/step - loss: 0.5173 - accuracy: 0.8226\n",
            "Epoch 100/100\n",
            "19/19 [==============================] - 16s 866ms/step - loss: 0.5166 - accuracy: 0.8226\n"
          ]
        },
        {
          "output_type": "execute_result",
          "data": {
            "text/plain": [
              "<keras.callbacks.History at 0x7f3353b527d0>"
            ]
          },
          "metadata": {},
          "execution_count": 95
        }
      ]
    },
    {
      "cell_type": "markdown",
      "source": [
        "**On the whole , while using a RNN with GloVe , the learning seemed to stop after a particular point. Slow learning rate with higher epochs didnt show any improvement on accuracy. While using Conv net the accuracy was far better.**"
      ],
      "metadata": {
        "id": "_GbGfrdw5pOg"
      }
    },
    {
      "cell_type": "markdown",
      "source": [
        "**GloVe with Logistic Regression and Random Forest**"
      ],
      "metadata": {
        "id": "yo7iNBmo5aQ8"
      }
    },
    {
      "cell_type": "markdown",
      "source": [
        "\n",
        "\n",
        "**Now we try to predict predict the ANSWER LABEL 2 (\"Answer_2_negative\": 0, \"Answer_2_positive\": 1) for the text.**\n",
        "\n",
        "**We start with the data pre-processing and the data cleaning. We modify the dataframe so that we get the data related to Answer label 2**"
      ],
      "metadata": {
        "id": "WmgOZB9PvjK9"
      }
    },
    {
      "cell_type": "code",
      "source": [
        "data = pd.read_csv('/content/drive/My Drive/data.csv')\n",
        "data.info()\n",
        "data"
      ],
      "metadata": {
        "colab": {
          "base_uri": "https://localhost:8080/",
          "height": 631
        },
        "id": "ryBCQKy6XzK8",
        "outputId": "2b600b5a-9ea6-46e3-d3e2-b1578f8b527a"
      },
      "execution_count": null,
      "outputs": [
        {
          "output_type": "stream",
          "name": "stdout",
          "text": [
            "<class 'pandas.core.frame.DataFrame'>\n",
            "RangeIndex: 8472 entries, 0 to 8471\n",
            "Data columns (total 5 columns):\n",
            " #   Column      Non-Null Count  Dtype \n",
            "---  ------      --------------  ----- \n",
            " 0   Unnamed: 0  8472 non-null   int64 \n",
            " 1   text        8472 non-null   object\n",
            " 2   category    8472 non-null   object\n",
            " 3   stage       8472 non-null   int64 \n",
            " 4   level       8472 non-null   int64 \n",
            "dtypes: int64(3), object(2)\n",
            "memory usage: 331.1+ KB\n"
          ]
        },
        {
          "output_type": "execute_result",
          "data": {
            "text/plain": [
              "      Unnamed: 0                                               text  category  \\\n",
              "0              0   Good afternoon and thanks a lot for taking my...  Question   \n",
              "1              1  Good afternoon and thanks a lot for taking my ...  Question   \n",
              "2              2  Good afternoon and thanks a lot for taking my ...  Question   \n",
              "3              3  No, I think that as it relates to the one, I t...    Answer   \n",
              "4              4   No, I think that as it relates to the one, I ...    Answer   \n",
              "...          ...                                                ...       ...   \n",
              "8467        8467   One of the areas obviously which has been a s...  Question   \n",
              "8468        8468  One of the areas obviously which has been a st...  Question   \n",
              "8469        8469  Well, let's start with the first part of your ...    Answer   \n",
              "8470        8470  Well, let's start with the first part of your ...    Answer   \n",
              "8471        8471  Well, let's start with the first part of your ...    Answer   \n",
              "\n",
              "      stage  level  \n",
              "0         1      0  \n",
              "1         2      0  \n",
              "2         3      1  \n",
              "3         1      0  \n",
              "4         2      1  \n",
              "...     ...    ...  \n",
              "8467      2      0  \n",
              "8468      3      1  \n",
              "8469      1      0  \n",
              "8470      2      1  \n",
              "8471      3      1  \n",
              "\n",
              "[8472 rows x 5 columns]"
            ],
            "text/html": [
              "\n",
              "  <div id=\"df-054e8181-2272-44c9-98a5-b107e01eecbf\">\n",
              "    <div class=\"colab-df-container\">\n",
              "      <div>\n",
              "<style scoped>\n",
              "    .dataframe tbody tr th:only-of-type {\n",
              "        vertical-align: middle;\n",
              "    }\n",
              "\n",
              "    .dataframe tbody tr th {\n",
              "        vertical-align: top;\n",
              "    }\n",
              "\n",
              "    .dataframe thead th {\n",
              "        text-align: right;\n",
              "    }\n",
              "</style>\n",
              "<table border=\"1\" class=\"dataframe\">\n",
              "  <thead>\n",
              "    <tr style=\"text-align: right;\">\n",
              "      <th></th>\n",
              "      <th>Unnamed: 0</th>\n",
              "      <th>text</th>\n",
              "      <th>category</th>\n",
              "      <th>stage</th>\n",
              "      <th>level</th>\n",
              "    </tr>\n",
              "  </thead>\n",
              "  <tbody>\n",
              "    <tr>\n",
              "      <th>0</th>\n",
              "      <td>0</td>\n",
              "      <td>Good afternoon and thanks a lot for taking my...</td>\n",
              "      <td>Question</td>\n",
              "      <td>1</td>\n",
              "      <td>0</td>\n",
              "    </tr>\n",
              "    <tr>\n",
              "      <th>1</th>\n",
              "      <td>1</td>\n",
              "      <td>Good afternoon and thanks a lot for taking my ...</td>\n",
              "      <td>Question</td>\n",
              "      <td>2</td>\n",
              "      <td>0</td>\n",
              "    </tr>\n",
              "    <tr>\n",
              "      <th>2</th>\n",
              "      <td>2</td>\n",
              "      <td>Good afternoon and thanks a lot for taking my ...</td>\n",
              "      <td>Question</td>\n",
              "      <td>3</td>\n",
              "      <td>1</td>\n",
              "    </tr>\n",
              "    <tr>\n",
              "      <th>3</th>\n",
              "      <td>3</td>\n",
              "      <td>No, I think that as it relates to the one, I t...</td>\n",
              "      <td>Answer</td>\n",
              "      <td>1</td>\n",
              "      <td>0</td>\n",
              "    </tr>\n",
              "    <tr>\n",
              "      <th>4</th>\n",
              "      <td>4</td>\n",
              "      <td>No, I think that as it relates to the one, I ...</td>\n",
              "      <td>Answer</td>\n",
              "      <td>2</td>\n",
              "      <td>1</td>\n",
              "    </tr>\n",
              "    <tr>\n",
              "      <th>...</th>\n",
              "      <td>...</td>\n",
              "      <td>...</td>\n",
              "      <td>...</td>\n",
              "      <td>...</td>\n",
              "      <td>...</td>\n",
              "    </tr>\n",
              "    <tr>\n",
              "      <th>8467</th>\n",
              "      <td>8467</td>\n",
              "      <td>One of the areas obviously which has been a s...</td>\n",
              "      <td>Question</td>\n",
              "      <td>2</td>\n",
              "      <td>0</td>\n",
              "    </tr>\n",
              "    <tr>\n",
              "      <th>8468</th>\n",
              "      <td>8468</td>\n",
              "      <td>One of the areas obviously which has been a st...</td>\n",
              "      <td>Question</td>\n",
              "      <td>3</td>\n",
              "      <td>1</td>\n",
              "    </tr>\n",
              "    <tr>\n",
              "      <th>8469</th>\n",
              "      <td>8469</td>\n",
              "      <td>Well, let's start with the first part of your ...</td>\n",
              "      <td>Answer</td>\n",
              "      <td>1</td>\n",
              "      <td>0</td>\n",
              "    </tr>\n",
              "    <tr>\n",
              "      <th>8470</th>\n",
              "      <td>8470</td>\n",
              "      <td>Well, let's start with the first part of your ...</td>\n",
              "      <td>Answer</td>\n",
              "      <td>2</td>\n",
              "      <td>1</td>\n",
              "    </tr>\n",
              "    <tr>\n",
              "      <th>8471</th>\n",
              "      <td>8471</td>\n",
              "      <td>Well, let's start with the first part of your ...</td>\n",
              "      <td>Answer</td>\n",
              "      <td>3</td>\n",
              "      <td>1</td>\n",
              "    </tr>\n",
              "  </tbody>\n",
              "</table>\n",
              "<p>8472 rows × 5 columns</p>\n",
              "</div>\n",
              "      <button class=\"colab-df-convert\" onclick=\"convertToInteractive('df-054e8181-2272-44c9-98a5-b107e01eecbf')\"\n",
              "              title=\"Convert this dataframe to an interactive table.\"\n",
              "              style=\"display:none;\">\n",
              "        \n",
              "  <svg xmlns=\"http://www.w3.org/2000/svg\" height=\"24px\"viewBox=\"0 0 24 24\"\n",
              "       width=\"24px\">\n",
              "    <path d=\"M0 0h24v24H0V0z\" fill=\"none\"/>\n",
              "    <path d=\"M18.56 5.44l.94 2.06.94-2.06 2.06-.94-2.06-.94-.94-2.06-.94 2.06-2.06.94zm-11 1L8.5 8.5l.94-2.06 2.06-.94-2.06-.94L8.5 2.5l-.94 2.06-2.06.94zm10 10l.94 2.06.94-2.06 2.06-.94-2.06-.94-.94-2.06-.94 2.06-2.06.94z\"/><path d=\"M17.41 7.96l-1.37-1.37c-.4-.4-.92-.59-1.43-.59-.52 0-1.04.2-1.43.59L10.3 9.45l-7.72 7.72c-.78.78-.78 2.05 0 2.83L4 21.41c.39.39.9.59 1.41.59.51 0 1.02-.2 1.41-.59l7.78-7.78 2.81-2.81c.8-.78.8-2.07 0-2.86zM5.41 20L4 18.59l7.72-7.72 1.47 1.35L5.41 20z\"/>\n",
              "  </svg>\n",
              "      </button>\n",
              "      \n",
              "  <style>\n",
              "    .colab-df-container {\n",
              "      display:flex;\n",
              "      flex-wrap:wrap;\n",
              "      gap: 12px;\n",
              "    }\n",
              "\n",
              "    .colab-df-convert {\n",
              "      background-color: #E8F0FE;\n",
              "      border: none;\n",
              "      border-radius: 50%;\n",
              "      cursor: pointer;\n",
              "      display: none;\n",
              "      fill: #1967D2;\n",
              "      height: 32px;\n",
              "      padding: 0 0 0 0;\n",
              "      width: 32px;\n",
              "    }\n",
              "\n",
              "    .colab-df-convert:hover {\n",
              "      background-color: #E2EBFA;\n",
              "      box-shadow: 0px 1px 2px rgba(60, 64, 67, 0.3), 0px 1px 3px 1px rgba(60, 64, 67, 0.15);\n",
              "      fill: #174EA6;\n",
              "    }\n",
              "\n",
              "    [theme=dark] .colab-df-convert {\n",
              "      background-color: #3B4455;\n",
              "      fill: #D2E3FC;\n",
              "    }\n",
              "\n",
              "    [theme=dark] .colab-df-convert:hover {\n",
              "      background-color: #434B5C;\n",
              "      box-shadow: 0px 1px 3px 1px rgba(0, 0, 0, 0.15);\n",
              "      filter: drop-shadow(0px 1px 2px rgba(0, 0, 0, 0.3));\n",
              "      fill: #FFFFFF;\n",
              "    }\n",
              "  </style>\n",
              "\n",
              "      <script>\n",
              "        const buttonEl =\n",
              "          document.querySelector('#df-054e8181-2272-44c9-98a5-b107e01eecbf button.colab-df-convert');\n",
              "        buttonEl.style.display =\n",
              "          google.colab.kernel.accessAllowed ? 'block' : 'none';\n",
              "\n",
              "        async function convertToInteractive(key) {\n",
              "          const element = document.querySelector('#df-054e8181-2272-44c9-98a5-b107e01eecbf');\n",
              "          const dataTable =\n",
              "            await google.colab.kernel.invokeFunction('convertToInteractive',\n",
              "                                                     [key], {});\n",
              "          if (!dataTable) return;\n",
              "\n",
              "          const docLinkHtml = 'Like what you see? Visit the ' +\n",
              "            '<a target=\"_blank\" href=https://colab.research.google.com/notebooks/data_table.ipynb>data table notebook</a>'\n",
              "            + ' to learn more about interactive tables.';\n",
              "          element.innerHTML = '';\n",
              "          dataTable['output_type'] = 'display_data';\n",
              "          await google.colab.output.renderOutput(dataTable, element);\n",
              "          const docLink = document.createElement('div');\n",
              "          docLink.innerHTML = docLinkHtml;\n",
              "          element.appendChild(docLink);\n",
              "        }\n",
              "      </script>\n",
              "    </div>\n",
              "  </div>\n",
              "  "
            ]
          },
          "metadata": {},
          "execution_count": 129
        }
      ]
    },
    {
      "cell_type": "markdown",
      "source": [
        "**We remove the stopwords.**"
      ],
      "metadata": {
        "id": "ZMwWrZXWvz-1"
      }
    },
    {
      "cell_type": "code",
      "source": [
        "stopwords = [ \"a\", \"about\", \"above\", \"after\", \"again\", \"against\", \"all\", \"am\", \"an\", \"and\", \"any\", \"are\", \"as\", \"at\", \"be\", \"because\", \n",
        "             \"been\", \"before\", \"being\", \"below\", \"between\", \"both\", \"but\", \"by\", \"could\", \"did\", \"do\", \"does\", \"doing\", \"down\", \"during\",\n",
        "             \"each\", \"few\", \"for\", \"from\", \"further\", \"had\", \"has\", \"have\", \"having\", \"he\", \"he'd\", \"he'll\", \"he's\", \"her\", \"here\", \n",
        "             \"here's\", \"hers\", \"herself\", \"him\", \"himself\", \"his\", \"how\", \"how's\", \"i\", \"i'd\", \"i'll\", \"i'm\", \"i've\", \"if\", \"in\", \"into\",\n",
        "             \"is\", \"it\", \"it's\", \"its\", \"itself\", \"let's\", \"me\", \"more\", \"most\", \"my\", \"myself\", \"nor\", \"of\", \"on\", \"once\", \"only\", \"or\",\n",
        "             \"other\", \"ought\", \"our\", \"ours\", \"ourselves\", \"out\", \"over\", \"own\", \"same\", \"she\", \"she'd\", \"she'll\", \"she's\", \"should\", \n",
        "             \"so\", \"some\", \"such\", \"than\", \"that\", \"that's\", \"the\", \"their\", \"theirs\", \"them\", \"themselves\", \"then\", \"there\", \"there's\",\n",
        "             \"these\", \"they\", \"they'd\", \"they'll\", \"they're\", \"they've\", \"this\", \"those\", \"through\", \"to\", \"too\", \"under\", \"until\", \"up\",\n",
        "             \"very\", \"was\", \"we\", \"we'd\", \"we'll\", \"we're\", \"we've\", \"were\", \"what\", \"what's\", \"when\", \"when's\", \"where\", \"where's\",\n",
        "             \"which\", \"while\", \"who\", \"who's\", \"whom\", \"why\", \"why's\", \"with\", \"would\", \"you\", \"you'd\", \"you'll\", \"you're\", \"you've\",\n",
        "             \"your\", \"yours\", \"yourself\", \"yourselves\" ]"
      ],
      "metadata": {
        "id": "VNi1B_jEX9CT"
      },
      "execution_count": null,
      "outputs": []
    },
    {
      "cell_type": "code",
      "source": [
        "def remove_stopwords(data):\n",
        "  data['text without stopwords'] = data['text'].apply(lambda x : ' '.join([word for word in x.split() if word not in (stopwords)]))\n",
        "  return data\n",
        "\n",
        "def remove_tags(string):\n",
        "    result = re.sub('<.*?>','',string)\n",
        "    return result\n",
        "    \n",
        "data_without_stopwords = remove_stopwords(data)\n",
        "data_without_stopwords['clean_text']= data_without_stopwords['text without stopwords'].apply(lambda cw : remove_tags(cw))\n",
        "data_without_stopwords['clean_text'] = data_without_stopwords['clean_text'].str.replace('[{}]'.format(string.punctuation), ' ')\n",
        "data_without_stopwords"
      ],
      "metadata": {
        "colab": {
          "base_uri": "https://localhost:8080/",
          "height": 626
        },
        "id": "_mbF2piDYJAm",
        "outputId": "5771b3c8-4b28-4e76-b497-c028831030aa"
      },
      "execution_count": null,
      "outputs": [
        {
          "output_type": "stream",
          "name": "stderr",
          "text": [
            "/usr/local/lib/python3.7/dist-packages/ipykernel_launcher.py:11: FutureWarning: The default value of regex will change from True to False in a future version.\n",
            "  # This is added back by InteractiveShellApp.init_path()\n"
          ]
        },
        {
          "output_type": "execute_result",
          "data": {
            "text/plain": [
              "      Unnamed: 0                                               text  category  \\\n",
              "0              0   Good afternoon and thanks a lot for taking my...  Question   \n",
              "1              1  Good afternoon and thanks a lot for taking my ...  Question   \n",
              "2              2  Good afternoon and thanks a lot for taking my ...  Question   \n",
              "3              3  No, I think that as it relates to the one, I t...    Answer   \n",
              "4              4   No, I think that as it relates to the one, I ...    Answer   \n",
              "...          ...                                                ...       ...   \n",
              "8467        8467   One of the areas obviously which has been a s...  Question   \n",
              "8468        8468  One of the areas obviously which has been a st...  Question   \n",
              "8469        8469  Well, let's start with the first part of your ...    Answer   \n",
              "8470        8470  Well, let's start with the first part of your ...    Answer   \n",
              "8471        8471  Well, let's start with the first part of your ...    Answer   \n",
              "\n",
              "      stage  level                             text without stopwords  \\\n",
              "0         1      0  Good afternoon thanks lot taking question. So,...   \n",
              "1         2      0  Good afternoon thanks lot taking question. So,...   \n",
              "2         3      1  Good afternoon thanks lot taking question. So,...   \n",
              "3         1      0  No, I think relates one, I think got currently...   \n",
              "4         2      1  No, I think relates one, I think got currently...   \n",
              "...     ...    ...                                                ...   \n",
              "8467      2      0  One areas obviously strong growth driver team ...   \n",
              "8468      3      1  One areas obviously strong growth driver team ...   \n",
              "8469      1      0  Well, start first part question, see 2020 busi...   \n",
              "8470      2      1  Well, start first part question, see 2020 busi...   \n",
              "8471      3      1  Well, start first part question, see 2020 busi...   \n",
              "\n",
              "                                             clean_text  \n",
              "0     Good afternoon thanks lot taking question  So ...  \n",
              "1     Good afternoon thanks lot taking question  So ...  \n",
              "2     Good afternoon thanks lot taking question  So ...  \n",
              "3     No  I think relates one  I think got currently...  \n",
              "4     No  I think relates one  I think got currently...  \n",
              "...                                                 ...  \n",
              "8467  One areas obviously strong growth driver team ...  \n",
              "8468  One areas obviously strong growth driver team ...  \n",
              "8469  Well  start first part question  see 2020 busi...  \n",
              "8470  Well  start first part question  see 2020 busi...  \n",
              "8471  Well  start first part question  see 2020 busi...  \n",
              "\n",
              "[8472 rows x 7 columns]"
            ],
            "text/html": [
              "\n",
              "  <div id=\"df-0b1172ef-fd77-4249-8c06-5564cc505dc0\">\n",
              "    <div class=\"colab-df-container\">\n",
              "      <div>\n",
              "<style scoped>\n",
              "    .dataframe tbody tr th:only-of-type {\n",
              "        vertical-align: middle;\n",
              "    }\n",
              "\n",
              "    .dataframe tbody tr th {\n",
              "        vertical-align: top;\n",
              "    }\n",
              "\n",
              "    .dataframe thead th {\n",
              "        text-align: right;\n",
              "    }\n",
              "</style>\n",
              "<table border=\"1\" class=\"dataframe\">\n",
              "  <thead>\n",
              "    <tr style=\"text-align: right;\">\n",
              "      <th></th>\n",
              "      <th>Unnamed: 0</th>\n",
              "      <th>text</th>\n",
              "      <th>category</th>\n",
              "      <th>stage</th>\n",
              "      <th>level</th>\n",
              "      <th>text without stopwords</th>\n",
              "      <th>clean_text</th>\n",
              "    </tr>\n",
              "  </thead>\n",
              "  <tbody>\n",
              "    <tr>\n",
              "      <th>0</th>\n",
              "      <td>0</td>\n",
              "      <td>Good afternoon and thanks a lot for taking my...</td>\n",
              "      <td>Question</td>\n",
              "      <td>1</td>\n",
              "      <td>0</td>\n",
              "      <td>Good afternoon thanks lot taking question. So,...</td>\n",
              "      <td>Good afternoon thanks lot taking question  So ...</td>\n",
              "    </tr>\n",
              "    <tr>\n",
              "      <th>1</th>\n",
              "      <td>1</td>\n",
              "      <td>Good afternoon and thanks a lot for taking my ...</td>\n",
              "      <td>Question</td>\n",
              "      <td>2</td>\n",
              "      <td>0</td>\n",
              "      <td>Good afternoon thanks lot taking question. So,...</td>\n",
              "      <td>Good afternoon thanks lot taking question  So ...</td>\n",
              "    </tr>\n",
              "    <tr>\n",
              "      <th>2</th>\n",
              "      <td>2</td>\n",
              "      <td>Good afternoon and thanks a lot for taking my ...</td>\n",
              "      <td>Question</td>\n",
              "      <td>3</td>\n",
              "      <td>1</td>\n",
              "      <td>Good afternoon thanks lot taking question. So,...</td>\n",
              "      <td>Good afternoon thanks lot taking question  So ...</td>\n",
              "    </tr>\n",
              "    <tr>\n",
              "      <th>3</th>\n",
              "      <td>3</td>\n",
              "      <td>No, I think that as it relates to the one, I t...</td>\n",
              "      <td>Answer</td>\n",
              "      <td>1</td>\n",
              "      <td>0</td>\n",
              "      <td>No, I think relates one, I think got currently...</td>\n",
              "      <td>No  I think relates one  I think got currently...</td>\n",
              "    </tr>\n",
              "    <tr>\n",
              "      <th>4</th>\n",
              "      <td>4</td>\n",
              "      <td>No, I think that as it relates to the one, I ...</td>\n",
              "      <td>Answer</td>\n",
              "      <td>2</td>\n",
              "      <td>1</td>\n",
              "      <td>No, I think relates one, I think got currently...</td>\n",
              "      <td>No  I think relates one  I think got currently...</td>\n",
              "    </tr>\n",
              "    <tr>\n",
              "      <th>...</th>\n",
              "      <td>...</td>\n",
              "      <td>...</td>\n",
              "      <td>...</td>\n",
              "      <td>...</td>\n",
              "      <td>...</td>\n",
              "      <td>...</td>\n",
              "      <td>...</td>\n",
              "    </tr>\n",
              "    <tr>\n",
              "      <th>8467</th>\n",
              "      <td>8467</td>\n",
              "      <td>One of the areas obviously which has been a s...</td>\n",
              "      <td>Question</td>\n",
              "      <td>2</td>\n",
              "      <td>0</td>\n",
              "      <td>One areas obviously strong growth driver team ...</td>\n",
              "      <td>One areas obviously strong growth driver team ...</td>\n",
              "    </tr>\n",
              "    <tr>\n",
              "      <th>8468</th>\n",
              "      <td>8468</td>\n",
              "      <td>One of the areas obviously which has been a st...</td>\n",
              "      <td>Question</td>\n",
              "      <td>3</td>\n",
              "      <td>1</td>\n",
              "      <td>One areas obviously strong growth driver team ...</td>\n",
              "      <td>One areas obviously strong growth driver team ...</td>\n",
              "    </tr>\n",
              "    <tr>\n",
              "      <th>8469</th>\n",
              "      <td>8469</td>\n",
              "      <td>Well, let's start with the first part of your ...</td>\n",
              "      <td>Answer</td>\n",
              "      <td>1</td>\n",
              "      <td>0</td>\n",
              "      <td>Well, start first part question, see 2020 busi...</td>\n",
              "      <td>Well  start first part question  see 2020 busi...</td>\n",
              "    </tr>\n",
              "    <tr>\n",
              "      <th>8470</th>\n",
              "      <td>8470</td>\n",
              "      <td>Well, let's start with the first part of your ...</td>\n",
              "      <td>Answer</td>\n",
              "      <td>2</td>\n",
              "      <td>1</td>\n",
              "      <td>Well, start first part question, see 2020 busi...</td>\n",
              "      <td>Well  start first part question  see 2020 busi...</td>\n",
              "    </tr>\n",
              "    <tr>\n",
              "      <th>8471</th>\n",
              "      <td>8471</td>\n",
              "      <td>Well, let's start with the first part of your ...</td>\n",
              "      <td>Answer</td>\n",
              "      <td>3</td>\n",
              "      <td>1</td>\n",
              "      <td>Well, start first part question, see 2020 busi...</td>\n",
              "      <td>Well  start first part question  see 2020 busi...</td>\n",
              "    </tr>\n",
              "  </tbody>\n",
              "</table>\n",
              "<p>8472 rows × 7 columns</p>\n",
              "</div>\n",
              "      <button class=\"colab-df-convert\" onclick=\"convertToInteractive('df-0b1172ef-fd77-4249-8c06-5564cc505dc0')\"\n",
              "              title=\"Convert this dataframe to an interactive table.\"\n",
              "              style=\"display:none;\">\n",
              "        \n",
              "  <svg xmlns=\"http://www.w3.org/2000/svg\" height=\"24px\"viewBox=\"0 0 24 24\"\n",
              "       width=\"24px\">\n",
              "    <path d=\"M0 0h24v24H0V0z\" fill=\"none\"/>\n",
              "    <path d=\"M18.56 5.44l.94 2.06.94-2.06 2.06-.94-2.06-.94-.94-2.06-.94 2.06-2.06.94zm-11 1L8.5 8.5l.94-2.06 2.06-.94-2.06-.94L8.5 2.5l-.94 2.06-2.06.94zm10 10l.94 2.06.94-2.06 2.06-.94-2.06-.94-.94-2.06-.94 2.06-2.06.94z\"/><path d=\"M17.41 7.96l-1.37-1.37c-.4-.4-.92-.59-1.43-.59-.52 0-1.04.2-1.43.59L10.3 9.45l-7.72 7.72c-.78.78-.78 2.05 0 2.83L4 21.41c.39.39.9.59 1.41.59.51 0 1.02-.2 1.41-.59l7.78-7.78 2.81-2.81c.8-.78.8-2.07 0-2.86zM5.41 20L4 18.59l7.72-7.72 1.47 1.35L5.41 20z\"/>\n",
              "  </svg>\n",
              "      </button>\n",
              "      \n",
              "  <style>\n",
              "    .colab-df-container {\n",
              "      display:flex;\n",
              "      flex-wrap:wrap;\n",
              "      gap: 12px;\n",
              "    }\n",
              "\n",
              "    .colab-df-convert {\n",
              "      background-color: #E8F0FE;\n",
              "      border: none;\n",
              "      border-radius: 50%;\n",
              "      cursor: pointer;\n",
              "      display: none;\n",
              "      fill: #1967D2;\n",
              "      height: 32px;\n",
              "      padding: 0 0 0 0;\n",
              "      width: 32px;\n",
              "    }\n",
              "\n",
              "    .colab-df-convert:hover {\n",
              "      background-color: #E2EBFA;\n",
              "      box-shadow: 0px 1px 2px rgba(60, 64, 67, 0.3), 0px 1px 3px 1px rgba(60, 64, 67, 0.15);\n",
              "      fill: #174EA6;\n",
              "    }\n",
              "\n",
              "    [theme=dark] .colab-df-convert {\n",
              "      background-color: #3B4455;\n",
              "      fill: #D2E3FC;\n",
              "    }\n",
              "\n",
              "    [theme=dark] .colab-df-convert:hover {\n",
              "      background-color: #434B5C;\n",
              "      box-shadow: 0px 1px 3px 1px rgba(0, 0, 0, 0.15);\n",
              "      filter: drop-shadow(0px 1px 2px rgba(0, 0, 0, 0.3));\n",
              "      fill: #FFFFFF;\n",
              "    }\n",
              "  </style>\n",
              "\n",
              "      <script>\n",
              "        const buttonEl =\n",
              "          document.querySelector('#df-0b1172ef-fd77-4249-8c06-5564cc505dc0 button.colab-df-convert');\n",
              "        buttonEl.style.display =\n",
              "          google.colab.kernel.accessAllowed ? 'block' : 'none';\n",
              "\n",
              "        async function convertToInteractive(key) {\n",
              "          const element = document.querySelector('#df-0b1172ef-fd77-4249-8c06-5564cc505dc0');\n",
              "          const dataTable =\n",
              "            await google.colab.kernel.invokeFunction('convertToInteractive',\n",
              "                                                     [key], {});\n",
              "          if (!dataTable) return;\n",
              "\n",
              "          const docLinkHtml = 'Like what you see? Visit the ' +\n",
              "            '<a target=\"_blank\" href=https://colab.research.google.com/notebooks/data_table.ipynb>data table notebook</a>'\n",
              "            + ' to learn more about interactive tables.';\n",
              "          element.innerHTML = '';\n",
              "          dataTable['output_type'] = 'display_data';\n",
              "          await google.colab.output.renderOutput(dataTable, element);\n",
              "          const docLink = document.createElement('div');\n",
              "          docLink.innerHTML = docLinkHtml;\n",
              "          element.appendChild(docLink);\n",
              "        }\n",
              "      </script>\n",
              "    </div>\n",
              "  </div>\n",
              "  "
            ]
          },
          "metadata": {},
          "execution_count": 131
        }
      ]
    },
    {
      "cell_type": "code",
      "source": [
        "indexnames= data[data[\"category\"]==\"Question\"].index\n",
        "data.drop(indexnames,inplace=True)\n",
        "data1= data[data[\"stage\"]==2]\n",
        "data1.drop(columns=[\"category\",\"text\",\"text without stopwords\",\"stage\",\"Unnamed: 0\"],axis=1 ,inplace=True)\n",
        "text = data1['clean_text']\n",
        "level = data1['level']"
      ],
      "metadata": {
        "colab": {
          "base_uri": "https://localhost:8080/"
        },
        "id": "j_wesL2BYQ0u",
        "outputId": "f9a207a5-b489-42ce-c161-1e3d39d1d9c2"
      },
      "execution_count": null,
      "outputs": [
        {
          "output_type": "stream",
          "name": "stderr",
          "text": [
            "/usr/local/lib/python3.7/dist-packages/pandas/core/frame.py:4913: SettingWithCopyWarning: \n",
            "A value is trying to be set on a copy of a slice from a DataFrame\n",
            "\n",
            "See the caveats in the documentation: https://pandas.pydata.org/pandas-docs/stable/user_guide/indexing.html#returning-a-view-versus-a-copy\n",
            "  errors=errors,\n"
          ]
        }
      ]
    },
    {
      "cell_type": "code",
      "source": [
        "X_train, X_test,Y_train, Y_test = train_test_split(text, level, test_size=0.2, random_state = 42)\n"
      ],
      "metadata": {
        "id": "PdlglhiWYjmt"
      },
      "execution_count": null,
      "outputs": []
    },
    {
      "cell_type": "code",
      "source": [
        "import nltk\n",
        "nltk.download('stopwords')\n",
        "nltk.download('punkt')"
      ],
      "metadata": {
        "colab": {
          "base_uri": "https://localhost:8080/"
        },
        "id": "tUg1WFzJaNwU",
        "outputId": "cb12cbb1-fc9c-4263-be48-c8ce9f64b300"
      },
      "execution_count": null,
      "outputs": [
        {
          "output_type": "stream",
          "name": "stdout",
          "text": [
            "[nltk_data] Downloading package stopwords to /root/nltk_data...\n",
            "[nltk_data]   Package stopwords is already up-to-date!\n",
            "[nltk_data] Downloading package punkt to /root/nltk_data...\n",
            "[nltk_data]   Unzipping tokenizers/punkt.zip.\n"
          ]
        },
        {
          "output_type": "execute_result",
          "data": {
            "text/plain": [
              "True"
            ]
          },
          "metadata": {},
          "execution_count": 134
        }
      ]
    },
    {
      "cell_type": "code",
      "source": [
        "#import all neccessary packages\n",
        "import tqdm\n",
        "import numpy as np\n",
        "from sklearn.feature_extraction.text import TfidfVectorizer\n",
        "from sklearn.linear_model import LogisticRegression\n",
        "from sklearn.model_selection import cross_val_score\n",
        "from scipy.sparse import hstack\n",
        "from nltk import word_tokenize\n",
        "from nltk.corpus import stopwords\n",
        "from nltk import punkt\n",
        "stop_words = stopwords.words('english')\n",
        "\n",
        "\n",
        "train_text = X_train\n",
        "test_text = X_test\n",
        "all_text = pd.concat([X_train, X_test])\n",
        "\n",
        "print(\"Checkpoint1 - Data Read Complete\")\n",
        "\n",
        "embeddings_index = {}\n",
        "f = open('/content/drive/My Drive/glove.6B.50d.txt', encoding=\"utf8\")\n",
        "for line in tqdm.tqdm(f):\n",
        "    values = line.split()\n",
        "    word = values[0]\n",
        "    try:\n",
        "       coefs = np.asarray(values[1:], dtype='float32')\n",
        "       embeddings_index[word] = coefs\n",
        "    except ValueError:\n",
        "       pass\n",
        "f.close()\n",
        "print('Found %s word vectors.' % len(embeddings_index))\n",
        "\n",
        "# this function creates a normalized vector for the whole sentence\n",
        "def sent2vec(s):\n",
        "    words = str(s).lower()\n",
        "    words = word_tokenize(words)\n",
        "    words = [w for w in words if not w in stop_words]\n",
        "    words = [w for w in words if w.isalpha()]\n",
        "    M = []\n",
        "    for w in words:\n",
        "        try:\n",
        "            M.append(embeddings_index[w])\n",
        "        except:\n",
        "            continue\n",
        "    M = np.array(M)\n",
        "    v = M.sum(axis=0)\n",
        "    if type(v) != np.ndarray:\n",
        "        return np.zeros(300)\n",
        "    return v / np.sqrt((v ** 2).sum())\n",
        "\n",
        "# create sentence vectors using the above function for training and validation set\n",
        "xtrain_glove = [sent2vec(x) for x in tqdm.tqdm(train_text)]\n",
        "xtest_glove = [sent2vec(x) for x in tqdm.tqdm(test_text)]\n",
        "\n",
        "print('Checkpoint2 -Normalized Vector for Sentences are created')\n",
        "\n",
        "xtrain_glove = np.array(xtrain_glove)\n",
        "xtest_glove = np.array(xtest_glove)\n",
        "\n",
        "xtrain_glove"
      ],
      "metadata": {
        "colab": {
          "base_uri": "https://localhost:8080/"
        },
        "id": "QRLepBOoXKss",
        "outputId": "e2326df6-989f-4826-82f2-cb2e6d6b910e"
      },
      "execution_count": null,
      "outputs": [
        {
          "output_type": "stream",
          "name": "stdout",
          "text": [
            "Checkpoint1 - Data Read Complete\n"
          ]
        },
        {
          "output_type": "stream",
          "name": "stderr",
          "text": [
            "400000it [00:06, 57906.75it/s]\n"
          ]
        },
        {
          "output_type": "stream",
          "name": "stdout",
          "text": [
            "Found 400000 word vectors.\n"
          ]
        },
        {
          "output_type": "stream",
          "name": "stderr",
          "text": [
            "100%|██████████| 1212/1212 [00:01<00:00, 1137.85it/s]\n",
            "100%|██████████| 304/304 [00:00<00:00, 914.11it/s]"
          ]
        },
        {
          "output_type": "stream",
          "name": "stdout",
          "text": [
            "Checkpoint2 -Normalized Vector for Sentences are created\n"
          ]
        },
        {
          "output_type": "stream",
          "name": "stderr",
          "text": [
            "\n"
          ]
        },
        {
          "output_type": "execute_result",
          "data": {
            "text/plain": [
              "array([[ 0.10007228,  0.05623661,  0.05218392, ...,  0.07784808,\n",
              "        -0.01652519,  0.0656854 ],\n",
              "       [ 0.08080824,  0.04778713,  0.07457291, ...,  0.03339692,\n",
              "         0.02486046,  0.01131673],\n",
              "       [ 0.04617532,  0.0173521 ,  0.06703743, ...,  0.05579339,\n",
              "        -0.00744077, -0.02610585],\n",
              "       ...,\n",
              "       [ 0.07089423,  0.02691155,  0.07440811, ...,  0.07479671,\n",
              "        -0.01549948,  0.04213074],\n",
              "       [-0.00283932, -0.03645952,  0.05564308, ...,  0.11125776,\n",
              "         0.05749149,  0.11554938],\n",
              "       [ 0.02737017, -0.04118044,  0.06206383, ...,  0.03141997,\n",
              "        -0.02268541,  0.09052184]], dtype=float32)"
            ]
          },
          "metadata": {},
          "execution_count": 135
        }
      ]
    },
    {
      "cell_type": "code",
      "source": [
        "x_validation, xtest, y_validation, ytest = train_test_split(xtest_glove, Y_test, test_size=.5, random_state=42)"
      ],
      "metadata": {
        "id": "Sqi0WIlC6PnM"
      },
      "execution_count": null,
      "outputs": []
    },
    {
      "cell_type": "code",
      "source": [
        "from sklearn.linear_model import LogisticRegression\n",
        "from sklearn.ensemble import RandomForestClassifier\n",
        "from sklearn.metrics import roc_curve, auc,precision_recall_curve,average_precision_score,plot_precision_recall_curve, accuracy_score\n",
        "import matplotlib.pyplot as plt\n",
        "\n",
        "def logistic_reg_train_model(xtrain_glove,Y_train,xtest_glove,Y_test):\n",
        "    log_reg = LogisticRegression(random_state=0)\n",
        "    log_reg.fit(xtrain_glove,Y_train)\n",
        "    y_pred = log_reg.predict(xtest_glove)\n",
        "    log_accuracy = accuracy_score(Y_test,y_pred)\n",
        "    print (str(log_accuracy)+(\" is the accuracy of the logistic regression model\"))\n",
        "    return log_reg\n",
        "\n",
        "def Random_forest_train_model(xtrain_glove,Y_train,xtest_glove,Y_test):\n",
        "    rf = RandomForestClassifier(n_estimators=100, random_state=42)\n",
        "    rf.fit(xtrain_glove,Y_train)\n",
        "    y_pred = rf.predict(xtest_glove)\n",
        "    rf_acc= accuracy_score(Y_test,y_pred)\n",
        "    print(str(rf_acc)+(\" is the accuracy of the RandomForestClassifier model\"))\n",
        "    return rf\n"
      ],
      "metadata": {
        "id": "TRLpjdMkcapQ"
      },
      "execution_count": null,
      "outputs": []
    },
    {
      "cell_type": "code",
      "source": [
        "log_reg = logistic_reg_train_model(xtrain_glove,Y_train,xtest_glove,Y_test)\n",
        "rf = Random_forest_train_model(xtrain_glove,Y_train,xtest_glove,Y_test)"
      ],
      "metadata": {
        "colab": {
          "base_uri": "https://localhost:8080/"
        },
        "id": "84faFQI8cdfL",
        "outputId": "b066dc95-ca2b-45f5-f05c-042243951673"
      },
      "execution_count": null,
      "outputs": [
        {
          "output_type": "stream",
          "name": "stdout",
          "text": [
            "0.8717105263157895 is the accuracy of the logistic regression model\n",
            "0.868421052631579 is the accuracy of the RandomForestClassifier model\n"
          ]
        }
      ]
    },
    {
      "cell_type": "code",
      "source": [
        "#validation\n",
        "\n",
        "def logistic_reg_val_model(x_validation,y_validation,  log_reg):\n",
        "    y_pred_lr = log_reg.predict(x_validation)\n",
        "    yprob_lr = log_reg.predict_proba(x_validation)\n",
        "    log_accuracy = accuracy_score(y_validation,y_pred_lr)\n",
        "    print (str(log_accuracy)+(\" is the Val_accuracy of the logistic regression model\"))\n",
        "    return yprob_lr\n",
        "\n",
        "def random_forest_val_model(x_validation,y_validation, rf):\n",
        "    y_pred_rf = rf.predict(x_validation)\n",
        "    yprob_rf = rf.predict_proba(x_validation)\n",
        "    rf_acc= accuracy_score(y_validation,y_pred_rf)\n",
        "    print(str(rf_acc)+(\" is the Val_accuracy of the RandomForestClassifier model\"))\n",
        "    return yprob_rf"
      ],
      "metadata": {
        "id": "8a6qa07Gg3rL"
      },
      "execution_count": null,
      "outputs": []
    },
    {
      "cell_type": "code",
      "source": [
        "yhat_lr = logistic_reg_val_model(x_validation,y_validation,log_reg)\n",
        "yhat_rf = random_forest_val_model(x_validation,y_validation,rf)"
      ],
      "metadata": {
        "colab": {
          "base_uri": "https://localhost:8080/"
        },
        "id": "NXOd-s2OhA2S",
        "outputId": "43702de7-bcf3-4bd6-bf08-33209c36c73b"
      },
      "execution_count": null,
      "outputs": [
        {
          "output_type": "stream",
          "name": "stdout",
          "text": [
            "0.881578947368421 is the Val_accuracy of the logistic regression model\n",
            "0.868421052631579 is the Val_accuracy of the RandomForestClassifier model\n"
          ]
        }
      ]
    },
    {
      "cell_type": "code",
      "source": [
        "def print_roc(y_validation,yhat_lr,yhat_rf):\n",
        "    fpr_lr, tpr_lr, threshold = roc_curve(y_validation, yhat_lr[:,1])\n",
        "    roc_auc_lr = auc(fpr_lr, tpr_lr)\n",
        "    fpr_rf, tpr_rf, threshold = roc_curve(y_validation, yhat_rf[:,1])\n",
        "    roc_auc_rf = auc(fpr_rf, tpr_rf)\n",
        "    plt.figure(figsize=(6,6))\n",
        "    plt.plot(fpr_lr, tpr_lr, label='logisticReg (area = %0.3f)' % roc_auc_lr, linewidth=2)\n",
        "    plt.plot(fpr_rf, tpr_rf, label='RandomForest (area = %0.3f)' % roc_auc_rf, linewidth=2)\n",
        "    plt.plot([0, 1], [0, 1], 'k--', linewidth=2)\n",
        "    plt.xlim([-0.05, 1.0])\n",
        "    plt.ylim([-0.05, 1.05])\n",
        "    plt.xlabel('False Positive Rate', fontsize=18)\n",
        "    plt.ylabel('True Positive Rate', fontsize=18)\n",
        "    plt.title('Receiver operating characteristic: is positive', fontsize=18)\n",
        "    plt.legend(loc=\"lower right\")\n",
        "    plt.show()\n",
        "\n",
        "print_roc(y_validation,yhat_lr,yhat_rf)"
      ],
      "metadata": {
        "colab": {
          "base_uri": "https://localhost:8080/",
          "height": 416
        },
        "id": "L7Xr2dni5suz",
        "outputId": "27f6c8b8-667a-4b0a-cb2e-1b80d6a2a25f"
      },
      "execution_count": null,
      "outputs": [
        {
          "output_type": "display_data",
          "data": {
            "text/plain": [
              "<Figure size 432x432 with 1 Axes>"
            ],
            "image/png": "[encoded data removed]"
          },
          "metadata": {
            "needs_background": "light"
          }
        }
      ]
    },
    {
      "cell_type": "code",
      "source": [
        "def print_precision_recall_curve(y_validation,yhat_lr,yhat_rf):\n",
        "    average_precision_lr = average_precision_score(y_validation, yhat_lr[:,1])\n",
        "    print('average precision Logistic Regression :%0.3f' %average_precision_lr)\n",
        "    average_precision_rf = average_precision_score(y_validation, yhat_rf[:,1])\n",
        "    print('average precision Random Forest :%0.3f' %average_precision_rf)\n",
        "    precision_lr, recall_lr, thresholds = precision_recall_curve(y_validation, yhat_lr[:,1])\n",
        "    precision_rf, recall_rf, thresholds = precision_recall_curve(y_validation, yhat_rf[:,1])\n",
        "    auc_precision_recall_lr = auc(recall_lr, precision_lr)\n",
        "    auc_precision_recall_rf = auc(recall_rf, precision_rf)\n",
        "    plt.figure(figsize=(6,6))\n",
        "    plt.xlabel('Recall', fontsize=14)\n",
        "    plt.ylabel('Precision', fontsize=14)\n",
        "    plt.title('Precision- Recall Curve', fontsize=16)\n",
        "    plt.plot(recall_lr, precision_lr,label='logisticReg (area = %0.3f)' %auc_precision_recall_lr )\n",
        "    plt.plot(recall_rf, precision_rf,label=' RandomForest (area = %0.3f)' %auc_precision_recall_rf )\n",
        "    plt.legend(loc=\"upper right\")\n",
        "    plt.show()\n",
        "\n",
        "print_precision_recall_curve(y_validation,yhat_lr,yhat_rf)"
      ],
      "metadata": {
        "colab": {
          "base_uri": "https://localhost:8080/",
          "height": 444
        },
        "id": "kYHNXHOcwOV6",
        "outputId": "c1cb5e3d-491b-4015-e395-e121e7e84636"
      },
      "execution_count": null,
      "outputs": [
        {
          "output_type": "stream",
          "name": "stdout",
          "text": [
            "average precision Logistic Regression :0.917\n",
            "average precision Random Forest :0.909\n"
          ]
        },
        {
          "output_type": "display_data",
          "data": {
            "text/plain": [
              "<Figure size 432x432 with 1 Axes>"
            ],
            "image/png": "[encoded data removed]"
          },
          "metadata": {
            "needs_background": "light"
          }
        }
      ]
    },
    {
      "cell_type": "markdown",
      "source": [
        "**Based on the above results , we see the Logistic Regression performing better when it comes to the ROC , Precision Recall Curve and in terms of accuracy.**"
      ],
      "metadata": {
        "id": "dFvSHcgo6Q-G"
      }
    },
    {
      "cell_type": "markdown",
      "source": [
        "#Doc2vec"
      ],
      "metadata": {
        "id": "bXu-80qd7Mma"
      }
    },
    {
      "cell_type": "markdown",
      "source": [
        "**Doc2vec is an NLP tool for representing documents as a vector and is a generalizing of the word2vec method. Doc2Vec model, as opposite to Word2Vec model, is used to create a vectorised representation of a group of words taken collectively as a single unit. It doesn’t only give the simple average of the words in the sentence.**"
      ],
      "metadata": {
        "id": "GOw_4zofyD9a"
      }
    },
    {
      "cell_type": "markdown",
      "source": [
        "**Here we use gensim.models to implement doc2vec for our data.**"
      ],
      "metadata": {
        "id": "JWEpy4B9ya9Q"
      }
    },
    {
      "cell_type": "code",
      "source": [
        "#import the necessary libraries\n",
        "import pandas as pd\n",
        "import numpy as np\n",
        "from tqdm import tqdm\n",
        "tqdm.pandas(desc=\"progress-bar\")\n",
        "from gensim.models import Doc2Vec\n",
        "from sklearn import utils\n",
        "from sklearn.model_selection import train_test_split\n",
        "import gensim\n",
        "from sklearn.linear_model import LogisticRegression\n",
        "from gensim.models.doc2vec import TaggedDocument\n",
        "import re\n",
        "import seaborn as sns\n",
        "import matplotlib.pyplot as plt\n",
        "\n",
        "\n",
        "df = pd.read_csv('/content/drive/My Drive/data.csv')\n",
        "df.info()\n",
        "\n",
        "index= df[df[\"category\"]==\"Question\"].index\n",
        "df.drop(index,inplace=True)\n",
        "data= df[df[\"stage\"]==2]\n",
        "data.drop(columns=[\"category\",\"stage\",\"Unnamed: 0\"],axis=1 ,inplace=True)\n",
        "data.shape\n",
        "\n"
      ],
      "metadata": {
        "colab": {
          "base_uri": "https://localhost:8080/"
        },
        "id": "xLFfRZJY8gim",
        "outputId": "bd8c098b-18a6-4664-e440-df16c452711e"
      },
      "execution_count": null,
      "outputs": [
        {
          "output_type": "stream",
          "name": "stdout",
          "text": [
            "<class 'pandas.core.frame.DataFrame'>\n",
            "RangeIndex: 8472 entries, 0 to 8471\n",
            "Data columns (total 5 columns):\n",
            " #   Column      Non-Null Count  Dtype \n",
            "---  ------      --------------  ----- \n",
            " 0   Unnamed: 0  8472 non-null   int64 \n",
            " 1   text        8472 non-null   object\n",
            " 2   category    8472 non-null   object\n",
            " 3   stage       8472 non-null   int64 \n",
            " 4   level       8472 non-null   int64 \n",
            "dtypes: int64(3), object(2)\n",
            "memory usage: 331.1+ KB\n"
          ]
        },
        {
          "output_type": "stream",
          "name": "stderr",
          "text": [
            "/usr/local/lib/python3.7/dist-packages/pandas/core/frame.py:4913: SettingWithCopyWarning: \n",
            "A value is trying to be set on a copy of a slice from a DataFrame\n",
            "\n",
            "See the caveats in the documentation: https://pandas.pydata.org/pandas-docs/stable/user_guide/indexing.html#returning-a-view-versus-a-copy\n",
            "  errors=errors,\n"
          ]
        },
        {
          "output_type": "execute_result",
          "data": {
            "text/plain": [
              "(1516, 2)"
            ]
          },
          "metadata": {},
          "execution_count": 164
        }
      ]
    },
    {
      "cell_type": "markdown",
      "source": [
        "**Here we use the same data cleaning and data preprocessing steps as followed in the previous model.**\n",
        "\n",
        "**Now we try to predict predict the ANSWER LABEL 2 (\"Answer_2_negative\": 0, \"Answer_2_positive\": 1) for the text.**\n",
        "\n",
        "**We start with the data pre-processing and the data cleaning. We modify the dataframe so that we get the data related to Answer label 2**"
      ],
      "metadata": {
        "id": "h1ZasG1nY5um"
      }
    },
    {
      "cell_type": "code",
      "source": [
        "import re\n",
        "import string\n",
        "import nltk\n",
        "nltk.download('stopwords')\n",
        "from nltk.corpus import stopwords"
      ],
      "metadata": {
        "colab": {
          "base_uri": "https://localhost:8080/"
        },
        "outputId": "071444fd-0748-42e5-fc4b-0da64136fa57",
        "id": "mWynIu9DHgJ5"
      },
      "execution_count": null,
      "outputs": [
        {
          "output_type": "stream",
          "name": "stdout",
          "text": [
            "[nltk_data] Downloading package stopwords to /root/nltk_data...\n",
            "[nltk_data]   Package stopwords is already up-to-date!\n"
          ]
        }
      ]
    },
    {
      "cell_type": "code",
      "source": [
        "snowStem = nltk.stem.SnowballStemmer('english')\n",
        "sw_nltk = stopwords.words('english')\n",
        "sw_nltk.append('however')\n",
        "\n",
        "def my_preprocessor(processed_data, remove_stopwords = False, stemming = False):\n",
        "    # remove numbers \n",
        "    processed_data = re.sub(r'\\d+', '', processed_data)\n",
        "    # remove punctuation\n",
        "    processed_data = processed_data.translate(str.maketrans('','', string.punctuation))\n",
        "    # remove spaces\n",
        "    processed_data = processed_data.strip()\n",
        "    #upper to lower\n",
        "    processed_data = processed_data.lower()\n",
        "    \n",
        "    if stemming:\n",
        "      # stemming\n",
        "      processed_data = snowStem.stem(processed_data)\n",
        "    \n",
        "    if remove_stopwords:\n",
        "        # remove stop words\n",
        "        processed_data = ' '.join([word for word in processed_data.split() if not(word in sw_nltk)])\n",
        "        \n",
        "    \n",
        "    return processed_data"
      ],
      "metadata": {
        "id": "_K8-59E3HgJ6"
      },
      "execution_count": null,
      "outputs": []
    },
    {
      "cell_type": "code",
      "source": [
        "data.loc[:, 'processed_data'] = [my_preprocessor(text, remove_stopwords = True) for text in data.text]"
      ],
      "metadata": {
        "colab": {
          "base_uri": "https://localhost:8080/"
        },
        "outputId": "5234b11b-bc0f-4851-9a4e-a5637e567384",
        "id": "Kk2tEygDHgJ6"
      },
      "execution_count": null,
      "outputs": [
        {
          "output_type": "stream",
          "name": "stderr",
          "text": [
            "/usr/local/lib/python3.7/dist-packages/pandas/core/indexing.py:1667: SettingWithCopyWarning: \n",
            "A value is trying to be set on a copy of a slice from a DataFrame.\n",
            "Try using .loc[row_indexer,col_indexer] = value instead\n",
            "\n",
            "See the caveats in the documentation: https://pandas.pydata.org/pandas-docs/stable/user_guide/indexing.html#returning-a-view-versus-a-copy\n",
            "  self.obj[key] = value\n"
          ]
        }
      ]
    },
    {
      "cell_type": "code",
      "source": [
        "corpus=[]\n",
        "for text in data[\"text\"]:\n",
        "    corpus.append(my_preprocessor(text, remove_stopwords = True))"
      ],
      "metadata": {
        "id": "UWlPjC-zHgJ7"
      },
      "execution_count": null,
      "outputs": []
    },
    {
      "cell_type": "code",
      "source": [
        "target=data['level']"
      ],
      "metadata": {
        "id": "Hdy7BUGNHgJ7"
      },
      "execution_count": null,
      "outputs": []
    },
    {
      "cell_type": "code",
      "source": [
        "#re-arranging\n",
        "\n",
        "data = data[['processed_data','level']]\n",
        "data"
      ],
      "metadata": {
        "colab": {
          "base_uri": "https://localhost:8080/",
          "height": 423
        },
        "outputId": "fc6be989-90dc-4783-d32f-5d2aae7fd8b4",
        "id": "n6kfZ7PfHgJ7"
      },
      "execution_count": null,
      "outputs": [
        {
          "output_type": "execute_result",
          "data": {
            "text/plain": [
              "                                         processed_data  level\n",
              "4     think relates one think weve got currently und...      1\n",
              "10    well clearly surpassed high expectations said ...      1\n",
              "16    think last years us big gas retailers supermar...      1\n",
              "22    coreoncore well yes dont think big surprises a...      0\n",
              "28    theres lots everything simeon really dont talk...      1\n",
              "...                                                 ...    ...\n",
              "8443  great tom think reason believe midmarket oppor...      1\n",
              "8452  yes mean part prepared remarks talked fact ado...      1\n",
              "8458  ill touch one maybe little bit detail adobe ex...      1\n",
              "8464  yes sure performance rpo go forward youll star...      1\n",
              "8470  well lets start first part question see busine...      1\n",
              "\n",
              "[1516 rows x 2 columns]"
            ],
            "text/html": [
              "\n",
              "  <div id=\"df-8c8c32c4-ba96-4b1e-a3ca-f3ae726a2518\">\n",
              "    <div class=\"colab-df-container\">\n",
              "      <div>\n",
              "<style scoped>\n",
              "    .dataframe tbody tr th:only-of-type {\n",
              "        vertical-align: middle;\n",
              "    }\n",
              "\n",
              "    .dataframe tbody tr th {\n",
              "        vertical-align: top;\n",
              "    }\n",
              "\n",
              "    .dataframe thead th {\n",
              "        text-align: right;\n",
              "    }\n",
              "</style>\n",
              "<table border=\"1\" class=\"dataframe\">\n",
              "  <thead>\n",
              "    <tr style=\"text-align: right;\">\n",
              "      <th></th>\n",
              "      <th>processed_data</th>\n",
              "      <th>level</th>\n",
              "    </tr>\n",
              "  </thead>\n",
              "  <tbody>\n",
              "    <tr>\n",
              "      <th>4</th>\n",
              "      <td>think relates one think weve got currently und...</td>\n",
              "      <td>1</td>\n",
              "    </tr>\n",
              "    <tr>\n",
              "      <th>10</th>\n",
              "      <td>well clearly surpassed high expectations said ...</td>\n",
              "      <td>1</td>\n",
              "    </tr>\n",
              "    <tr>\n",
              "      <th>16</th>\n",
              "      <td>think last years us big gas retailers supermar...</td>\n",
              "      <td>1</td>\n",
              "    </tr>\n",
              "    <tr>\n",
              "      <th>22</th>\n",
              "      <td>coreoncore well yes dont think big surprises a...</td>\n",
              "      <td>0</td>\n",
              "    </tr>\n",
              "    <tr>\n",
              "      <th>28</th>\n",
              "      <td>theres lots everything simeon really dont talk...</td>\n",
              "      <td>1</td>\n",
              "    </tr>\n",
              "    <tr>\n",
              "      <th>...</th>\n",
              "      <td>...</td>\n",
              "      <td>...</td>\n",
              "    </tr>\n",
              "    <tr>\n",
              "      <th>8443</th>\n",
              "      <td>great tom think reason believe midmarket oppor...</td>\n",
              "      <td>1</td>\n",
              "    </tr>\n",
              "    <tr>\n",
              "      <th>8452</th>\n",
              "      <td>yes mean part prepared remarks talked fact ado...</td>\n",
              "      <td>1</td>\n",
              "    </tr>\n",
              "    <tr>\n",
              "      <th>8458</th>\n",
              "      <td>ill touch one maybe little bit detail adobe ex...</td>\n",
              "      <td>1</td>\n",
              "    </tr>\n",
              "    <tr>\n",
              "      <th>8464</th>\n",
              "      <td>yes sure performance rpo go forward youll star...</td>\n",
              "      <td>1</td>\n",
              "    </tr>\n",
              "    <tr>\n",
              "      <th>8470</th>\n",
              "      <td>well lets start first part question see busine...</td>\n",
              "      <td>1</td>\n",
              "    </tr>\n",
              "  </tbody>\n",
              "</table>\n",
              "<p>1516 rows × 2 columns</p>\n",
              "</div>\n",
              "      <button class=\"colab-df-convert\" onclick=\"convertToInteractive('df-8c8c32c4-ba96-4b1e-a3ca-f3ae726a2518')\"\n",
              "              title=\"Convert this dataframe to an interactive table.\"\n",
              "              style=\"display:none;\">\n",
              "        \n",
              "  <svg xmlns=\"http://www.w3.org/2000/svg\" height=\"24px\"viewBox=\"0 0 24 24\"\n",
              "       width=\"24px\">\n",
              "    <path d=\"M0 0h24v24H0V0z\" fill=\"none\"/>\n",
              "    <path d=\"M18.56 5.44l.94 2.06.94-2.06 2.06-.94-2.06-.94-.94-2.06-.94 2.06-2.06.94zm-11 1L8.5 8.5l.94-2.06 2.06-.94-2.06-.94L8.5 2.5l-.94 2.06-2.06.94zm10 10l.94 2.06.94-2.06 2.06-.94-2.06-.94-.94-2.06-.94 2.06-2.06.94z\"/><path d=\"M17.41 7.96l-1.37-1.37c-.4-.4-.92-.59-1.43-.59-.52 0-1.04.2-1.43.59L10.3 9.45l-7.72 7.72c-.78.78-.78 2.05 0 2.83L4 21.41c.39.39.9.59 1.41.59.51 0 1.02-.2 1.41-.59l7.78-7.78 2.81-2.81c.8-.78.8-2.07 0-2.86zM5.41 20L4 18.59l7.72-7.72 1.47 1.35L5.41 20z\"/>\n",
              "  </svg>\n",
              "      </button>\n",
              "      \n",
              "  <style>\n",
              "    .colab-df-container {\n",
              "      display:flex;\n",
              "      flex-wrap:wrap;\n",
              "      gap: 12px;\n",
              "    }\n",
              "\n",
              "    .colab-df-convert {\n",
              "      background-color: #E8F0FE;\n",
              "      border: none;\n",
              "      border-radius: 50%;\n",
              "      cursor: pointer;\n",
              "      display: none;\n",
              "      fill: #1967D2;\n",
              "      height: 32px;\n",
              "      padding: 0 0 0 0;\n",
              "      width: 32px;\n",
              "    }\n",
              "\n",
              "    .colab-df-convert:hover {\n",
              "      background-color: #E2EBFA;\n",
              "      box-shadow: 0px 1px 2px rgba(60, 64, 67, 0.3), 0px 1px 3px 1px rgba(60, 64, 67, 0.15);\n",
              "      fill: #174EA6;\n",
              "    }\n",
              "\n",
              "    [theme=dark] .colab-df-convert {\n",
              "      background-color: #3B4455;\n",
              "      fill: #D2E3FC;\n",
              "    }\n",
              "\n",
              "    [theme=dark] .colab-df-convert:hover {\n",
              "      background-color: #434B5C;\n",
              "      box-shadow: 0px 1px 3px 1px rgba(0, 0, 0, 0.15);\n",
              "      filter: drop-shadow(0px 1px 2px rgba(0, 0, 0, 0.3));\n",
              "      fill: #FFFFFF;\n",
              "    }\n",
              "  </style>\n",
              "\n",
              "      <script>\n",
              "        const buttonEl =\n",
              "          document.querySelector('#df-8c8c32c4-ba96-4b1e-a3ca-f3ae726a2518 button.colab-df-convert');\n",
              "        buttonEl.style.display =\n",
              "          google.colab.kernel.accessAllowed ? 'block' : 'none';\n",
              "\n",
              "        async function convertToInteractive(key) {\n",
              "          const element = document.querySelector('#df-8c8c32c4-ba96-4b1e-a3ca-f3ae726a2518');\n",
              "          const dataTable =\n",
              "            await google.colab.kernel.invokeFunction('convertToInteractive',\n",
              "                                                     [key], {});\n",
              "          if (!dataTable) return;\n",
              "\n",
              "          const docLinkHtml = 'Like what you see? Visit the ' +\n",
              "            '<a target=\"_blank\" href=https://colab.research.google.com/notebooks/data_table.ipynb>data table notebook</a>'\n",
              "            + ' to learn more about interactive tables.';\n",
              "          element.innerHTML = '';\n",
              "          dataTable['output_type'] = 'display_data';\n",
              "          await google.colab.output.renderOutput(dataTable, element);\n",
              "          const docLink = document.createElement('div');\n",
              "          docLink.innerHTML = docLinkHtml;\n",
              "          element.appendChild(docLink);\n",
              "        }\n",
              "      </script>\n",
              "    </div>\n",
              "  </div>\n",
              "  "
            ]
          },
          "metadata": {},
          "execution_count": 170
        }
      ]
    },
    {
      "cell_type": "markdown",
      "source": [
        "**Below, we define a function to label each complaint narrative. And the TaggedDocument is an object-type to encapsulate a text-example function that helps to associate a tag/number with each document of the training corpus. In our case, the tag is simply the zero based line number.**"
      ],
      "metadata": {
        "id": "R1uGDp3hzMXb"
      }
    },
    {
      "cell_type": "code",
      "source": [
        "from gensim.models import doc2vec\n",
        "\n",
        "def label_sentences(corpus, label_type):\n",
        "    \"\"\"\n",
        "    Gensim's Doc2Vec implementation requires each document/paragraph to have a label associated with it.\n",
        "    We do this by using the TaggedDocument method. The format will be \"TRAIN_i\" or \"TEST_i\" where \"i\" is\n",
        "    a dummy index of the complaint narrative.\n",
        "    \"\"\"\n",
        "    labeled = []\n",
        "    for i, v in enumerate(corpus):\n",
        "        label = label_type + '_' + str(i)\n",
        "        labeled.append(doc2vec.TaggedDocument(v.split(), [label]))\n",
        "    return labeled"
      ],
      "metadata": {
        "id": "5VbqDMZp-jfN"
      },
      "execution_count": null,
      "outputs": []
    },
    {
      "cell_type": "code",
      "source": [
        "X_train, X_test, y_train, y_test = train_test_split(data.processed_data, target, random_state=0, test_size=0.3)\n",
        "X_train = label_sentences(X_train, 'Train')\n",
        "X_test = label_sentences(X_test, 'Test')\n",
        "all_data = X_train + X_test"
      ],
      "metadata": {
        "id": "SnWHs3g_-qxL"
      },
      "execution_count": null,
      "outputs": []
    },
    {
      "cell_type": "code",
      "source": [
        "len(all_data)"
      ],
      "metadata": {
        "colab": {
          "base_uri": "https://localhost:8080/"
        },
        "id": "MMpmJJfC-8fi",
        "outputId": "ca00689f-19c6-4c14-8e9f-671d2f45c880"
      },
      "execution_count": null,
      "outputs": [
        {
          "output_type": "execute_result",
          "data": {
            "text/plain": [
              "1516"
            ]
          },
          "metadata": {},
          "execution_count": 152
        }
      ]
    },
    {
      "cell_type": "markdown",
      "source": [
        "**We'll instantiate a Doc2Vec model-Distributed Bag of Words (DBOW). In the Word2Vec architecture, the two algorithm names are “continuous bag of words” (cbow) and “skip-gram” (sg); in the Doc2Vec architecture, the corresponding algorithms are “distributed bag of words” (dbow) and “distributed memory” (dm).**"
      ],
      "metadata": {
        "id": "sWOrdrY1zXB9"
      }
    },
    {
      "cell_type": "markdown",
      "source": [
        "**DBOW is the Doc2Vec model analogous to Skip-gram model in Word2Vec. The paragraph vectors are obtained by training a neural network on the task of predicting a probability distribution of words in a paragraph given a randomly-sampled word from the paragraph.**\n",
        "\n",
        "**Training a Doc2Vec model is rather straight forward in Gensim, we initialize the model and train for 30 epochs:**\n",
        "\n",
        "**dm =0 means ‘distributed bag of words’ (DBOW), set min_count=1 means ignoring all words with total frequency lower than this, size=300 is dimensionality of the generated feature vectors, alpha=0.065 is the initial alpha rate, learning rate will linearly drop to min_alpha as training progresses. And then we build a vocabulary.**"
      ],
      "metadata": {
        "id": "Y5hb7TeDzZam"
      }
    },
    {
      "cell_type": "code",
      "source": [
        "model_dbow = Doc2Vec(dm=0, vector_size=300, negative=5, min_count=1, alpha=0.065, min_alpha=0.065)\n",
        "model_dbow.build_vocab([x for x in tqdm(all_data)])"
      ],
      "metadata": {
        "colab": {
          "base_uri": "https://localhost:8080/"
        },
        "id": "c28PYHUj_BYW",
        "outputId": "a9a1f7aa-f3ca-4f70-9634-10d471a30713"
      },
      "execution_count": null,
      "outputs": [
        {
          "output_type": "stream",
          "name": "stderr",
          "text": [
            "100%|██████████| 1516/1516 [00:00<00:00, 1774648.30it/s]\n"
          ]
        }
      ]
    },
    {
      "cell_type": "code",
      "source": [
        "%%time\n",
        "for epoch in range(30):\n",
        "    model_dbow.train(utils.shuffle([x for x in tqdm(all_data)]), total_examples=len(all_data), epochs=1)\n",
        "    model_dbow.alpha -= 0.002\n",
        "    model_dbow.min_alpha = model_dbow.alpha"
      ],
      "metadata": {
        "colab": {
          "base_uri": "https://localhost:8080/"
        },
        "id": "dW4XDbYb_Rxh",
        "outputId": "8367de40-d207-4597-cad1-0adb7c22018f"
      },
      "execution_count": null,
      "outputs": [
        {
          "output_type": "stream",
          "name": "stderr",
          "text": [
            "100%|██████████| 1516/1516 [00:00<00:00, 1326082.35it/s]\n",
            "100%|██████████| 1516/1516 [00:00<00:00, 2057122.25it/s]\n",
            "100%|██████████| 1516/1516 [00:00<00:00, 1019490.92it/s]\n",
            "100%|██████████| 1516/1516 [00:00<00:00, 885840.74it/s]\n",
            "100%|██████████| 1516/1516 [00:00<00:00, 989813.96it/s]\n",
            "100%|██████████| 1516/1516 [00:00<00:00, 2170158.66it/s]\n",
            "100%|██████████| 1516/1516 [00:00<00:00, 2019233.05it/s]\n",
            "100%|██████████| 1516/1516 [00:00<00:00, 1338081.83it/s]\n",
            "100%|██████████| 1516/1516 [00:00<00:00, 1971648.02it/s]\n",
            "100%|██████████| 1516/1516 [00:00<00:00, 1888495.65it/s]\n",
            "100%|██████████| 1516/1516 [00:00<00:00, 1369789.93it/s]\n",
            "100%|██████████| 1516/1516 [00:00<00:00, 1375419.61it/s]\n",
            "100%|██████████| 1516/1516 [00:00<00:00, 1706539.15it/s]\n",
            "100%|██████████| 1516/1516 [00:00<00:00, 1970426.05it/s]\n",
            "100%|██████████| 1516/1516 [00:00<00:00, 1565763.33it/s]\n",
            "100%|██████████| 1516/1516 [00:00<00:00, 1224685.07it/s]\n",
            "100%|██████████| 1516/1516 [00:00<00:00, 2211674.74it/s]\n",
            "100%|██████████| 1516/1516 [00:00<00:00, 1333032.47it/s]\n",
            "100%|██████████| 1516/1516 [00:00<00:00, 1047022.04it/s]\n",
            "100%|██████████| 1516/1516 [00:00<00:00, 1114755.41it/s]\n",
            "100%|██████████| 1516/1516 [00:00<00:00, 1076263.52it/s]\n",
            "100%|██████████| 1516/1516 [00:00<00:00, 823541.62it/s]\n",
            "100%|██████████| 1516/1516 [00:00<00:00, 1356349.16it/s]\n",
            "100%|██████████| 1516/1516 [00:00<00:00, 2235782.30it/s]\n",
            "100%|██████████| 1516/1516 [00:00<00:00, 1074444.89it/s]\n",
            "100%|██████████| 1516/1516 [00:00<00:00, 1546343.60it/s]\n",
            "100%|██████████| 1516/1516 [00:00<00:00, 1079919.30it/s]\n",
            "100%|██████████| 1516/1516 [00:00<00:00, 1403966.63it/s]\n",
            "100%|██████████| 1516/1516 [00:00<00:00, 1982096.28it/s]\n",
            "100%|██████████| 1516/1516 [00:00<00:00, 1918697.91it/s]\n"
          ]
        },
        {
          "output_type": "stream",
          "name": "stdout",
          "text": [
            "CPU times: user 13.5 s, sys: 463 ms, total: 13.9 s\n",
            "Wall time: 8.74 s\n"
          ]
        }
      ]
    },
    {
      "cell_type": "markdown",
      "source": [
        "**Define a function to get the vectors.**"
      ],
      "metadata": {
        "id": "kAC4M1cmzpsE"
      }
    },
    {
      "cell_type": "code",
      "source": [
        "def get_vectors(model, corpus_size, vectors_size, vectors_type):\n",
        "    \"\"\"\n",
        "    Get vectors from trained doc2vec model\n",
        "    :param doc2vec_model: Trained Doc2Vec model\n",
        "    :param corpus_size: Size of the data\n",
        "    :param vectors_size: Size of the embedding vectors\n",
        "    :param vectors_type: Training or Testing vectors\n",
        "    :return: list of vectors\n",
        "    \"\"\"\n",
        "    vectors = np.zeros((corpus_size, vectors_size))\n",
        "    for i in range(0, corpus_size):\n",
        "        prefix = vectors_type + '_' + str(i)\n",
        "        vectors[i] = model.docvecs[prefix]\n",
        "    return vectors"
      ],
      "metadata": {
        "id": "iWuOej2k_ZVo"
      },
      "execution_count": null,
      "outputs": []
    },
    {
      "cell_type": "code",
      "source": [
        "train_vectors_dbow = get_vectors(model_dbow, len(X_train), 300, 'Train')\n",
        "test_vectors_dbow = get_vectors(model_dbow, len(X_test), 300, 'Test')"
      ],
      "metadata": {
        "id": "jFvWTxWc_cWO"
      },
      "execution_count": null,
      "outputs": []
    },
    {
      "cell_type": "code",
      "source": [
        "#Perfrom logistic Regression\n",
        "from sklearn.linear_model import LogisticRegression\n",
        "from sklearn.metrics import  accuracy_score\n",
        "\n",
        "logreg = LogisticRegression(multi_class='multinomial', solver = 'lbfgs')\n",
        "logreg.fit(train_vectors_dbow, y_train)\n",
        "y_pred = logreg.predict(test_vectors_dbow)\n",
        "log_acc= accuracy_score(y_test,y_pred)\n",
        "print (str(log_acc)+(\" is the accuracy of the logistic regression model\"))"
      ],
      "metadata": {
        "colab": {
          "base_uri": "https://localhost:8080/"
        },
        "id": "XspAXkhK_gE1",
        "outputId": "9dd78259-c2dc-4863-86b7-4490b0ecbcbe"
      },
      "execution_count": null,
      "outputs": [
        {
          "output_type": "stream",
          "name": "stdout",
          "text": [
            "0.7736263736263737 is the accuracy of the logistic regression model\n"
          ]
        }
      ]
    },
    {
      "cell_type": "code",
      "source": [
        "from sklearn.ensemble import RandomForestClassifier\n",
        "from sklearn.metrics import  accuracy_score\n",
        "\n",
        "rf = RandomForestClassifier(n_estimators=100, random_state=42)\n",
        "rf.fit(train_vectors_dbow, y_train)\n",
        "y_pred = rf.predict(test_vectors_dbow)\n",
        "log_acc= accuracy_score(y_test,y_pred)\n",
        "print (str(log_acc)+(\" is the accuracy of the random forest model\"))"
      ],
      "metadata": {
        "colab": {
          "base_uri": "https://localhost:8080/"
        },
        "id": "eebn38FZM9es",
        "outputId": "c32594b3-a90b-418e-bb04-7c42da636cbd"
      },
      "execution_count": null,
      "outputs": [
        {
          "output_type": "stream",
          "name": "stdout",
          "text": [
            "0.8175824175824176 is the accuracy of the random forest model\n"
          ]
        }
      ]
    },
    {
      "cell_type": "markdown",
      "source": [
        "**Distributed Memory**\n",
        "**Distributed Memory (DM) acts as a memory that remembers what is missing from the current context — or as the topic of the paragraph. While the word vectors represent the concept of a word, the document vector intends to represent the concept of a document.** \n",
        "\n",
        "**We again instantiate a Doc2Vec model with a vector size with 300 words and iterating over the training corpus 30 times.**"
      ],
      "metadata": {
        "id": "SFDwnIGH0XP6"
      }
    },
    {
      "cell_type": "code",
      "source": [
        "model_dm = Doc2Vec(dm=1, dm_mean=1, vector_size=300, window=10, negative=5, min_count=1, workers=5, alpha=0.065, min_alpha=0.065)\n",
        "model_dm.build_vocab([x for x in tqdm(all_data)])"
      ],
      "metadata": {
        "colab": {
          "base_uri": "https://localhost:8080/"
        },
        "id": "-lidWXasGM4G",
        "outputId": "490014a8-a043-45bc-a5ab-5244b55f4a16"
      },
      "execution_count": null,
      "outputs": [
        {
          "output_type": "stream",
          "name": "stderr",
          "text": [
            "100%|██████████| 1516/1516 [00:00<00:00, 489723.11it/s]\n"
          ]
        }
      ]
    },
    {
      "cell_type": "code",
      "source": [
        "%%time\n",
        "for epoch in range(30):\n",
        "    model_dm.train(utils.shuffle([x for x in tqdm(all_data)]), total_examples=len(all_data), epochs=1)\n",
        "    model_dm.alpha -= 0.002\n",
        "    model_dm.min_alpha = model_dm.alpha"
      ],
      "metadata": {
        "colab": {
          "base_uri": "https://localhost:8080/"
        },
        "id": "FSLrw-7pGQb0",
        "outputId": "b37c0a34-5cc9-4d52-aceb-a6655b5b1fc8"
      },
      "execution_count": null,
      "outputs": [
        {
          "output_type": "stream",
          "name": "stderr",
          "text": [
            "100%|██████████| 1516/1516 [00:00<00:00, 1219517.62it/s]\n",
            "100%|██████████| 1516/1516 [00:00<00:00, 1329965.46it/s]\n",
            "100%|██████████| 1516/1516 [00:00<00:00, 1385912.13it/s]\n",
            "100%|██████████| 1516/1516 [00:00<00:00, 1347439.05it/s]\n",
            "100%|██████████| 1516/1516 [00:00<00:00, 573722.36it/s]\n",
            "100%|██████████| 1516/1516 [00:00<00:00, 1576633.99it/s]\n",
            "100%|██████████| 1516/1516 [00:00<00:00, 331624.33it/s]\n",
            "100%|██████████| 1516/1516 [00:00<00:00, 1377505.39it/s]\n",
            "100%|██████████| 1516/1516 [00:00<00:00, 1360411.82it/s]\n",
            "100%|██████████| 1516/1516 [00:00<00:00, 1405207.70it/s]\n",
            "100%|██████████| 1516/1516 [00:00<00:00, 1402418.36it/s]\n",
            "100%|██████████| 1516/1516 [00:00<00:00, 2221720.78it/s]\n",
            "100%|██████████| 1516/1516 [00:00<00:00, 1373340.14it/s]\n",
            "100%|██████████| 1516/1516 [00:00<00:00, 2130886.35it/s]\n",
            "100%|██████████| 1516/1516 [00:00<00:00, 836763.37it/s]\n",
            "100%|██████████| 1516/1516 [00:00<00:00, 2148889.78it/s]\n",
            "100%|██████████| 1516/1516 [00:00<00:00, 776476.35it/s]\n",
            "100%|██████████| 1516/1516 [00:00<00:00, 1253166.11it/s]\n",
            "100%|██████████| 1516/1516 [00:00<00:00, 1061352.84it/s]\n",
            "100%|██████████| 1516/1516 [00:00<00:00, 1366551.66it/s]\n",
            "100%|██████████| 1516/1516 [00:00<00:00, 1342318.95it/s]\n",
            "100%|██████████| 1516/1516 [00:00<00:00, 1363621.03it/s]\n",
            "100%|██████████| 1516/1516 [00:00<00:00, 1378102.48it/s]\n",
            "100%|██████████| 1516/1516 [00:00<00:00, 1346297.88it/s]\n",
            "100%|██████████| 1516/1516 [00:00<00:00, 1854890.57it/s]\n",
            "100%|██████████| 1516/1516 [00:00<00:00, 1309694.10it/s]\n",
            "100%|██████████| 1516/1516 [00:00<00:00, 1331915.56it/s]\n",
            "100%|██████████| 1516/1516 [00:00<00:00, 1691557.56it/s]\n",
            "100%|██████████| 1516/1516 [00:00<00:00, 1404897.23it/s]\n",
            "100%|██████████| 1516/1516 [00:00<00:00, 1290031.42it/s]\n"
          ]
        },
        {
          "output_type": "stream",
          "name": "stdout",
          "text": [
            "CPU times: user 23.8 s, sys: 1.27 s, total: 25.1 s\n",
            "Wall time: 15.3 s\n"
          ]
        }
      ]
    },
    {
      "cell_type": "code",
      "source": [
        "train_vectors_dm = get_vectors(model_dm, len(X_train), 300, 'Train')\n",
        "test_vectors_dm = get_vectors(model_dm, len(X_test), 300, 'Test')"
      ],
      "metadata": {
        "id": "1mMbI0blGWtB"
      },
      "execution_count": null,
      "outputs": []
    },
    {
      "cell_type": "code",
      "source": [
        "from sklearn.linear_model import LogisticRegression\n",
        "from sklearn.metrics import roc_curve, auc,precision_recall_curve,average_precision_score,plot_precision_recall_curve, accuracy_score\n",
        "\n",
        "logreg = LogisticRegression(multi_class='multinomial', solver = 'lbfgs')\n",
        "logreg.fit(train_vectors_dm, y_train)\n",
        "y_pred = logreg.predict(test_vectors_dm)\n",
        "log_acc= accuracy_score(y_test,y_pred)\n",
        "print (str(log_acc)+(\" is the accuracy of the logistic regression model\"))"
      ],
      "metadata": {
        "colab": {
          "base_uri": "https://localhost:8080/"
        },
        "outputId": "8b3cbf7e-1d2b-4629-f0bc-39ff5f39f67b",
        "id": "FFEWQOmPGjKb"
      },
      "execution_count": null,
      "outputs": [
        {
          "output_type": "stream",
          "name": "stdout",
          "text": [
            "0.7670329670329671 is the accuracy of the logistic regression model\n"
          ]
        },
        {
          "output_type": "stream",
          "name": "stderr",
          "text": [
            "/usr/local/lib/python3.7/dist-packages/sklearn/linear_model/_logistic.py:818: ConvergenceWarning: lbfgs failed to converge (status=1):\n",
            "STOP: TOTAL NO. of ITERATIONS REACHED LIMIT.\n",
            "\n",
            "Increase the number of iterations (max_iter) or scale the data as shown in:\n",
            "    https://scikit-learn.org/stable/modules/preprocessing.html\n",
            "Please also refer to the documentation for alternative solver options:\n",
            "    https://scikit-learn.org/stable/modules/linear_model.html#logistic-regression\n",
            "  extra_warning_msg=_LOGISTIC_SOLVER_CONVERGENCE_MSG,\n"
          ]
        }
      ]
    },
    {
      "cell_type": "code",
      "source": [
        "from sklearn.ensemble import RandomForestClassifier\n",
        "\n",
        "rf = RandomForestClassifier(n_estimators=100, random_state=42)\n",
        "rf.fit(train_vectors_dm, y_train)\n",
        "y_pred = rf.predict(test_vectors_dm)\n",
        "rf_acc= accuracy_score(y_test,y_pred)\n",
        "print (str(rf_acc)+(\" is the accuracy of the random forest model\"))"
      ],
      "metadata": {
        "colab": {
          "base_uri": "https://localhost:8080/"
        },
        "outputId": "17c31310-8906-4688-d650-a9ba21b91cfd",
        "id": "URFdxvDOGjKd"
      },
      "execution_count": null,
      "outputs": [
        {
          "output_type": "stream",
          "name": "stdout",
          "text": [
            "0.8175824175824176 is the accuracy of the random forest model\n"
          ]
        }
      ]
    },
    {
      "cell_type": "markdown",
      "source": [
        "**In both variations of Doc2Vec, the random forest classiffier seems to be giving better accuracy.**"
      ],
      "metadata": {
        "id": "tKbfUk0cBzmg"
      }
    }
  ]
}